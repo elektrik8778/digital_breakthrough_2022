{
 "cells": [
  {
   "cell_type": "code",
   "execution_count": 1,
   "id": "c08dd033",
   "metadata": {},
   "outputs": [
    {
     "name": "stdout",
     "output_type": "stream",
     "text": [
      "INFO: Pandarallel will run on 8 workers.\n",
      "INFO: Pandarallel will use standard multiprocessing data transfer (pipe) to transfer data between the main process and workers.\n",
      "\n",
      "WARNING: You are on Windows. If you detect any issue with pandarallel, be sure you checked out the Troubleshooting page:\n",
      "https://nalepae.github.io/pandarallel/troubleshooting/\n"
     ]
    }
   ],
   "source": [
    "import os\n",
    "from datetime import datetime, date\n",
    "import calendar\n",
    "import time\n",
    "import json\n",
    "import numpy as np\n",
    "import warnings\n",
    "warnings.filterwarnings(\"ignore\")\n",
    "\n",
    "import pandas as pd\n",
    "import seaborn as sns\n",
    "import matplotlib.pyplot as plt\n",
    "from sklearn.model_selection import train_test_split\n",
    "from sklearn.ensemble import RandomForestClassifier, RandomForestRegressor\n",
    "\n",
    "\n",
    "from pandarallel import pandarallel\n",
    "pandarallel.initialize(progress_bar=True)\n",
    "\n",
    "from catboost import CatBoostRegressor, CatBoostClassifier, Pool, metrics, cv\n",
    "\n",
    "from sklearn.metrics import recall_score, r2_score\n",
    "\n",
    "%matplotlib inline"
   ]
  },
  {
   "cell_type": "code",
   "execution_count": 2,
   "id": "7c6add06",
   "metadata": {},
   "outputs": [],
   "source": [
    "# df = pd.read_csv(\"data/train_dataset_train.csv\", nrows = 10000)\n",
    "\n",
    "df_train = pd.read_csv(\"data/train_dataset_train.csv\")\n",
    "# df_train = pd.read_csv(\"data/train_additional_dataset.csv\")\n",
    "\n",
    "# df_add = pd.read_csv(\"subway.csv\")\n",
    "\n",
    "df_test = pd.read_csv(\"data/test_dataset_test.csv\")\n",
    "# df_test = pd.read_csv(\"data/test_additional_dataset.csv\")"
   ]
  },
  {
   "cell_type": "code",
   "execution_count": 3,
   "id": "9c5b51c4",
   "metadata": {},
   "outputs": [
    {
     "data": {
      "text/plain": [
       "КОШЕЛЕК                                                   134786\n",
       "30 дней ЕДИНЫЙ ТК                                          90977\n",
       "Социальная карта москвича                                  65307\n",
       "30 дней                                                    60807\n",
       "90 дней ЕДИНЫЙ ТК                                          29938\n",
       "30 дней СК студента                                        24952\n",
       "60 поездок ЕДИНЫЙ ТК                                       23828\n",
       "30 дней Пригород ТК                                        22854\n",
       "СК студента 30 дней                                        20363\n",
       "ББК                                                        15183\n",
       "30 дней СК учащегося                                       12493\n",
       "365 дней ЕДИНЫЙ ТК                                         11215\n",
       "СК учащегося 30 дней                                        9099\n",
       "Социальная карта жителя Моск. области                       7880\n",
       "90 дней                                                     6519\n",
       "Пропуск FacePay                                             4795\n",
       "СК студента 90 дней                                         3419\n",
       "СК учащегося 90 дней                                        1690\n",
       "30 дней  Пригород                                           1666\n",
       "БСК дружинника г.Москвы                                     1578\n",
       "СК для сотрудника ГУВД г.Москвы                             1410\n",
       "90 дней СК студента                                         1374\n",
       "90 дней Пригород ТК                                         1340\n",
       "ВЕСБ МОСКВА (7мин)                                          1233\n",
       "Социальная карта москвича с сопровождающим                  1130\n",
       "90 дней СК учащегося                                         794\n",
       "365 дней Пригород ТК                                         699\n",
       "30 дней СК ординатора                                        668\n",
       "СК аспиранта 30 дней                                         542\n",
       "СК ординатора 30 дней                                        532\n",
       "30 дней СК аспиранта                                         424\n",
       "365 дней                                                     341\n",
       "СК аспиранта 90 дней                                         281\n",
       "Пропуск сотрудника УВД по охране Метрополитена               270\n",
       "3 суток Единый ТК                                            224\n",
       "ВЕСБ МО (7 мин)                                              209\n",
       "СК ординатора 90 дней                                        183\n",
       "Социальная карта жителя Моск. области с сопровождающим       123\n",
       "Ультралайт Единый (70)                                       104\n",
       "Временный билет ММ                                            95\n",
       "90 дней  Пригород                                             89\n",
       "1 сутки ЕДИНЫЙ ТК                                             71\n",
       "Пропуск сотрудника  метрополитена                             64\n",
       "90 дней СК аспиранта                                          55\n",
       "Билет 3 суток ЕДИНЫЙ                                          47\n",
       "90 дней СК ординатора                                         40\n",
       "Пропуск  сотрудника МЦК                                       39\n",
       "ВЕСБ МОСКВА                                                   26\n",
       "СК ассистента-стажера 30 дней                                 23\n",
       "ВЕСБ МО (тип 5)                                               22\n",
       "Безналичная транспортная карта                                22\n",
       "365 дней  Пригород                                            21\n",
       "30 дней СК ассистента-стажера                                 14\n",
       "1 сутки Пригород ТК                                           10\n",
       "СК ассистента-стажера 90 дней                                  8\n",
       "Пропуск руководителя метрополитена                             7\n",
       "СК студента на 3 месяца                                        4\n",
       "ВЛБ МОСКВА                                                     3\n",
       "Name: ticket_type_nm, dtype: int64"
      ]
     },
     "execution_count": 3,
     "metadata": {},
     "output_type": "execute_result"
    }
   ],
   "source": [
    "df_test.ticket_type_nm.value_counts()"
   ]
  },
  {
   "cell_type": "code",
   "execution_count": 4,
   "id": "b56057d1",
   "metadata": {},
   "outputs": [
    {
     "data": {
      "text/plain": [
       "<AxesSubplot: >"
      ]
     },
     "execution_count": 4,
     "metadata": {},
     "output_type": "execute_result"
    },
    {
     "data": {
      "image/png": "[encoded data removed]",
      "text/plain": [
       "<Figure size 1440x720 with 2 Axes>"
      ]
     },
     "metadata": {
      "needs_background": "light"
     },
     "output_type": "display_data"
    }
   ],
   "source": [
    "fig, ax = plt.subplots(nrows=1, ncols=2, figsize=(20, 10))\n",
    "\n",
    "df_train.ticket_type_nm.hist(bins=100, ax=ax[0])\n",
    "df_test.ticket_type_nm.hist(bins=100, ax=ax[1])"
   ]
  },
  {
   "cell_type": "code",
   "execution_count": 5,
   "id": "878fa650",
   "metadata": {},
   "outputs": [
    {
     "data": {
      "text/plain": [
       "КОШЕЛЕК                                                   262499\n",
       "30 дней ЕДИНЫЙ ТК                                         177041\n",
       "Социальная карта москвича                                 127022\n",
       "30 дней                                                   117064\n",
       "90 дней ЕДИНЫЙ ТК                                          58071\n",
       "30 дней СК студента                                        48658\n",
       "60 поездок ЕДИНЫЙ ТК                                       46542\n",
       "30 дней Пригород ТК                                        45381\n",
       "СК студента 30 дней                                        39395\n",
       "ББК                                                        29674\n",
       "30 дней СК учащегося                                       24307\n",
       "365 дней ЕДИНЫЙ ТК                                         20859\n",
       "СК учащегося 30 дней                                       16933\n",
       "Социальная карта жителя Моск. области                      15551\n",
       "90 дней                                                    12817\n",
       "Пропуск FacePay                                             9234\n",
       "СК студента 90 дней                                         6744\n",
       "СК учащегося 90 дней                                        3169\n",
       "30 дней  Пригород                                           3098\n",
       "БСК дружинника г.Москвы                                     2829\n",
       "СК для сотрудника ГУВД г.Москвы                             2634\n",
       "ВЕСБ МОСКВА (7мин)                                          2555\n",
       "90 дней СК студента                                         2535\n",
       "Социальная карта москвича с сопровождающим                  2272\n",
       "90 дней Пригород ТК                                         2258\n",
       "90 дней СК учащегося                                        1549\n",
       "30 дней СК ординатора                                       1264\n",
       "365 дней Пригород ТК                                        1173\n",
       "СК ординатора 30 дней                                       1166\n",
       "30 дней СК аспиранта                                        1045\n",
       "СК аспиранта 30 дней                                         869\n",
       "365 дней                                                     768\n",
       "Пропуск сотрудника УВД по охране Метрополитена               541\n",
       "СК аспиранта 90 дней                                         510\n",
       "3 суток Единый ТК                                            504\n",
       "СК ординатора 90 дней                                        361\n",
       "ВЕСБ МО (7 мин)                                              335\n",
       "Социальная карта жителя Моск. области с сопровождающим       244\n",
       "Ультралайт Единый (70)                                       233\n",
       "90 дней  Пригород                                            188\n",
       "Временный билет ММ                                           159\n",
       "90 дней СК ординатора                                        142\n",
       "1 сутки ЕДИНЫЙ ТК                                            123\n",
       "Пропуск сотрудника  метрополитена                            113\n",
       "Билет 3 суток ЕДИНЫЙ                                         113\n",
       "90 дней СК аспиранта                                          92\n",
       "ВЕСБ МО (тип 5)                                               61\n",
       "Безналичная транспортная карта                                60\n",
       "ВЕСБ МОСКВА                                                   56\n",
       "30 дней СК ассистента-стажера                                 49\n",
       "Пропуск  сотрудника МЦК                                       44\n",
       "СК ассистента-стажера 30 дней                                 34\n",
       "365 дней  Пригород                                            30\n",
       "Пропуск руководителя метрополитена                            24\n",
       "СК ассистента-стажера 90 дней                                 10\n",
       "1 сутки Пригород ТК                                            7\n",
       "ВЛБ МОСКВА                                                     6\n",
       "ВЕСБ МО с сопровождающим                                       2\n",
       "ВЕСБ МО (тип 6)                                                2\n",
       "Билет 1 сутки ЕДИНЫЙ                                           2\n",
       "Name: ticket_type_nm, dtype: int64"
      ]
     },
     "execution_count": 5,
     "metadata": {},
     "output_type": "execute_result"
    }
   ],
   "source": [
    "df_train.ticket_type_nm.value_counts()"
   ]
  },
  {
   "cell_type": "code",
   "execution_count": null,
   "id": "22008d61",
   "metadata": {},
   "outputs": [],
   "source": []
  },
  {
   "cell_type": "code",
   "execution_count": 6,
   "id": "66cb3a10",
   "metadata": {},
   "outputs": [
    {
     "data": {
      "text/plain": [
       "['Пропуск FacePay',\n",
       " 'СК учащегося 30 дней',\n",
       " 'БСК дружинника г.Москвы',\n",
       " '30 дней',\n",
       " 'КОШЕЛЕК',\n",
       " 'СК студента 30 дней',\n",
       " '90 дней',\n",
       " '90 дней ЕДИНЫЙ ТК',\n",
       " '30 дней СК учащегося',\n",
       " '90 дней СК студента',\n",
       " '30 дней СК студента',\n",
       " 'ББК',\n",
       " 'СК аспиранта 90 дней',\n",
       " 'Социальная карта москвича',\n",
       " '30 дней ЕДИНЫЙ ТК',\n",
       " 'Социальная карта жителя Моск. области',\n",
       " '30 дней Пригород ТК',\n",
       " 'Социальная карта москвича с сопровождающим',\n",
       " 'Пропуск сотрудника УВД по охране Метрополитена',\n",
       " '60 поездок ЕДИНЫЙ ТК',\n",
       " 'СК для сотрудника ГУВД г.Москвы',\n",
       " '365 дней ЕДИНЫЙ ТК',\n",
       " 'ВЕСБ МОСКВА (7мин)',\n",
       " 'СК студента 90 дней',\n",
       " '90 дней Пригород ТК',\n",
       " '30 дней  Пригород',\n",
       " '365 дней Пригород ТК',\n",
       " '365 дней',\n",
       " 'СК ординатора 30 дней',\n",
       " '30 дней СК аспиранта',\n",
       " '30 дней СК ординатора',\n",
       " '90 дней СК ординатора',\n",
       " 'ВЕСБ МО (7 мин)',\n",
       " 'ВЕСБ МО (тип 5)',\n",
       " 'СК ординатора 90 дней',\n",
       " 'СК аспиранта 30 дней',\n",
       " '90 дней СК учащегося',\n",
       " 'Временный билет ММ',\n",
       " 'Социальная карта жителя Моск. области с сопровождающим',\n",
       " 'СК учащегося 90 дней',\n",
       " '3 суток Единый ТК',\n",
       " 'Пропуск сотрудника  метрополитена',\n",
       " 'ВЕСБ МОСКВА',\n",
       " 'Безналичная транспортная карта',\n",
       " '90 дней  Пригород',\n",
       " '1 сутки ЕДИНЫЙ ТК',\n",
       " 'Ультралайт Единый (70)',\n",
       " 'Пропуск руководителя метрополитена',\n",
       " 'Пропуск  сотрудника МЦК',\n",
       " '90 дней СК аспиранта',\n",
       " '365 дней  Пригород',\n",
       " '1 сутки Пригород ТК',\n",
       " 'ВЛБ МОСКВА',\n",
       " 'ВЕСБ МО с сопровождающим',\n",
       " 'СК ассистента-стажера 30 дней',\n",
       " 'СК ассистента-стажера 90 дней',\n",
       " 'Билет 3 суток ЕДИНЫЙ',\n",
       " '30 дней СК ассистента-стажера',\n",
       " 'ВЕСБ МО (тип 6)',\n",
       " 'Билет 1 сутки ЕДИНЫЙ']"
      ]
     },
     "execution_count": 6,
     "metadata": {},
     "output_type": "execute_result"
    }
   ],
   "source": [
    "df1 = df_train.ticket_type_nm.unique()\n",
    "df1.tolist()\n",
    "# df[\"day_of_week\"].astype('category').cat.codes\n",
    "# df[\"day_of_week\"] = df[\"day_of_week\"].cat.codes"
   ]
  },
  {
   "cell_type": "code",
   "execution_count": 7,
   "id": "369cf276",
   "metadata": {},
   "outputs": [
    {
     "data": {
      "text/plain": [
       "['КОШЕЛЕК',\n",
       " 'Пропуск FacePay',\n",
       " 'СК студента 30 дней',\n",
       " 'СК учащегося 30 дней',\n",
       " '30 дней ЕДИНЫЙ ТК',\n",
       " 'Социальная карта москвича',\n",
       " '90 дней ЕДИНЫЙ ТК',\n",
       " '60 поездок ЕДИНЫЙ ТК',\n",
       " '30 дней',\n",
       " 'Социальная карта жителя Моск. области',\n",
       " '365 дней ЕДИНЫЙ ТК',\n",
       " '30 дней Пригород ТК',\n",
       " '30 дней  Пригород',\n",
       " '90 дней',\n",
       " 'ББК',\n",
       " '90 дней Пригород ТК',\n",
       " 'Пропуск сотрудника  метрополитена',\n",
       " '30 дней СК студента',\n",
       " 'ВЕСБ МОСКВА (7мин)',\n",
       " '365 дней',\n",
       " 'БСК дружинника г.Москвы',\n",
       " 'СК для сотрудника ГУВД г.Москвы',\n",
       " 'Пропуск сотрудника УВД по охране Метрополитена',\n",
       " '30 дней СК учащегося',\n",
       " 'Социальная карта москвича с сопровождающим',\n",
       " 'СК студента 90 дней',\n",
       " 'СК аспиранта 30 дней',\n",
       " 'СК учащегося 90 дней',\n",
       " '30 дней СК ординатора',\n",
       " 'Социальная карта жителя Моск. области с сопровождающим',\n",
       " '365 дней Пригород ТК',\n",
       " '90 дней СК студента',\n",
       " 'ВЕСБ МО (7 мин)',\n",
       " 'СК ординатора 30 дней',\n",
       " 'СК ассистента-стажера 90 дней',\n",
       " '90 дней СК ординатора',\n",
       " '30 дней СК аспиранта',\n",
       " 'ВЕСБ МО (тип 5)',\n",
       " '90 дней СК учащегося',\n",
       " '3 суток Единый ТК',\n",
       " '90 дней  Пригород',\n",
       " '1 сутки ЕДИНЫЙ ТК',\n",
       " 'СК ординатора 90 дней',\n",
       " 'СК аспиранта 90 дней',\n",
       " 'Ультралайт Единый (70)',\n",
       " 'Временный билет ММ',\n",
       " 'ВЕСБ МОСКВА',\n",
       " 'Безналичная транспортная карта',\n",
       " '365 дней  Пригород',\n",
       " 'Пропуск  сотрудника МЦК',\n",
       " '90 дней СК аспиранта',\n",
       " 'СК ассистента-стажера 30 дней',\n",
       " '1 сутки Пригород ТК',\n",
       " 'Пропуск руководителя метрополитена',\n",
       " '30 дней СК ассистента-стажера',\n",
       " 'СК студента на 3 месяца',\n",
       " 'Билет 3 суток ЕДИНЫЙ',\n",
       " 'ВЛБ МОСКВА']"
      ]
     },
     "execution_count": 7,
     "metadata": {},
     "output_type": "execute_result"
    }
   ],
   "source": [
    "df2 = df_test.ticket_type_nm.unique()\n",
    "df2.tolist()"
   ]
  },
  {
   "cell_type": "code",
   "execution_count": 8,
   "id": "2ecce1fe",
   "metadata": {},
   "outputs": [
    {
     "name": "stdout",
     "output_type": "stream",
     "text": [
      "ВЕСБ МО с сопровождающим\n",
      "ВЕСБ МО (тип 6)\n",
      "Билет 1 сутки ЕДИНЫЙ\n"
     ]
    }
   ],
   "source": [
    "for i in df1.tolist():\n",
    "    if i not in df2.tolist():\n",
    "        print(i)"
   ]
  },
  {
   "cell_type": "code",
   "execution_count": 9,
   "id": "9651e6bf",
   "metadata": {},
   "outputs": [
    {
     "name": "stdout",
     "output_type": "stream",
     "text": [
      "СК студента на 3 месяца\n"
     ]
    }
   ],
   "source": [
    "for i in df2.tolist():\n",
    "    if i not in df1.tolist():\n",
    "        print(i)"
   ]
  },
  {
   "cell_type": "code",
   "execution_count": 10,
   "id": "ea7544de",
   "metadata": {},
   "outputs": [],
   "source": [
    "df_train = df_train[df_train.ticket_type_nm != 'Билет 1 сутки ЕДИНЫЙ']\n",
    "df_train = df_train[df_train.ticket_type_nm != 'ВЕСБ МО с сопровождающим']\n",
    "df_train = df_train[df_train.ticket_type_nm != 'ВЕСБ МО (тип 6)']"
   ]
  },
  {
   "cell_type": "code",
   "execution_count": 13,
   "id": "ae066161",
   "metadata": {},
   "outputs": [],
   "source": [
    "lst_sc_uch = [\n",
    "    'СК учащегося 30 дней',\n",
    "    '90 дней СК учащегося',\n",
    "    'СК учащегося 90 дней',\n",
    "    '30 дней СК учащегося',\n",
    "]\n",
    "\n",
    "\n",
    "lst_sc_stu = [\n",
    "    'СК студента 30 дней',\n",
    "    '30 дней СК студента',\n",
    "    '90 дней СК студента',\n",
    "    'СК студента 90 дней',\n",
    "    'СК студента на 3 месяца'\n",
    "]\n",
    "\n",
    "df_train.loc[df_train['ticket_type_nm'].isin(lst_sc_uch), 'ticket_type_nm'] = 'СК учащегося'\n",
    "df_train.loc[df_train['ticket_type_nm'].isin(lst_sc_stu), 'ticket_type_nm'] = 'СК студента'\n",
    "\n",
    "df_test.loc[df_test['ticket_type_nm'].isin(lst_sc_stu), 'ticket_type_nm'] = 'СК студента'\n",
    "df_test.loc[df_test['ticket_type_nm'].isin(lst_sc_uch), 'ticket_type_nm'] = 'СК учащегося'"
   ]
  },
  {
   "cell_type": "code",
   "execution_count": 14,
   "id": "4888c078",
   "metadata": {},
   "outputs": [
    {
     "data": {
      "text/plain": [
       "51"
      ]
     },
     "execution_count": 14,
     "metadata": {},
     "output_type": "execute_result"
    }
   ],
   "source": [
    "len(df_train.ticket_type_nm.unique().tolist())"
   ]
  },
  {
   "cell_type": "code",
   "execution_count": 15,
   "id": "f0e135e7",
   "metadata": {},
   "outputs": [
    {
     "data": {
      "text/plain": [
       "51"
      ]
     },
     "execution_count": 15,
     "metadata": {},
     "output_type": "execute_result"
    }
   ],
   "source": [
    "len(df_test.ticket_type_nm.unique().tolist())"
   ]
  },
  {
   "cell_type": "code",
   "execution_count": 16,
   "id": "05d339af",
   "metadata": {},
   "outputs": [],
   "source": [
    "df_train[\"ticket_type_nm\"] = pd.Categorical(df_train[\"ticket_type_nm\"])\n",
    "df_train[\"ticket_type_nm\"].astype('category').cat.codes\n",
    "df_train[\"ticket_type_nm\"] = df_train[\"ticket_type_nm\"].cat.codes\n",
    "\n",
    "df_test[\"ticket_type_nm\"] = pd.Categorical(df_test[\"ticket_type_nm\"])\n",
    "df_test[\"ticket_type_nm\"].astype('category').cat.codes\n",
    "df_test[\"ticket_type_nm\"] = df_test[\"ticket_type_nm\"].cat.codes"
   ]
  },
  {
   "cell_type": "code",
   "execution_count": 17,
   "id": "b8958973",
   "metadata": {},
   "outputs": [],
   "source": [
    "df_train.loc[(df_train['station_nm']=='Авиамоторная') & (df_train['line_id']==11), 'line_id'] = 15\n",
    "df_train.loc[(df_train['station_nm']=='Авиамоторная') & (df_train['line_id']==15), 'line_nm'] = 'Некрасовская'\n",
    "\n",
    "df_train.loc[(df_train['station_nm']=='Лефортово') & (df_train['line_id']==11), 'line_id'] = 15\n",
    "df_train.loc[(df_train['station_nm']=='Лефортово') & (df_train['line_id']==15), 'line_nm'] = 'Некрасовская'\n",
    "\n",
    "df_train.loc[(df_train['station_nm']=='Электрозаводская') & (df_train['line_id']==11), 'line_id'] = 15\n",
    "df_train.loc[(df_train['station_nm']=='Электрозаводская') & (df_train['line_id']==15), 'line_nm'] = 'Некрасовская'\n",
    "\n",
    "\n",
    "df_test.loc[(df_test['station_nm']=='Авиамоторная') & (df_test['line_id']==11), 'line_id'] = 15\n",
    "df_test.loc[(df_test['station_nm']=='Авиамоторная') & (df_test['line_id']==15), 'line_nm'] = 'Некрасовская'\n",
    "\n",
    "df_test.loc[(df_test['station_nm']=='Лефортово') & (df_test['line_id']==11), 'line_id'] = 15\n",
    "df_test.loc[(df_test['station_nm']=='Лефортово') & (df_test['line_id']==15), 'line_nm'] = 'Некрасовская'\n",
    "\n",
    "df_test.loc[(df_test['station_nm']=='Электрозаводская') & (df_test['line_id']==11), 'line_id'] = 15\n",
    "df_test.loc[(df_test['station_nm']=='Электрозаводская') & (df_test['line_id']==15), 'line_nm'] = 'Некрасовская'"
   ]
  },
  {
   "cell_type": "code",
   "execution_count": 18,
   "id": "053792e5",
   "metadata": {},
   "outputs": [
    {
     "name": "stdout",
     "output_type": "stream",
     "text": [
      "<class 'pandas.core.frame.DataFrame'>\n",
      "RangeIndex: 561890 entries, 0 to 561889\n",
      "Data columns (total 10 columns):\n",
      " #   Column          Non-Null Count   Dtype \n",
      "---  ------          --------------   ----- \n",
      " 0   id              561890 non-null  int64 \n",
      " 1   ticket_id       561890 non-null  object\n",
      " 2   ticket_type_nm  561890 non-null  int8  \n",
      " 3   entrance_id     561890 non-null  int64 \n",
      " 4   entrance_nm     561890 non-null  object\n",
      " 5   station_id      561890 non-null  int64 \n",
      " 6   station_nm      561890 non-null  object\n",
      " 7   line_id         561890 non-null  int64 \n",
      " 8   line_nm         561890 non-null  object\n",
      " 9   pass_dttm       561890 non-null  object\n",
      "dtypes: int64(4), int8(1), object(5)\n",
      "memory usage: 39.1+ MB\n"
     ]
    }
   ],
   "source": [
    "df_test.info()"
   ]
  },
  {
   "cell_type": "code",
   "execution_count": 19,
   "id": "69fcde4d",
   "metadata": {},
   "outputs": [
    {
     "name": "stdout",
     "output_type": "stream",
     "text": [
      "<class 'pandas.core.frame.DataFrame'>\n",
      "Int64Index: 1091015 entries, 0 to 1091020\n",
      "Data columns (total 12 columns):\n",
      " #   Column          Non-Null Count    Dtype  \n",
      "---  ------          --------------    -----  \n",
      " 0   id              1091015 non-null  int64  \n",
      " 1   ticket_id       1091015 non-null  object \n",
      " 2   ticket_type_nm  1091015 non-null  int8   \n",
      " 3   entrance_id     1091015 non-null  int64  \n",
      " 4   entrance_nm     1091015 non-null  object \n",
      " 5   station_id      1091015 non-null  int64  \n",
      " 6   station_nm      1091015 non-null  object \n",
      " 7   line_id         1091015 non-null  int64  \n",
      " 8   line_nm         1091015 non-null  object \n",
      " 9   pass_dttm       1091015 non-null  object \n",
      " 10  time_to_under   1091015 non-null  float64\n",
      " 11  label           1091015 non-null  int64  \n",
      "dtypes: float64(1), int64(5), int8(1), object(5)\n",
      "memory usage: 100.9+ MB\n"
     ]
    }
   ],
   "source": [
    "df_train.info()"
   ]
  },
  {
   "cell_type": "code",
   "execution_count": 20,
   "id": "930c8ce7",
   "metadata": {},
   "outputs": [],
   "source": [
    "df_stations = pd.read_csv(\"data/stations2.csv\")"
   ]
  },
  {
   "cell_type": "code",
   "execution_count": 21,
   "id": "03dcd32b",
   "metadata": {},
   "outputs": [],
   "source": [
    "def get_lat(x):\n",
    "#     import pandas as pd\n",
    "#     df_stations = pd.read_csv(\"data/stations2.csv\")\n",
    "    \n",
    "    try:\n",
    "        station_ = x['station_nm']\n",
    "        line_id_ = x['line_id']\n",
    "        res = df_stations[(df_stations['station_nm']==station_) & (df_stations['line_id']==line_id_)]['geo_lat'].to_list()[0]\n",
    "#         print(res)\n",
    "        return float(res)\n",
    "    except:\n",
    "        print('NaN', station_, line_id_)\n",
    "        return 'NaN'\n",
    "    \n",
    "def get_lon(x):\n",
    "#     import pandas as pd\n",
    "#     df_stations = pd.read_csv(\"data/stations2.csv\")\n",
    "    try:\n",
    "        station_ = x['station_nm']\n",
    "        line_id_ = x['line_id']\n",
    "        res = df_stations[(df_stations['station_nm']==station_) & (df_stations['line_id']==line_id_)]['geo_lon'].to_list()[0]\n",
    "#         print(res)\n",
    "        return float(res)\n",
    "    except:\n",
    "        print('NaN', station_, line_id_)\n",
    "        return 'NaN'\n",
    "    \n",
    "def get_dist(x):\n",
    "#     import pandas as pd\n",
    "#     df_stations = pd.read_csv(\"data/stations2.csv\")\n",
    "    try:\n",
    "        station_ = x['station_nm']\n",
    "        line_id_ = x['line_id']\n",
    "        res = df_stations[(df_stations['station_nm']==station_) & (df_stations['line_id']==line_id_)]['st_dist_from_center'].to_list()[0]\n",
    "#         print(res)\n",
    "        return float(res)\n",
    "    except:\n",
    "        print('NaN', station_, line_id_)\n",
    "        return 'NaN'"
   ]
  },
  {
   "cell_type": "code",
   "execution_count": 22,
   "id": "d1273b2b",
   "metadata": {},
   "outputs": [],
   "source": [
    "df_train['geo_lat'] = df_train.apply(get_lat, axis=1)"
   ]
  },
  {
   "cell_type": "code",
   "execution_count": 23,
   "id": "ea8a6b3b",
   "metadata": {},
   "outputs": [],
   "source": [
    "df_train['geo_lon'] = df_train.apply(get_lon, axis=1)"
   ]
  },
  {
   "cell_type": "code",
   "execution_count": 24,
   "id": "fd2a505a",
   "metadata": {},
   "outputs": [],
   "source": [
    "df_train['geo_dist'] = df_train.apply(get_dist, axis=1)"
   ]
  },
  {
   "cell_type": "code",
   "execution_count": 25,
   "id": "aeb462f0",
   "metadata": {},
   "outputs": [],
   "source": [
    "df_test['geo_lat'] = df_test.apply(get_lat, axis=1)"
   ]
  },
  {
   "cell_type": "code",
   "execution_count": 26,
   "id": "0f93f981",
   "metadata": {},
   "outputs": [],
   "source": [
    "df_test['geo_lon'] = df_test.apply(get_lon, axis=1)"
   ]
  },
  {
   "cell_type": "code",
   "execution_count": 27,
   "id": "cce154e9",
   "metadata": {},
   "outputs": [],
   "source": [
    "df_test['geo_dist'] = df_test.apply(get_dist, axis=1)"
   ]
  },
  {
   "cell_type": "code",
   "execution_count": null,
   "id": "1f4a1e32",
   "metadata": {},
   "outputs": [],
   "source": []
  },
  {
   "cell_type": "code",
   "execution_count": null,
   "id": "a38ac22e",
   "metadata": {},
   "outputs": [],
   "source": []
  },
  {
   "cell_type": "code",
   "execution_count": 30,
   "id": "6e1a75d2",
   "metadata": {},
   "outputs": [
    {
     "data": {
      "application/vnd.jupyter.widget-view+json": {
       "model_id": "2f16b79777b64df291568a390787cfa1",
       "version_major": 2,
       "version_minor": 0
      },
      "text/plain": [
       "VBox(children=(HBox(children=(IntProgress(value=0, description='0.00%', max=136377), Label(value='0 / 136377')…"
      ]
     },
     "metadata": {},
     "output_type": "display_data"
    },
    {
     "data": {
      "application/vnd.jupyter.widget-view+json": {
       "model_id": "06aa64af1a1844e9be3a0453787c7f4d",
       "version_major": 2,
       "version_minor": 0
      },
      "text/plain": [
       "VBox(children=(HBox(children=(IntProgress(value=0, description='0.00%', max=136377), Label(value='0 / 136377')…"
      ]
     },
     "metadata": {},
     "output_type": "display_data"
    },
    {
     "data": {
      "application/vnd.jupyter.widget-view+json": {
       "model_id": "73498880c64c42e091b7ba36ab678fac",
       "version_major": 2,
       "version_minor": 0
      },
      "text/plain": [
       "VBox(children=(HBox(children=(IntProgress(value=0, description='0.00%', max=70237), Label(value='0 / 70237')))…"
      ]
     },
     "metadata": {},
     "output_type": "display_data"
    },
    {
     "data": {
      "application/vnd.jupyter.widget-view+json": {
       "model_id": "99f9dcc3395c4d0e9f83570b6cb52f14",
       "version_major": 2,
       "version_minor": 0
      },
      "text/plain": [
       "VBox(children=(HBox(children=(IntProgress(value=0, description='0.00%', max=70237), Label(value='0 / 70237')))…"
      ]
     },
     "metadata": {},
     "output_type": "display_data"
    }
   ],
   "source": [
    "df_train[\"day\"] = df_train.pass_dttm.parallel_map(lambda x: int(x.split(\"-\")[2].split(\" \")[0]))\n",
    "df_train[\"hours\"] = df_train.pass_dttm.parallel_map(lambda x: int(x.split(\"-\")[2].split(\" \")[1].split(\":\")[0]))\n",
    "\n",
    "df_test[\"day\"] = df_test.pass_dttm.parallel_map(lambda x: int(x.split(\"-\")[2].split(\" \")[0]))\n",
    "df_test[\"hours\"] = df_test.pass_dttm.parallel_map(lambda x: int(x.split(\"-\")[2].split(\" \")[1].split(\":\")[0]))"
   ]
  },
  {
   "cell_type": "code",
   "execution_count": 33,
   "id": "b279b8e5",
   "metadata": {},
   "outputs": [],
   "source": [
    "df_train[\"day_of_week\"] = df_train.pass_dttm.map(lambda x: calendar.day_name[datetime.strptime(x, '%Y-%m-%d %H:%M:%S').weekday()])"
   ]
  },
  {
   "cell_type": "code",
   "execution_count": 35,
   "id": "8e185388",
   "metadata": {},
   "outputs": [],
   "source": [
    "df_test[\"day_of_week\"] = df_test.pass_dttm.map(lambda x: calendar.day_name[datetime.strptime(x, '%Y-%m-%d %H:%M:%S').weekday()])"
   ]
  },
  {
   "cell_type": "code",
   "execution_count": 38,
   "id": "9ddcbdb0",
   "metadata": {},
   "outputs": [
    {
     "data": {
      "application/vnd.jupyter.widget-view+json": {
       "model_id": "56b7b61c3c1440238f1b721e0aa502ce",
       "version_major": 2,
       "version_minor": 0
      },
      "text/plain": [
       "VBox(children=(HBox(children=(IntProgress(value=0, description='0.00%', max=136377), Label(value='0 / 136377')…"
      ]
     },
     "metadata": {},
     "output_type": "display_data"
    },
    {
     "data": {
      "application/vnd.jupyter.widget-view+json": {
       "model_id": "04b807347596402c8704122cf1aecd74",
       "version_major": 2,
       "version_minor": 0
      },
      "text/plain": [
       "VBox(children=(HBox(children=(IntProgress(value=0, description='0.00%', max=70237), Label(value='0 / 70237')))…"
      ]
     },
     "metadata": {},
     "output_type": "display_data"
    }
   ],
   "source": [
    "df_train[\"isDayOff\"] = df_train.day_of_week.parallel_map(lambda x: 1 if x=='Saturday' or x=='Sunday' else 0)\n",
    "df_test[\"isDayOff\"] = df_test.day_of_week.parallel_map(lambda x: 1 if x=='Saturday' or x=='Sunday' else 0)"
   ]
  },
  {
   "cell_type": "code",
   "execution_count": 43,
   "id": "73edf68b",
   "metadata": {},
   "outputs": [],
   "source": [
    "df_train[\"day_of_week\"] = pd.Categorical(df_train[\"day_of_week\"])\n",
    "df_train[\"day_of_week\"].astype('category').cat.codes\n",
    "df_train[\"day_of_week\"] = df_train[\"day_of_week\"].cat.codes\n",
    "\n",
    "df_test[\"day_of_week\"] = pd.Categorical(df_test[\"day_of_week\"])\n",
    "df_test[\"day_of_week\"].astype('category').cat.codes\n",
    "df_test[\"day_of_week\"] = df_test[\"day_of_week\"].cat.codes"
   ]
  },
  {
   "cell_type": "code",
   "execution_count": 44,
   "id": "6471a723",
   "metadata": {},
   "outputs": [
    {
     "data": {
      "text/html": [
       "<div>\n",
       "<style scoped>\n",
       "    .dataframe tbody tr th:only-of-type {\n",
       "        vertical-align: middle;\n",
       "    }\n",
       "\n",
       "    .dataframe tbody tr th {\n",
       "        vertical-align: top;\n",
       "    }\n",
       "\n",
       "    .dataframe thead th {\n",
       "        text-align: right;\n",
       "    }\n",
       "</style>\n",
       "<table border=\"1\" class=\"dataframe\">\n",
       "  <thead>\n",
       "    <tr style=\"text-align: right;\">\n",
       "      <th></th>\n",
       "      <th>id</th>\n",
       "      <th>ticket_id</th>\n",
       "      <th>ticket_type_nm</th>\n",
       "      <th>entrance_id</th>\n",
       "      <th>entrance_nm</th>\n",
       "      <th>station_id</th>\n",
       "      <th>station_nm</th>\n",
       "      <th>line_id</th>\n",
       "      <th>line_nm</th>\n",
       "      <th>pass_dttm</th>\n",
       "      <th>geo_lat</th>\n",
       "      <th>geo_lon</th>\n",
       "      <th>geo_dist</th>\n",
       "      <th>day</th>\n",
       "      <th>hours</th>\n",
       "      <th>day_of_week</th>\n",
       "      <th>isDayOff</th>\n",
       "    </tr>\n",
       "  </thead>\n",
       "  <tbody>\n",
       "    <tr>\n",
       "      <th>0</th>\n",
       "      <td>1091022</td>\n",
       "      <td>425A13E16226CA01032043111488E0F5</td>\n",
       "      <td>31</td>\n",
       "      <td>110</td>\n",
       "      <td>Войковская ( Южный )</td>\n",
       "      <td>2006</td>\n",
       "      <td>Войковская</td>\n",
       "      <td>2</td>\n",
       "      <td>Замоскворецкая</td>\n",
       "      <td>2022-09-12 05:00:03</td>\n",
       "      <td>55.818923</td>\n",
       "      <td>37.497791</td>\n",
       "      <td>10.475917</td>\n",
       "      <td>12</td>\n",
       "      <td>5</td>\n",
       "      <td>1</td>\n",
       "      <td>0</td>\n",
       "    </tr>\n",
       "    <tr>\n",
       "      <th>1</th>\n",
       "      <td>1091023</td>\n",
       "      <td>F94EDC107A4E054786882F9453C1B93F</td>\n",
       "      <td>33</td>\n",
       "      <td>184</td>\n",
       "      <td>Молодёжная (Западный)</td>\n",
       "      <td>3010</td>\n",
       "      <td>Молодёжная</td>\n",
       "      <td>3</td>\n",
       "      <td>Арбатско-Покровская</td>\n",
       "      <td>2022-09-12 05:00:45</td>\n",
       "      <td>55.741375</td>\n",
       "      <td>37.415627</td>\n",
       "      <td>12.613728</td>\n",
       "      <td>12</td>\n",
       "      <td>5</td>\n",
       "      <td>1</td>\n",
       "      <td>0</td>\n",
       "    </tr>\n",
       "    <tr>\n",
       "      <th>2</th>\n",
       "      <td>1091024</td>\n",
       "      <td>8F13BFBA98A7DD34B11BD2DDCC5CA68E</td>\n",
       "      <td>44</td>\n",
       "      <td>110</td>\n",
       "      <td>Войковская ( Южный )</td>\n",
       "      <td>2006</td>\n",
       "      <td>Войковская</td>\n",
       "      <td>2</td>\n",
       "      <td>Замоскворецкая</td>\n",
       "      <td>2022-09-12 05:00:52</td>\n",
       "      <td>55.818923</td>\n",
       "      <td>37.497791</td>\n",
       "      <td>10.475917</td>\n",
       "      <td>12</td>\n",
       "      <td>5</td>\n",
       "      <td>1</td>\n",
       "      <td>0</td>\n",
       "    </tr>\n",
       "    <tr>\n",
       "      <th>3</th>\n",
       "      <td>1091025</td>\n",
       "      <td>7B98691636EC418ABF6FEDDE4D7C68FC</td>\n",
       "      <td>31</td>\n",
       "      <td>107</td>\n",
       "      <td>Сокол ( Южн./Вост. )</td>\n",
       "      <td>2018</td>\n",
       "      <td>Сокол</td>\n",
       "      <td>2</td>\n",
       "      <td>Замоскворецкая</td>\n",
       "      <td>2022-09-12 05:00:58</td>\n",
       "      <td>55.805564</td>\n",
       "      <td>37.515245</td>\n",
       "      <td>8.654266</td>\n",
       "      <td>12</td>\n",
       "      <td>5</td>\n",
       "      <td>1</td>\n",
       "      <td>0</td>\n",
       "    </tr>\n",
       "    <tr>\n",
       "      <th>4</th>\n",
       "      <td>1091026</td>\n",
       "      <td>679C55C28CB36FB546FD104502C0B3DB</td>\n",
       "      <td>31</td>\n",
       "      <td>110</td>\n",
       "      <td>Войковская ( Южный )</td>\n",
       "      <td>2006</td>\n",
       "      <td>Войковская</td>\n",
       "      <td>2</td>\n",
       "      <td>Замоскворецкая</td>\n",
       "      <td>2022-09-12 05:01:39</td>\n",
       "      <td>55.818923</td>\n",
       "      <td>37.497791</td>\n",
       "      <td>10.475917</td>\n",
       "      <td>12</td>\n",
       "      <td>5</td>\n",
       "      <td>1</td>\n",
       "      <td>0</td>\n",
       "    </tr>\n",
       "  </tbody>\n",
       "</table>\n",
       "</div>"
      ],
      "text/plain": [
       "        id                         ticket_id  ticket_type_nm  entrance_id  \\\n",
       "0  1091022  425A13E16226CA01032043111488E0F5              31          110   \n",
       "1  1091023  F94EDC107A4E054786882F9453C1B93F              33          184   \n",
       "2  1091024  8F13BFBA98A7DD34B11BD2DDCC5CA68E              44          110   \n",
       "3  1091025  7B98691636EC418ABF6FEDDE4D7C68FC              31          107   \n",
       "4  1091026  679C55C28CB36FB546FD104502C0B3DB              31          110   \n",
       "\n",
       "             entrance_nm  station_id  station_nm  line_id  \\\n",
       "0   Войковская ( Южный )        2006  Войковская        2   \n",
       "1  Молодёжная (Западный)        3010  Молодёжная        3   \n",
       "2   Войковская ( Южный )        2006  Войковская        2   \n",
       "3   Сокол ( Южн./Вост. )        2018       Сокол        2   \n",
       "4   Войковская ( Южный )        2006  Войковская        2   \n",
       "\n",
       "               line_nm            pass_dttm    geo_lat    geo_lon   geo_dist  \\\n",
       "0       Замоскворецкая  2022-09-12 05:00:03  55.818923  37.497791  10.475917   \n",
       "1  Арбатско-Покровская  2022-09-12 05:00:45  55.741375  37.415627  12.613728   \n",
       "2       Замоскворецкая  2022-09-12 05:00:52  55.818923  37.497791  10.475917   \n",
       "3       Замоскворецкая  2022-09-12 05:00:58  55.805564  37.515245   8.654266   \n",
       "4       Замоскворецкая  2022-09-12 05:01:39  55.818923  37.497791  10.475917   \n",
       "\n",
       "   day  hours  day_of_week  isDayOff  \n",
       "0   12      5            1         0  \n",
       "1   12      5            1         0  \n",
       "2   12      5            1         0  \n",
       "3   12      5            1         0  \n",
       "4   12      5            1         0  "
      ]
     },
     "execution_count": 44,
     "metadata": {},
     "output_type": "execute_result"
    }
   ],
   "source": [
    "df_test.head()"
   ]
  },
  {
   "cell_type": "code",
   "execution_count": 45,
   "id": "d0579dd2",
   "metadata": {},
   "outputs": [
    {
     "data": {
      "text/html": [
       "<div>\n",
       "<style scoped>\n",
       "    .dataframe tbody tr th:only-of-type {\n",
       "        vertical-align: middle;\n",
       "    }\n",
       "\n",
       "    .dataframe tbody tr th {\n",
       "        vertical-align: top;\n",
       "    }\n",
       "\n",
       "    .dataframe thead th {\n",
       "        text-align: right;\n",
       "    }\n",
       "</style>\n",
       "<table border=\"1\" class=\"dataframe\">\n",
       "  <thead>\n",
       "    <tr style=\"text-align: right;\">\n",
       "      <th></th>\n",
       "      <th>id</th>\n",
       "      <th>ticket_id</th>\n",
       "      <th>ticket_type_nm</th>\n",
       "      <th>entrance_id</th>\n",
       "      <th>entrance_nm</th>\n",
       "      <th>station_id</th>\n",
       "      <th>station_nm</th>\n",
       "      <th>line_id</th>\n",
       "      <th>line_nm</th>\n",
       "      <th>pass_dttm</th>\n",
       "      <th>time_to_under</th>\n",
       "      <th>label</th>\n",
       "      <th>geo_lat</th>\n",
       "      <th>geo_lon</th>\n",
       "      <th>geo_dist</th>\n",
       "      <th>day</th>\n",
       "      <th>hours</th>\n",
       "      <th>day_of_week</th>\n",
       "      <th>isDayOff</th>\n",
       "    </tr>\n",
       "  </thead>\n",
       "  <tbody>\n",
       "    <tr>\n",
       "      <th>0</th>\n",
       "      <td>1</td>\n",
       "      <td>40BD89EC85646EFB69E283F39C298E60</td>\n",
       "      <td>33</td>\n",
       "      <td>2402</td>\n",
       "      <td>Лефортово БКЛ</td>\n",
       "      <td>11007</td>\n",
       "      <td>Лефортово</td>\n",
       "      <td>15</td>\n",
       "      <td>Некрасовская</td>\n",
       "      <td>2022-09-12 05:00:13</td>\n",
       "      <td>216.316667</td>\n",
       "      <td>8001</td>\n",
       "      <td>55.764693</td>\n",
       "      <td>37.706757</td>\n",
       "      <td>5.891479</td>\n",
       "      <td>12</td>\n",
       "      <td>5</td>\n",
       "      <td>1</td>\n",
       "      <td>0</td>\n",
       "    </tr>\n",
       "    <tr>\n",
       "      <th>1</th>\n",
       "      <td>2</td>\n",
       "      <td>126727A96489CC976A8C08E5CEB00542</td>\n",
       "      <td>45</td>\n",
       "      <td>110</td>\n",
       "      <td>Войковская ( Южный )</td>\n",
       "      <td>2006</td>\n",
       "      <td>Войковская</td>\n",
       "      <td>2</td>\n",
       "      <td>Замоскворецкая</td>\n",
       "      <td>2022-09-12 05:00:54</td>\n",
       "      <td>648.183333</td>\n",
       "      <td>9011</td>\n",
       "      <td>55.818923</td>\n",
       "      <td>37.497791</td>\n",
       "      <td>10.475917</td>\n",
       "      <td>12</td>\n",
       "      <td>5</td>\n",
       "      <td>1</td>\n",
       "      <td>0</td>\n",
       "    </tr>\n",
       "    <tr>\n",
       "      <th>2</th>\n",
       "      <td>3</td>\n",
       "      <td>D28CE6A9E0E5B6D213470A97CFF32485</td>\n",
       "      <td>22</td>\n",
       "      <td>110</td>\n",
       "      <td>Войковская ( Южный )</td>\n",
       "      <td>2006</td>\n",
       "      <td>Войковская</td>\n",
       "      <td>2</td>\n",
       "      <td>Замоскворецкая</td>\n",
       "      <td>2022-09-12 05:00:55</td>\n",
       "      <td>865.333333</td>\n",
       "      <td>7022</td>\n",
       "      <td>55.818923</td>\n",
       "      <td>37.497791</td>\n",
       "      <td>10.475917</td>\n",
       "      <td>12</td>\n",
       "      <td>5</td>\n",
       "      <td>1</td>\n",
       "      <td>0</td>\n",
       "    </tr>\n",
       "    <tr>\n",
       "      <th>3</th>\n",
       "      <td>4</td>\n",
       "      <td>015DA44B523C062B5BFEFF3FB0E64B9E</td>\n",
       "      <td>3</td>\n",
       "      <td>110</td>\n",
       "      <td>Войковская ( Южный )</td>\n",
       "      <td>2006</td>\n",
       "      <td>Войковская</td>\n",
       "      <td>2</td>\n",
       "      <td>Замоскворецкая</td>\n",
       "      <td>2022-09-12 05:01:13</td>\n",
       "      <td>1048.233333</td>\n",
       "      <td>2022</td>\n",
       "      <td>55.818923</td>\n",
       "      <td>37.497791</td>\n",
       "      <td>10.475917</td>\n",
       "      <td>12</td>\n",
       "      <td>5</td>\n",
       "      <td>1</td>\n",
       "      <td>0</td>\n",
       "    </tr>\n",
       "    <tr>\n",
       "      <th>4</th>\n",
       "      <td>5</td>\n",
       "      <td>95B19C6F3A504727AC3EA56EB7E3E80F</td>\n",
       "      <td>31</td>\n",
       "      <td>110</td>\n",
       "      <td>Войковская ( Южный )</td>\n",
       "      <td>2006</td>\n",
       "      <td>Войковская</td>\n",
       "      <td>2</td>\n",
       "      <td>Замоскворецкая</td>\n",
       "      <td>2022-09-12 05:02:55</td>\n",
       "      <td>965.600000</td>\n",
       "      <td>2017</td>\n",
       "      <td>55.818923</td>\n",
       "      <td>37.497791</td>\n",
       "      <td>10.475917</td>\n",
       "      <td>12</td>\n",
       "      <td>5</td>\n",
       "      <td>1</td>\n",
       "      <td>0</td>\n",
       "    </tr>\n",
       "  </tbody>\n",
       "</table>\n",
       "</div>"
      ],
      "text/plain": [
       "   id                         ticket_id  ticket_type_nm  entrance_id  \\\n",
       "0   1  40BD89EC85646EFB69E283F39C298E60              33         2402   \n",
       "1   2  126727A96489CC976A8C08E5CEB00542              45          110   \n",
       "2   3  D28CE6A9E0E5B6D213470A97CFF32485              22          110   \n",
       "3   4  015DA44B523C062B5BFEFF3FB0E64B9E               3          110   \n",
       "4   5  95B19C6F3A504727AC3EA56EB7E3E80F              31          110   \n",
       "\n",
       "            entrance_nm  station_id  station_nm  line_id         line_nm  \\\n",
       "0         Лефортово БКЛ       11007   Лефортово       15    Некрасовская   \n",
       "1  Войковская ( Южный )        2006  Войковская        2  Замоскворецкая   \n",
       "2  Войковская ( Южный )        2006  Войковская        2  Замоскворецкая   \n",
       "3  Войковская ( Южный )        2006  Войковская        2  Замоскворецкая   \n",
       "4  Войковская ( Южный )        2006  Войковская        2  Замоскворецкая   \n",
       "\n",
       "             pass_dttm  time_to_under  label    geo_lat    geo_lon   geo_dist  \\\n",
       "0  2022-09-12 05:00:13     216.316667   8001  55.764693  37.706757   5.891479   \n",
       "1  2022-09-12 05:00:54     648.183333   9011  55.818923  37.497791  10.475917   \n",
       "2  2022-09-12 05:00:55     865.333333   7022  55.818923  37.497791  10.475917   \n",
       "3  2022-09-12 05:01:13    1048.233333   2022  55.818923  37.497791  10.475917   \n",
       "4  2022-09-12 05:02:55     965.600000   2017  55.818923  37.497791  10.475917   \n",
       "\n",
       "   day  hours  day_of_week  isDayOff  \n",
       "0   12      5            1         0  \n",
       "1   12      5            1         0  \n",
       "2   12      5            1         0  \n",
       "3   12      5            1         0  \n",
       "4   12      5            1         0  "
      ]
     },
     "execution_count": 45,
     "metadata": {},
     "output_type": "execute_result"
    }
   ],
   "source": [
    "df_train.head()"
   ]
  },
  {
   "cell_type": "markdown",
   "id": "6aea8789",
   "metadata": {},
   "source": [
    "## Работа с моделью"
   ]
  },
  {
   "cell_type": "code",
   "execution_count": 46,
   "id": "42b99fad",
   "metadata": {},
   "outputs": [],
   "source": [
    "X_tr = df_train.drop([\"id\",\n",
    "#                          \"entrance_id\",\n",
    "#                          \"day\",\n",
    "                         \"isDayOff\",\n",
    "                         \"day_of_week\",\n",
    "                         \"ticket_id\",\n",
    "                         \"entrance_nm\",\n",
    "                         \"station_nm\",\n",
    "                         \"line_nm\",\n",
    "                         \"pass_dttm\",\n",
    "                         \"label\",\n",
    "                         \"time_to_under\"],\n",
    "                        axis = 1)\n",
    "\n",
    "\n",
    "y_tr = df_train[[\"label\"]]"
   ]
  },
  {
   "cell_type": "code",
   "execution_count": 47,
   "id": "c5ab47fd",
   "metadata": {},
   "outputs": [
    {
     "data": {
      "text/html": [
       "<div>\n",
       "<style scoped>\n",
       "    .dataframe tbody tr th:only-of-type {\n",
       "        vertical-align: middle;\n",
       "    }\n",
       "\n",
       "    .dataframe tbody tr th {\n",
       "        vertical-align: top;\n",
       "    }\n",
       "\n",
       "    .dataframe thead th {\n",
       "        text-align: right;\n",
       "    }\n",
       "</style>\n",
       "<table border=\"1\" class=\"dataframe\">\n",
       "  <thead>\n",
       "    <tr style=\"text-align: right;\">\n",
       "      <th></th>\n",
       "      <th>ticket_type_nm</th>\n",
       "      <th>entrance_id</th>\n",
       "      <th>station_id</th>\n",
       "      <th>line_id</th>\n",
       "      <th>geo_lat</th>\n",
       "      <th>geo_lon</th>\n",
       "      <th>geo_dist</th>\n",
       "      <th>day</th>\n",
       "      <th>hours</th>\n",
       "    </tr>\n",
       "  </thead>\n",
       "  <tbody>\n",
       "    <tr>\n",
       "      <th>0</th>\n",
       "      <td>33</td>\n",
       "      <td>2402</td>\n",
       "      <td>11007</td>\n",
       "      <td>15</td>\n",
       "      <td>55.764693</td>\n",
       "      <td>37.706757</td>\n",
       "      <td>5.891479</td>\n",
       "      <td>12</td>\n",
       "      <td>5</td>\n",
       "    </tr>\n",
       "    <tr>\n",
       "      <th>1</th>\n",
       "      <td>45</td>\n",
       "      <td>110</td>\n",
       "      <td>2006</td>\n",
       "      <td>2</td>\n",
       "      <td>55.818923</td>\n",
       "      <td>37.497791</td>\n",
       "      <td>10.475917</td>\n",
       "      <td>12</td>\n",
       "      <td>5</td>\n",
       "    </tr>\n",
       "    <tr>\n",
       "      <th>2</th>\n",
       "      <td>22</td>\n",
       "      <td>110</td>\n",
       "      <td>2006</td>\n",
       "      <td>2</td>\n",
       "      <td>55.818923</td>\n",
       "      <td>37.497791</td>\n",
       "      <td>10.475917</td>\n",
       "      <td>12</td>\n",
       "      <td>5</td>\n",
       "    </tr>\n",
       "    <tr>\n",
       "      <th>3</th>\n",
       "      <td>3</td>\n",
       "      <td>110</td>\n",
       "      <td>2006</td>\n",
       "      <td>2</td>\n",
       "      <td>55.818923</td>\n",
       "      <td>37.497791</td>\n",
       "      <td>10.475917</td>\n",
       "      <td>12</td>\n",
       "      <td>5</td>\n",
       "    </tr>\n",
       "    <tr>\n",
       "      <th>4</th>\n",
       "      <td>31</td>\n",
       "      <td>110</td>\n",
       "      <td>2006</td>\n",
       "      <td>2</td>\n",
       "      <td>55.818923</td>\n",
       "      <td>37.497791</td>\n",
       "      <td>10.475917</td>\n",
       "      <td>12</td>\n",
       "      <td>5</td>\n",
       "    </tr>\n",
       "    <tr>\n",
       "      <th>...</th>\n",
       "      <td>...</td>\n",
       "      <td>...</td>\n",
       "      <td>...</td>\n",
       "      <td>...</td>\n",
       "      <td>...</td>\n",
       "      <td>...</td>\n",
       "      <td>...</td>\n",
       "      <td>...</td>\n",
       "      <td>...</td>\n",
       "    </tr>\n",
       "    <tr>\n",
       "      <th>1091016</th>\n",
       "      <td>33</td>\n",
       "      <td>2283</td>\n",
       "      <td>15005</td>\n",
       "      <td>15</td>\n",
       "      <td>55.731724</td>\n",
       "      <td>37.730158</td>\n",
       "      <td>7.550731</td>\n",
       "      <td>19</td>\n",
       "      <td>2</td>\n",
       "    </tr>\n",
       "    <tr>\n",
       "      <th>1091017</th>\n",
       "      <td>33</td>\n",
       "      <td>278</td>\n",
       "      <td>6007</td>\n",
       "      <td>6</td>\n",
       "      <td>55.656682</td>\n",
       "      <td>37.540075</td>\n",
       "      <td>11.647466</td>\n",
       "      <td>19</td>\n",
       "      <td>3</td>\n",
       "    </tr>\n",
       "    <tr>\n",
       "      <th>1091018</th>\n",
       "      <td>33</td>\n",
       "      <td>118</td>\n",
       "      <td>2010</td>\n",
       "      <td>2</td>\n",
       "      <td>55.655745</td>\n",
       "      <td>37.649683</td>\n",
       "      <td>10.953319</td>\n",
       "      <td>19</td>\n",
       "      <td>3</td>\n",
       "    </tr>\n",
       "    <tr>\n",
       "      <th>1091019</th>\n",
       "      <td>33</td>\n",
       "      <td>2452</td>\n",
       "      <td>11014</td>\n",
       "      <td>11</td>\n",
       "      <td>55.658845</td>\n",
       "      <td>37.539446</td>\n",
       "      <td>11.444386</td>\n",
       "      <td>19</td>\n",
       "      <td>3</td>\n",
       "    </tr>\n",
       "    <tr>\n",
       "      <th>1091020</th>\n",
       "      <td>33</td>\n",
       "      <td>320</td>\n",
       "      <td>7015</td>\n",
       "      <td>7</td>\n",
       "      <td>55.765607</td>\n",
       "      <td>37.604356</td>\n",
       "      <td>1.648113</td>\n",
       "      <td>19</td>\n",
       "      <td>4</td>\n",
       "    </tr>\n",
       "  </tbody>\n",
       "</table>\n",
       "<p>1091015 rows × 9 columns</p>\n",
       "</div>"
      ],
      "text/plain": [
       "         ticket_type_nm  entrance_id  station_id  line_id    geo_lat  \\\n",
       "0                    33         2402       11007       15  55.764693   \n",
       "1                    45          110        2006        2  55.818923   \n",
       "2                    22          110        2006        2  55.818923   \n",
       "3                     3          110        2006        2  55.818923   \n",
       "4                    31          110        2006        2  55.818923   \n",
       "...                 ...          ...         ...      ...        ...   \n",
       "1091016              33         2283       15005       15  55.731724   \n",
       "1091017              33          278        6007        6  55.656682   \n",
       "1091018              33          118        2010        2  55.655745   \n",
       "1091019              33         2452       11014       11  55.658845   \n",
       "1091020              33          320        7015        7  55.765607   \n",
       "\n",
       "           geo_lon   geo_dist  day  hours  \n",
       "0        37.706757   5.891479   12      5  \n",
       "1        37.497791  10.475917   12      5  \n",
       "2        37.497791  10.475917   12      5  \n",
       "3        37.497791  10.475917   12      5  \n",
       "4        37.497791  10.475917   12      5  \n",
       "...            ...        ...  ...    ...  \n",
       "1091016  37.730158   7.550731   19      2  \n",
       "1091017  37.540075  11.647466   19      3  \n",
       "1091018  37.649683  10.953319   19      3  \n",
       "1091019  37.539446  11.444386   19      3  \n",
       "1091020  37.604356   1.648113   19      4  \n",
       "\n",
       "[1091015 rows x 9 columns]"
      ]
     },
     "execution_count": 47,
     "metadata": {},
     "output_type": "execute_result"
    }
   ],
   "source": [
    "X_tr"
   ]
  },
  {
   "cell_type": "code",
   "execution_count": 48,
   "id": "aba795fa",
   "metadata": {},
   "outputs": [],
   "source": [
    "X_train, X_test, y_train, y_test = train_test_split(X_tr,\n",
    "                                                    y_tr,\n",
    "                                                    test_size=0.3,\n",
    "                                                    stratify=y_tr,\n",
    "                                                    shuffle=True,\n",
    "                                                    random_state=42)"
   ]
  },
  {
   "cell_type": "code",
   "execution_count": 49,
   "id": "6b259703",
   "metadata": {},
   "outputs": [],
   "source": [
    "train_pool = Pool(X_train, label=y_train)\n",
    "test_pool = Pool(X_test, y_test)"
   ]
  },
  {
   "cell_type": "code",
   "execution_count": 50,
   "id": "7027b488",
   "metadata": {},
   "outputs": [],
   "source": [
    "model = CatBoostClassifier(\n",
    "    iterations=100,\n",
    "#     bootstrap_type='Bernoulli',\n",
    "#     eval_metric='Recall',\n",
    "#     depth=2,\n",
    "    random_seed=42,\n",
    "    auto_class_weights='SqrtBalanced',\n",
    "    logging_level='Verbose',\n",
    "    learning_rate=0.2,\n",
    "    l2_leaf_reg=5,\n",
    "    task_type=\"GPU\",\n",
    "    devices='0:1',\n",
    "    early_stopping_rounds=20\n",
    ")"
   ]
  },
  {
   "cell_type": "code",
   "execution_count": 51,
   "id": "aeb18da4",
   "metadata": {},
   "outputs": [
    {
     "data": {
      "application/vnd.jupyter.widget-view+json": {
       "model_id": "a89704c465594b78b312fcd5aaaecbb0",
       "version_major": 2,
       "version_minor": 0
      },
      "text/plain": [
       "MetricVisualizer(layout=Layout(align_self='stretch', height='500px'))"
      ]
     },
     "metadata": {},
     "output_type": "display_data"
    },
    {
     "name": "stdout",
     "output_type": "stream",
     "text": [
      "bestTest = 4.761172516\n",
      "bestIteration = 99\n"
     ]
    },
    {
     "data": {
      "text/plain": [
       "<catboost.core.CatBoostClassifier at 0x1b6383569b0>"
      ]
     },
     "execution_count": 51,
     "metadata": {},
     "output_type": "execute_result"
    }
   ],
   "source": [
    "model.fit(train_pool, eval_set=test_pool,\n",
    "          use_best_model=True,\n",
    "          verbose=5,\n",
    "          plot=True,\n",
    "         )"
   ]
  },
  {
   "cell_type": "code",
   "execution_count": 52,
   "id": "31a11ec9",
   "metadata": {},
   "outputs": [
    {
     "name": "stdout",
     "output_type": "stream",
     "text": [
      "recall: 0.07799730270011825\n"
     ]
    }
   ],
   "source": [
    "pred_class = model.predict(X_test)\n",
    "score_recall = recall_score(y_test, pred_class, average='macro')\n",
    "print(f'recall: {score_recall}')"
   ]
  },
  {
   "cell_type": "code",
   "execution_count": 53,
   "id": "ec2ae0dd",
   "metadata": {},
   "outputs": [
    {
     "data": {
      "text/html": [
       "<div>\n",
       "<style scoped>\n",
       "    .dataframe tbody tr th:only-of-type {\n",
       "        vertical-align: middle;\n",
       "    }\n",
       "\n",
       "    .dataframe tbody tr th {\n",
       "        vertical-align: top;\n",
       "    }\n",
       "\n",
       "    .dataframe thead th {\n",
       "        text-align: right;\n",
       "    }\n",
       "</style>\n",
       "<table border=\"1\" class=\"dataframe\">\n",
       "  <thead>\n",
       "    <tr style=\"text-align: right;\">\n",
       "      <th></th>\n",
       "      <th>Feature Id</th>\n",
       "      <th>Importances</th>\n",
       "    </tr>\n",
       "  </thead>\n",
       "  <tbody>\n",
       "    <tr>\n",
       "      <th>0</th>\n",
       "      <td>hours</td>\n",
       "      <td>17.990305</td>\n",
       "    </tr>\n",
       "    <tr>\n",
       "      <th>1</th>\n",
       "      <td>geo_lon</td>\n",
       "      <td>16.971789</td>\n",
       "    </tr>\n",
       "    <tr>\n",
       "      <th>2</th>\n",
       "      <td>geo_lat</td>\n",
       "      <td>13.420250</td>\n",
       "    </tr>\n",
       "    <tr>\n",
       "      <th>3</th>\n",
       "      <td>ticket_type_nm</td>\n",
       "      <td>11.864561</td>\n",
       "    </tr>\n",
       "    <tr>\n",
       "      <th>4</th>\n",
       "      <td>line_id</td>\n",
       "      <td>10.791865</td>\n",
       "    </tr>\n",
       "    <tr>\n",
       "      <th>5</th>\n",
       "      <td>station_id</td>\n",
       "      <td>10.527280</td>\n",
       "    </tr>\n",
       "    <tr>\n",
       "      <th>6</th>\n",
       "      <td>entrance_id</td>\n",
       "      <td>8.485297</td>\n",
       "    </tr>\n",
       "    <tr>\n",
       "      <th>7</th>\n",
       "      <td>geo_dist</td>\n",
       "      <td>8.054476</td>\n",
       "    </tr>\n",
       "    <tr>\n",
       "      <th>8</th>\n",
       "      <td>day</td>\n",
       "      <td>1.894177</td>\n",
       "    </tr>\n",
       "  </tbody>\n",
       "</table>\n",
       "</div>"
      ],
      "text/plain": [
       "       Feature Id  Importances\n",
       "0           hours    17.990305\n",
       "1         geo_lon    16.971789\n",
       "2         geo_lat    13.420250\n",
       "3  ticket_type_nm    11.864561\n",
       "4         line_id    10.791865\n",
       "5      station_id    10.527280\n",
       "6     entrance_id     8.485297\n",
       "7        geo_dist     8.054476\n",
       "8             day     1.894177"
      ]
     },
     "execution_count": 53,
     "metadata": {},
     "output_type": "execute_result"
    }
   ],
   "source": [
    "model.get_feature_importance(prettified=True)"
   ]
  },
  {
   "cell_type": "code",
   "execution_count": null,
   "id": "c1a3c025",
   "metadata": {},
   "outputs": [],
   "source": []
  },
  {
   "cell_type": "code",
   "execution_count": 54,
   "id": "07596bcb",
   "metadata": {},
   "outputs": [],
   "source": [
    "y_reg = df_train[[\"time_to_under\"]]"
   ]
  },
  {
   "cell_type": "code",
   "execution_count": 55,
   "id": "97344a26",
   "metadata": {},
   "outputs": [],
   "source": [
    "X_train_reg, X_test_reg, y_train_reg, y_test_reg = train_test_split(X_tr,\n",
    "                                                                    y_reg,\n",
    "                                                                    test_size=0.33,\n",
    "                                                                    shuffle=True,\n",
    "                                                                    random_state=42)"
   ]
  },
  {
   "cell_type": "code",
   "execution_count": 56,
   "id": "a3f72a85",
   "metadata": {},
   "outputs": [],
   "source": [
    "train_pool_reg = Pool(X_train_reg, label=y_train_reg)\n",
    "test_pool_reg = Pool(X_test_reg, y_test_reg)"
   ]
  },
  {
   "cell_type": "code",
   "execution_count": 57,
   "id": "23ea3d50",
   "metadata": {},
   "outputs": [],
   "source": [
    "cat_reg = CatBoostRegressor(\n",
    "    iterations=10000,\n",
    "#     eval_metric='R2',\n",
    "    depth=8,\n",
    "    random_seed=63,\n",
    "    logging_level='Verbose',\n",
    "    learning_rate=0.1,\n",
    "    l2_leaf_reg=10,\n",
    "    task_type=\"GPU\",\n",
    "    devices='0:1',\n",
    "    early_stopping_rounds=100\n",
    "\n",
    ")"
   ]
  },
  {
   "cell_type": "code",
   "execution_count": 58,
   "id": "c409f8fe",
   "metadata": {},
   "outputs": [
    {
     "data": {
      "application/vnd.jupyter.widget-view+json": {
       "model_id": "85f96aaa1c574f05a067a4804e61ccaf",
       "version_major": 2,
       "version_minor": 0
      },
      "text/plain": [
       "MetricVisualizer(layout=Layout(align_self='stretch', height='500px'))"
      ]
     },
     "metadata": {},
     "output_type": "display_data"
    },
    {
     "name": "stdout",
     "output_type": "stream",
     "text": [
      "0:\tlearn: 221.4092634\ttest: 221.2890960\tbest: 221.2890960 (0)\ttotal: 14.7ms\tremaining: 2m 27s\n",
      "100:\tlearn: 159.1905938\ttest: 159.4033097\tbest: 159.4033097 (100)\ttotal: 1.24s\tremaining: 2m 1s\n",
      "200:\tlearn: 158.6362566\ttest: 159.1040405\tbest: 159.1040405 (200)\ttotal: 2.41s\tremaining: 1m 57s\n",
      "300:\tlearn: 158.2409640\ttest: 158.9742156\tbest: 158.9740993 (299)\ttotal: 3.61s\tremaining: 1m 56s\n",
      "400:\tlearn: 157.9153367\ttest: 158.9001486\tbest: 158.9001486 (400)\ttotal: 4.79s\tremaining: 1m 54s\n",
      "500:\tlearn: 157.6491523\ttest: 158.8471674\tbest: 158.8471674 (500)\ttotal: 5.93s\tremaining: 1m 52s\n",
      "600:\tlearn: 157.4189720\ttest: 158.8066699\tbest: 158.8066699 (600)\ttotal: 7.12s\tremaining: 1m 51s\n",
      "700:\tlearn: 157.2148943\ttest: 158.7965596\tbest: 158.7964790 (694)\ttotal: 8.29s\tremaining: 1m 50s\n",
      "800:\tlearn: 157.0197050\ttest: 158.7756295\tbest: 158.7751011 (793)\ttotal: 9.51s\tremaining: 1m 49s\n",
      "900:\tlearn: 156.8491483\ttest: 158.7708914\tbest: 158.7692523 (896)\ttotal: 10.8s\tremaining: 1m 48s\n",
      "1000:\tlearn: 156.6900557\ttest: 158.7699151\tbest: 158.7689299 (926)\ttotal: 12.1s\tremaining: 1m 48s\n",
      "1100:\tlearn: 156.5345331\ttest: 158.7679983\tbest: 158.7643886 (1089)\ttotal: 13.3s\tremaining: 1m 47s\n",
      "bestTest = 158.7643886\n",
      "bestIteration = 1089\n",
      "Shrink model to first 1090 iterations.\n"
     ]
    }
   ],
   "source": [
    "reg_cat = cat_reg.fit(\n",
    "    train_pool_reg,\n",
    "    eval_set=test_pool_reg,\n",
    "    use_best_model=True,\n",
    "    verbose=100,\n",
    "    plot=True,\n",
    ")"
   ]
  },
  {
   "cell_type": "code",
   "execution_count": 59,
   "id": "3c26f239",
   "metadata": {},
   "outputs": [
    {
     "name": "stdout",
     "output_type": "stream",
     "text": [
      "r2: 0.5347065196397585\n"
     ]
    }
   ],
   "source": [
    "pred_reg_cat = reg_cat.predict(X_test_reg)\n",
    "score_r2 = r2_score(y_test_reg, pred_reg_cat)\n",
    "print(f'r2: {score_r2}')"
   ]
  },
  {
   "cell_type": "code",
   "execution_count": 60,
   "id": "3032ea4d",
   "metadata": {},
   "outputs": [
    {
     "name": "stdout",
     "output_type": "stream",
     "text": [
      "Общий скор: 0.3063519111699384\n",
      "recall: 0.07799730270011825\n",
      "r2: 0.5347065196397585\n"
     ]
    }
   ],
   "source": [
    "pred_class = model.predict(X_test)\n",
    "pred_reg = reg_cat.predict(X_test_reg)\n",
    "score_recall = recall_score(y_test, pred_class, average='macro')\n",
    "score_r2 = r2_score(y_test_reg, pred_reg)\n",
    "score = 0.5 * score_recall +  0.5 * score_r2\n",
    "print(f'Общий скор: {score}')\n",
    "print(f'recall: {score_recall}')\n",
    "print(f'r2: {score_r2}')"
   ]
  },
  {
   "cell_type": "code",
   "execution_count": 61,
   "id": "ad9f76e0",
   "metadata": {},
   "outputs": [],
   "source": [
    "is_save_result = True"
   ]
  },
  {
   "cell_type": "code",
   "execution_count": 66,
   "id": "e97dca04",
   "metadata": {},
   "outputs": [],
   "source": [
    "X_val = df_test.drop([\"id\",\n",
    "                      \"ticket_id\",\n",
    "                      \"isDayOff\",\n",
    "                      \"day_of_week\",\n",
    "                      \"entrance_nm\",\n",
    "                      \"station_nm\",\n",
    "                      \"line_nm\",\n",
    "                      \"pass_dttm\"], axis = 1)"
   ]
  },
  {
   "cell_type": "code",
   "execution_count": 67,
   "id": "19501f42",
   "metadata": {},
   "outputs": [
    {
     "data": {
      "text/html": [
       "<div>\n",
       "<style scoped>\n",
       "    .dataframe tbody tr th:only-of-type {\n",
       "        vertical-align: middle;\n",
       "    }\n",
       "\n",
       "    .dataframe tbody tr th {\n",
       "        vertical-align: top;\n",
       "    }\n",
       "\n",
       "    .dataframe thead th {\n",
       "        text-align: right;\n",
       "    }\n",
       "</style>\n",
       "<table border=\"1\" class=\"dataframe\">\n",
       "  <thead>\n",
       "    <tr style=\"text-align: right;\">\n",
       "      <th></th>\n",
       "      <th>ticket_type_nm</th>\n",
       "      <th>entrance_id</th>\n",
       "      <th>station_id</th>\n",
       "      <th>line_id</th>\n",
       "      <th>geo_lat</th>\n",
       "      <th>geo_lon</th>\n",
       "      <th>geo_dist</th>\n",
       "      <th>day</th>\n",
       "      <th>hours</th>\n",
       "    </tr>\n",
       "  </thead>\n",
       "  <tbody>\n",
       "    <tr>\n",
       "      <th>0</th>\n",
       "      <td>31</td>\n",
       "      <td>110</td>\n",
       "      <td>2006</td>\n",
       "      <td>2</td>\n",
       "      <td>55.818923</td>\n",
       "      <td>37.497791</td>\n",
       "      <td>10.475917</td>\n",
       "      <td>12</td>\n",
       "      <td>5</td>\n",
       "    </tr>\n",
       "    <tr>\n",
       "      <th>1</th>\n",
       "      <td>33</td>\n",
       "      <td>184</td>\n",
       "      <td>3010</td>\n",
       "      <td>3</td>\n",
       "      <td>55.741375</td>\n",
       "      <td>37.415627</td>\n",
       "      <td>12.613728</td>\n",
       "      <td>12</td>\n",
       "      <td>5</td>\n",
       "    </tr>\n",
       "    <tr>\n",
       "      <th>2</th>\n",
       "      <td>44</td>\n",
       "      <td>110</td>\n",
       "      <td>2006</td>\n",
       "      <td>2</td>\n",
       "      <td>55.818923</td>\n",
       "      <td>37.497791</td>\n",
       "      <td>10.475917</td>\n",
       "      <td>12</td>\n",
       "      <td>5</td>\n",
       "    </tr>\n",
       "    <tr>\n",
       "      <th>3</th>\n",
       "      <td>31</td>\n",
       "      <td>107</td>\n",
       "      <td>2018</td>\n",
       "      <td>2</td>\n",
       "      <td>55.805564</td>\n",
       "      <td>37.515245</td>\n",
       "      <td>8.654266</td>\n",
       "      <td>12</td>\n",
       "      <td>5</td>\n",
       "    </tr>\n",
       "    <tr>\n",
       "      <th>4</th>\n",
       "      <td>31</td>\n",
       "      <td>110</td>\n",
       "      <td>2006</td>\n",
       "      <td>2</td>\n",
       "      <td>55.818923</td>\n",
       "      <td>37.497791</td>\n",
       "      <td>10.475917</td>\n",
       "      <td>12</td>\n",
       "      <td>5</td>\n",
       "    </tr>\n",
       "    <tr>\n",
       "      <th>...</th>\n",
       "      <td>...</td>\n",
       "      <td>...</td>\n",
       "      <td>...</td>\n",
       "      <td>...</td>\n",
       "      <td>...</td>\n",
       "      <td>...</td>\n",
       "      <td>...</td>\n",
       "      <td>...</td>\n",
       "      <td>...</td>\n",
       "    </tr>\n",
       "    <tr>\n",
       "      <th>561885</th>\n",
       "      <td>33</td>\n",
       "      <td>279</td>\n",
       "      <td>6007</td>\n",
       "      <td>6</td>\n",
       "      <td>55.656682</td>\n",
       "      <td>37.540075</td>\n",
       "      <td>11.647466</td>\n",
       "      <td>19</td>\n",
       "      <td>1</td>\n",
       "    </tr>\n",
       "    <tr>\n",
       "      <th>561886</th>\n",
       "      <td>33</td>\n",
       "      <td>2463</td>\n",
       "      <td>11020</td>\n",
       "      <td>11</td>\n",
       "      <td>55.728707</td>\n",
       "      <td>37.445985</td>\n",
       "      <td>10.968044</td>\n",
       "      <td>19</td>\n",
       "      <td>2</td>\n",
       "    </tr>\n",
       "    <tr>\n",
       "      <th>561887</th>\n",
       "      <td>33</td>\n",
       "      <td>64</td>\n",
       "      <td>1012</td>\n",
       "      <td>1</td>\n",
       "      <td>55.676549</td>\n",
       "      <td>37.504584</td>\n",
       "      <td>10.937618</td>\n",
       "      <td>19</td>\n",
       "      <td>2</td>\n",
       "    </tr>\n",
       "    <tr>\n",
       "      <th>561888</th>\n",
       "      <td>33</td>\n",
       "      <td>285</td>\n",
       "      <td>6009</td>\n",
       "      <td>6</td>\n",
       "      <td>55.631857</td>\n",
       "      <td>37.519156</td>\n",
       "      <td>14.708368</td>\n",
       "      <td>19</td>\n",
       "      <td>2</td>\n",
       "    </tr>\n",
       "    <tr>\n",
       "      <th>561889</th>\n",
       "      <td>33</td>\n",
       "      <td>184</td>\n",
       "      <td>3010</td>\n",
       "      <td>3</td>\n",
       "      <td>55.741375</td>\n",
       "      <td>37.415627</td>\n",
       "      <td>12.613728</td>\n",
       "      <td>19</td>\n",
       "      <td>3</td>\n",
       "    </tr>\n",
       "  </tbody>\n",
       "</table>\n",
       "<p>561890 rows × 9 columns</p>\n",
       "</div>"
      ],
      "text/plain": [
       "        ticket_type_nm  entrance_id  station_id  line_id    geo_lat  \\\n",
       "0                   31          110        2006        2  55.818923   \n",
       "1                   33          184        3010        3  55.741375   \n",
       "2                   44          110        2006        2  55.818923   \n",
       "3                   31          107        2018        2  55.805564   \n",
       "4                   31          110        2006        2  55.818923   \n",
       "...                ...          ...         ...      ...        ...   \n",
       "561885              33          279        6007        6  55.656682   \n",
       "561886              33         2463       11020       11  55.728707   \n",
       "561887              33           64        1012        1  55.676549   \n",
       "561888              33          285        6009        6  55.631857   \n",
       "561889              33          184        3010        3  55.741375   \n",
       "\n",
       "          geo_lon   geo_dist  day  hours  \n",
       "0       37.497791  10.475917   12      5  \n",
       "1       37.415627  12.613728   12      5  \n",
       "2       37.497791  10.475917   12      5  \n",
       "3       37.515245   8.654266   12      5  \n",
       "4       37.497791  10.475917   12      5  \n",
       "...           ...        ...  ...    ...  \n",
       "561885  37.540075  11.647466   19      1  \n",
       "561886  37.445985  10.968044   19      2  \n",
       "561887  37.504584  10.937618   19      2  \n",
       "561888  37.519156  14.708368   19      2  \n",
       "561889  37.415627  12.613728   19      3  \n",
       "\n",
       "[561890 rows x 9 columns]"
      ]
     },
     "execution_count": 67,
     "metadata": {},
     "output_type": "execute_result"
    }
   ],
   "source": [
    "X_val"
   ]
  },
  {
   "cell_type": "code",
   "execution_count": 68,
   "id": "4c798c8b",
   "metadata": {},
   "outputs": [],
   "source": [
    "pred_class = model.predict(X_val)\n",
    "pred_reg = reg_cat.predict(X_val)"
   ]
  },
  {
   "cell_type": "code",
   "execution_count": 69,
   "id": "208a00a0",
   "metadata": {},
   "outputs": [
    {
     "name": "stdout",
     "output_type": "stream",
     "text": [
      "20_11_2022 20_10\n",
      "561890\n",
      "561890\n",
      "561890\n"
     ]
    }
   ],
   "source": [
    "if is_save_result:\n",
    "      \n",
    "    indexes = df_test['id'].to_numpy()\n",
    "    submit_df = pd.DataFrame([[id_, time_to_under, label] for id_, time_to_under, label in zip(indexes,\n",
    "                                                                                               pred_reg,\n",
    "                                                                                               pred_class)],\n",
    "                             columns=['id','time_to_under', 'label'])\n",
    "    \n",
    "    now_time = datetime.now().strftime(\"%d_%m_%Y %H_%M\")\n",
    "    os.mkdir(now_time)\n",
    "    submit_df.to_csv(f\"{now_time}/submit_{now_time}.csv\", index=False)\n",
    "    with open(f'{now_time}/parametrs.txt', 'w') as file:\n",
    "        file.write('clf_params()')\n",
    "        file.write(json.dumps(model.get_params(), indent=4))\n",
    "        file.write('\\n'+'reg_params()')\n",
    "        file.write(json.dumps(reg_cat.get_params(), indent=4))\n",
    "\n",
    "    with open(f'{now_time}/results.txt', 'w') as file:\n",
    "        file.write(f'Score_recall (clf): {score_recall}')\n",
    "        file.write('\\n'+f'Score_r2 (reg): {score_r2}')\n",
    "        file.write('\\n'+f'Score: {score}')\n",
    "        \n",
    "    print(now_time)\n",
    "    print(len(indexes))\n",
    "    print(len(pred_reg))\n",
    "    print(len(pred_class))"
   ]
  },
  {
   "cell_type": "code",
   "execution_count": 70,
   "id": "e716fe1f",
   "metadata": {},
   "outputs": [],
   "source": [
    "sol_df = pd.read_csv(f\"{now_time}/submit_{now_time}.csv\")\n",
    "sol_df['label'] = sol_df['label'].apply(lambda x: int(x.replace('[','').replace(']','')))\n",
    "sol_df.to_csv(f\"{now_time}/submit_{now_time}.csv\", index=False)"
   ]
  },
  {
   "cell_type": "code",
   "execution_count": null,
   "id": "a63cec65",
   "metadata": {},
   "outputs": [],
   "source": []
  }
 ],
 "metadata": {
  "kernelspec": {
   "display_name": "digital",
   "language": "python",
   "name": "digital"
  },
  "language_info": {
   "codemirror_mode": {
    "name": "ipython",
    "version": 3
   },
   "file_extension": ".py",
   "mimetype": "text/x-python",
   "name": "python",
   "nbconvert_exporter": "python",
   "pygments_lexer": "ipython3",
   "version": "3.10.0"
  }
 },
 "nbformat": 4,
 "nbformat_minor": 5
}
