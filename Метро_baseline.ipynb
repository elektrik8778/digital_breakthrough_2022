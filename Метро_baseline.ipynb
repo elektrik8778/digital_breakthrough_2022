{
 "cells": [
  {
   "cell_type": "markdown",
   "metadata": {
    "id": "fnE1_J-4dhSR"
   },
   "source": [
    "## Загрузим нужные библиотеки"
   ]
  },
  {
   "cell_type": "code",
   "execution_count": 52,
   "metadata": {
    "id": "uaKzqUxsdjDa"
   },
   "outputs": [],
   "source": [
    "import os\n",
    "from datetime import datetime\n",
    "import time\n",
    "import json\n",
    "\n",
    "import pandas as pd\n",
    "import seaborn as sns\n",
    "import matplotlib.pyplot as plt\n",
    "from sklearn.model_selection import train_test_split\n",
    "from sklearn.ensemble import RandomForestClassifier, RandomForestRegressor\n",
    "\n",
    "\n",
    "%matplotlib inline"
   ]
  },
  {
   "cell_type": "code",
   "execution_count": 2,
   "metadata": {
    "id": "2scLoULoXkT0"
   },
   "outputs": [],
   "source": [
    "# df = pd.read_csv(\"data/train_dataset_train.csv\", nrows = 10000)\n",
    "df = pd.read_csv(\"data/train_dataset_train.csv\")\n",
    "\n",
    "# df_add = pd.read_csv(\"subway.csv\")"
   ]
  },
  {
   "cell_type": "markdown",
   "metadata": {
    "id": "WcxAsO_Md05t"
   },
   "source": [
    "## Рассмотрим датасет по ближе"
   ]
  },
  {
   "cell_type": "code",
   "execution_count": 3,
   "metadata": {
    "colab": {
     "base_uri": "https://localhost:8080/",
     "height": 260
    },
    "id": "I16XfuOpXwIy",
    "outputId": "f39e62c8-ddc7-4337-9c83-023543ef5da8"
   },
   "outputs": [],
   "source": [
    "# df_add.head(3)"
   ]
  },
  {
   "cell_type": "code",
   "execution_count": 4,
   "metadata": {},
   "outputs": [
    {
     "data": {
      "text/html": [
       "<div>\n",
       "<style scoped>\n",
       "    .dataframe tbody tr th:only-of-type {\n",
       "        vertical-align: middle;\n",
       "    }\n",
       "\n",
       "    .dataframe tbody tr th {\n",
       "        vertical-align: top;\n",
       "    }\n",
       "\n",
       "    .dataframe thead th {\n",
       "        text-align: right;\n",
       "    }\n",
       "</style>\n",
       "<table border=\"1\" class=\"dataframe\">\n",
       "  <thead>\n",
       "    <tr style=\"text-align: right;\">\n",
       "      <th></th>\n",
       "      <th>id</th>\n",
       "      <th>ticket_id</th>\n",
       "      <th>ticket_type_nm</th>\n",
       "      <th>entrance_id</th>\n",
       "      <th>entrance_nm</th>\n",
       "      <th>station_id</th>\n",
       "      <th>station_nm</th>\n",
       "      <th>line_id</th>\n",
       "      <th>line_nm</th>\n",
       "      <th>pass_dttm</th>\n",
       "      <th>time_to_under</th>\n",
       "      <th>label</th>\n",
       "    </tr>\n",
       "  </thead>\n",
       "  <tbody>\n",
       "    <tr>\n",
       "      <th>396</th>\n",
       "      <td>397</td>\n",
       "      <td>B8D44EC96AF20E4EFC3E4167ECBD226C</td>\n",
       "      <td>30 дней Пригород ТК</td>\n",
       "      <td>2153</td>\n",
       "      <td>Угрешская МЦК</td>\n",
       "      <td>14028</td>\n",
       "      <td>Угрешская</td>\n",
       "      <td>14</td>\n",
       "      <td>Московское центральное кольцо</td>\n",
       "      <td>2022-09-12 05:30:18</td>\n",
       "      <td>800.050000</td>\n",
       "      <td>6018</td>\n",
       "    </tr>\n",
       "    <tr>\n",
       "      <th>501</th>\n",
       "      <td>502</td>\n",
       "      <td>4BAF114EFA4E10521319B9FB6F17B0E5</td>\n",
       "      <td>365 дней ЕДИНЫЙ ТК</td>\n",
       "      <td>2153</td>\n",
       "      <td>Угрешская МЦК</td>\n",
       "      <td>14028</td>\n",
       "      <td>Угрешская</td>\n",
       "      <td>14</td>\n",
       "      <td>Московское центральное кольцо</td>\n",
       "      <td>2022-09-12 05:30:47</td>\n",
       "      <td>838.566667</td>\n",
       "      <td>14019</td>\n",
       "    </tr>\n",
       "    <tr>\n",
       "      <th>1630</th>\n",
       "      <td>1631</td>\n",
       "      <td>D0C858CD308CE6AFEE526F78CF6CE985</td>\n",
       "      <td>30 дней ЕДИНЫЙ ТК</td>\n",
       "      <td>2153</td>\n",
       "      <td>Угрешская МЦК</td>\n",
       "      <td>14028</td>\n",
       "      <td>Угрешская</td>\n",
       "      <td>14</td>\n",
       "      <td>Московское центральное кольцо</td>\n",
       "      <td>2022-09-12 05:42:29</td>\n",
       "      <td>821.333333</td>\n",
       "      <td>11005</td>\n",
       "    </tr>\n",
       "    <tr>\n",
       "      <th>4221</th>\n",
       "      <td>4222</td>\n",
       "      <td>AFF358FB2170F8A517A44E10AFC6F576</td>\n",
       "      <td>30 дней ЕДИНЫЙ ТК</td>\n",
       "      <td>2153</td>\n",
       "      <td>Угрешская МЦК</td>\n",
       "      <td>14028</td>\n",
       "      <td>Угрешская</td>\n",
       "      <td>14</td>\n",
       "      <td>Московское центральное кольцо</td>\n",
       "      <td>2022-09-12 06:01:02</td>\n",
       "      <td>935.850000</td>\n",
       "      <td>14030</td>\n",
       "    </tr>\n",
       "    <tr>\n",
       "      <th>4527</th>\n",
       "      <td>4528</td>\n",
       "      <td>ECAB8CCB81CA2A929BAF053EF865581B</td>\n",
       "      <td>30 дней Пригород ТК</td>\n",
       "      <td>2153</td>\n",
       "      <td>Угрешская МЦК</td>\n",
       "      <td>14028</td>\n",
       "      <td>Угрешская</td>\n",
       "      <td>14</td>\n",
       "      <td>Московское центральное кольцо</td>\n",
       "      <td>2022-09-12 06:02:36</td>\n",
       "      <td>830.716667</td>\n",
       "      <td>14006</td>\n",
       "    </tr>\n",
       "    <tr>\n",
       "      <th>...</th>\n",
       "      <td>...</td>\n",
       "      <td>...</td>\n",
       "      <td>...</td>\n",
       "      <td>...</td>\n",
       "      <td>...</td>\n",
       "      <td>...</td>\n",
       "      <td>...</td>\n",
       "      <td>...</td>\n",
       "      <td>...</td>\n",
       "      <td>...</td>\n",
       "      <td>...</td>\n",
       "      <td>...</td>\n",
       "    </tr>\n",
       "    <tr>\n",
       "      <th>1086560</th>\n",
       "      <td>1086561</td>\n",
       "      <td>A59AA7906E6EE3D55CFACED2FB41F1A2</td>\n",
       "      <td>30 дней СК студента</td>\n",
       "      <td>2153</td>\n",
       "      <td>Угрешская МЦК</td>\n",
       "      <td>14028</td>\n",
       "      <td>Угрешская</td>\n",
       "      <td>14</td>\n",
       "      <td>Московское центральное кольцо</td>\n",
       "      <td>2022-09-18 18:42:17</td>\n",
       "      <td>55.316667</td>\n",
       "      <td>14011</td>\n",
       "    </tr>\n",
       "    <tr>\n",
       "      <th>1087150</th>\n",
       "      <td>1087151</td>\n",
       "      <td>EB91D0324EB065956BD689E4264BF38F</td>\n",
       "      <td>30 дней ЕДИНЫЙ ТК</td>\n",
       "      <td>2153</td>\n",
       "      <td>Угрешская МЦК</td>\n",
       "      <td>14028</td>\n",
       "      <td>Угрешская</td>\n",
       "      <td>14</td>\n",
       "      <td>Московское центральное кольцо</td>\n",
       "      <td>2022-09-18 18:55:06</td>\n",
       "      <td>268.866667</td>\n",
       "      <td>14020</td>\n",
       "    </tr>\n",
       "    <tr>\n",
       "      <th>1089702</th>\n",
       "      <td>1089703</td>\n",
       "      <td>D241176CD4E4D5B081148F73F7E71022</td>\n",
       "      <td>30 дней ЕДИНЫЙ ТК</td>\n",
       "      <td>2153</td>\n",
       "      <td>Угрешская МЦК</td>\n",
       "      <td>14028</td>\n",
       "      <td>Угрешская</td>\n",
       "      <td>14</td>\n",
       "      <td>Московское центральное кольцо</td>\n",
       "      <td>2022-09-18 20:22:33</td>\n",
       "      <td>103.466667</td>\n",
       "      <td>14009</td>\n",
       "    </tr>\n",
       "    <tr>\n",
       "      <th>1089706</th>\n",
       "      <td>1089707</td>\n",
       "      <td>C783E30A4B2F4CB4E88CFB3EC1383F45</td>\n",
       "      <td>30 дней ЕДИНЫЙ ТК</td>\n",
       "      <td>2153</td>\n",
       "      <td>Угрешская МЦК</td>\n",
       "      <td>14028</td>\n",
       "      <td>Угрешская</td>\n",
       "      <td>14</td>\n",
       "      <td>Московское центральное кольцо</td>\n",
       "      <td>2022-09-18 20:22:43</td>\n",
       "      <td>103.400000</td>\n",
       "      <td>14009</td>\n",
       "    </tr>\n",
       "    <tr>\n",
       "      <th>1089857</th>\n",
       "      <td>1089858</td>\n",
       "      <td>100B3670E24418E4D99F39387B829FD4</td>\n",
       "      <td>КОШЕЛЕК</td>\n",
       "      <td>2153</td>\n",
       "      <td>Угрешская МЦК</td>\n",
       "      <td>14028</td>\n",
       "      <td>Угрешская</td>\n",
       "      <td>14</td>\n",
       "      <td>Московское центральное кольцо</td>\n",
       "      <td>2022-09-18 20:30:28</td>\n",
       "      <td>39.900000</td>\n",
       "      <td>14010</td>\n",
       "    </tr>\n",
       "  </tbody>\n",
       "</table>\n",
       "<p>556 rows × 12 columns</p>\n",
       "</div>"
      ],
      "text/plain": [
       "              id                         ticket_id       ticket_type_nm  \\\n",
       "396          397  B8D44EC96AF20E4EFC3E4167ECBD226C  30 дней Пригород ТК   \n",
       "501          502  4BAF114EFA4E10521319B9FB6F17B0E5   365 дней ЕДИНЫЙ ТК   \n",
       "1630        1631  D0C858CD308CE6AFEE526F78CF6CE985    30 дней ЕДИНЫЙ ТК   \n",
       "4221        4222  AFF358FB2170F8A517A44E10AFC6F576    30 дней ЕДИНЫЙ ТК   \n",
       "4527        4528  ECAB8CCB81CA2A929BAF053EF865581B  30 дней Пригород ТК   \n",
       "...          ...                               ...                  ...   \n",
       "1086560  1086561  A59AA7906E6EE3D55CFACED2FB41F1A2  30 дней СК студента   \n",
       "1087150  1087151  EB91D0324EB065956BD689E4264BF38F    30 дней ЕДИНЫЙ ТК   \n",
       "1089702  1089703  D241176CD4E4D5B081148F73F7E71022    30 дней ЕДИНЫЙ ТК   \n",
       "1089706  1089707  C783E30A4B2F4CB4E88CFB3EC1383F45    30 дней ЕДИНЫЙ ТК   \n",
       "1089857  1089858  100B3670E24418E4D99F39387B829FD4              КОШЕЛЕК   \n",
       "\n",
       "         entrance_id    entrance_nm  station_id station_nm  line_id  \\\n",
       "396             2153  Угрешская МЦК       14028  Угрешская       14   \n",
       "501             2153  Угрешская МЦК       14028  Угрешская       14   \n",
       "1630            2153  Угрешская МЦК       14028  Угрешская       14   \n",
       "4221            2153  Угрешская МЦК       14028  Угрешская       14   \n",
       "4527            2153  Угрешская МЦК       14028  Угрешская       14   \n",
       "...              ...            ...         ...        ...      ...   \n",
       "1086560         2153  Угрешская МЦК       14028  Угрешская       14   \n",
       "1087150         2153  Угрешская МЦК       14028  Угрешская       14   \n",
       "1089702         2153  Угрешская МЦК       14028  Угрешская       14   \n",
       "1089706         2153  Угрешская МЦК       14028  Угрешская       14   \n",
       "1089857         2153  Угрешская МЦК       14028  Угрешская       14   \n",
       "\n",
       "                               line_nm            pass_dttm  time_to_under  \\\n",
       "396      Московское центральное кольцо  2022-09-12 05:30:18     800.050000   \n",
       "501      Московское центральное кольцо  2022-09-12 05:30:47     838.566667   \n",
       "1630     Московское центральное кольцо  2022-09-12 05:42:29     821.333333   \n",
       "4221     Московское центральное кольцо  2022-09-12 06:01:02     935.850000   \n",
       "4527     Московское центральное кольцо  2022-09-12 06:02:36     830.716667   \n",
       "...                                ...                  ...            ...   \n",
       "1086560  Московское центральное кольцо  2022-09-18 18:42:17      55.316667   \n",
       "1087150  Московское центральное кольцо  2022-09-18 18:55:06     268.866667   \n",
       "1089702  Московское центральное кольцо  2022-09-18 20:22:33     103.466667   \n",
       "1089706  Московское центральное кольцо  2022-09-18 20:22:43     103.400000   \n",
       "1089857  Московское центральное кольцо  2022-09-18 20:30:28      39.900000   \n",
       "\n",
       "         label  \n",
       "396       6018  \n",
       "501      14019  \n",
       "1630     11005  \n",
       "4221     14030  \n",
       "4527     14006  \n",
       "...        ...  \n",
       "1086560  14011  \n",
       "1087150  14020  \n",
       "1089702  14009  \n",
       "1089706  14009  \n",
       "1089857  14010  \n",
       "\n",
       "[556 rows x 12 columns]"
      ]
     },
     "execution_count": 4,
     "metadata": {},
     "output_type": "execute_result"
    }
   ],
   "source": [
    "df[df['station_nm']=='Угрешская']"
   ]
  },
  {
   "cell_type": "code",
   "execution_count": 5,
   "metadata": {},
   "outputs": [],
   "source": [
    "# df_add.info()"
   ]
  },
  {
   "cell_type": "code",
   "execution_count": 6,
   "metadata": {
    "colab": {
     "base_uri": "https://localhost:8080/"
    },
    "id": "czcOBmDFduKQ",
    "outputId": "49609192-d4dc-485f-e171-b6cc9096baaa"
   },
   "outputs": [],
   "source": [
    "# df_add[df_add['start_station_id']==3010]['all_stations_nm'].iloc[0]"
   ]
  },
  {
   "cell_type": "code",
   "execution_count": 7,
   "metadata": {},
   "outputs": [],
   "source": [
    "# filtered_data = df_add[df_add['start_station_id']=='Молодёжная']\n",
    "# filtered_data"
   ]
  },
  {
   "cell_type": "code",
   "execution_count": 8,
   "metadata": {},
   "outputs": [],
   "source": [
    "# df_add.columns"
   ]
  },
  {
   "cell_type": "markdown",
   "metadata": {
    "id": "IY5yf35yNVuR"
   },
   "source": [
    "Посмотрим на распределение двух основных величин "
   ]
  },
  {
   "cell_type": "code",
   "execution_count": 9,
   "metadata": {
    "colab": {
     "base_uri": "https://localhost:8080/",
     "height": 283
    },
    "id": "ccsstA-IdxOJ",
    "outputId": "ebe811b8-ceda-4cb7-bc70-8cb00301abad"
   },
   "outputs": [
    {
     "data": {
      "text/plain": [
       "<AxesSubplot:>"
      ]
     },
     "execution_count": 9,
     "metadata": {},
     "output_type": "execute_result"
    },
    {
     "data": {
      "image/png": "[encoded data removed]",
      "text/plain": [
       "<Figure size 432x288 with 1 Axes>"
      ]
     },
     "metadata": {
      "needs_background": "light"
     },
     "output_type": "display_data"
    }
   ],
   "source": [
    "df[\"label\"].hist(bins = 100)\n"
   ]
  },
  {
   "cell_type": "code",
   "execution_count": 10,
   "metadata": {
    "colab": {
     "base_uri": "https://localhost:8080/",
     "height": 283
    },
    "id": "5YyJ2DkxNaZl",
    "outputId": "260535c7-e60d-441a-b29d-b6e71f2ea007"
   },
   "outputs": [
    {
     "data": {
      "text/plain": [
       "<AxesSubplot:>"
      ]
     },
     "execution_count": 10,
     "metadata": {},
     "output_type": "execute_result"
    },
    {
     "data": {
      "image/png": "[encoded data removed]",
      "text/plain": [
       "<Figure size 432x288 with 1 Axes>"
      ]
     },
     "metadata": {
      "needs_background": "light"
     },
     "output_type": "display_data"
    }
   ],
   "source": [
    "df[\"time_to_under\"].hist(bins = 100)"
   ]
  },
  {
   "cell_type": "code",
   "execution_count": 11,
   "metadata": {},
   "outputs": [
    {
     "data": {
      "text/plain": [
       "<AxesSubplot:>"
      ]
     },
     "execution_count": 11,
     "metadata": {},
     "output_type": "execute_result"
    },
    {
     "data": {
      "image/png": "[encoded data removed]",
      "text/plain": [
       "<Figure size 432x288 with 1 Axes>"
      ]
     },
     "metadata": {
      "needs_background": "light"
     },
     "output_type": "display_data"
    }
   ],
   "source": [
    "df.boxplot(column=['time_to_under'])"
   ]
  },
  {
   "cell_type": "markdown",
   "metadata": {
    "id": "s9fKKhV8edY_"
   },
   "source": [
    "\n",
    "\n",
    "Найдем наиболее популярную станцию"
   ]
  },
  {
   "cell_type": "code",
   "execution_count": 12,
   "metadata": {
    "colab": {
     "base_uri": "https://localhost:8080/"
    },
    "id": "Gq6HjkgCeQSy",
    "outputId": "74ee990e-7edc-4d66-ef1b-7474d7f3301b"
   },
   "outputs": [
    {
     "data": {
      "text/plain": [
       "3002     17272\n",
       "6008     15541\n",
       "1022     13758\n",
       "5010     13122\n",
       "7022     13080\n",
       "         ...  \n",
       "13002       24\n",
       "13003       23\n",
       "13006       17\n",
       "13005       14\n",
       "13004        7\n",
       "Name: label, Length: 276, dtype: int64"
      ]
     },
     "execution_count": 12,
     "metadata": {},
     "output_type": "execute_result"
    }
   ],
   "source": [
    "df[\"label\"].value_counts()"
   ]
  },
  {
   "cell_type": "code",
   "execution_count": 13,
   "metadata": {},
   "outputs": [
    {
     "data": {
      "text/plain": [
       "Щёлковская ( Северный )        17810\n",
       "Кузьминки (Восточный)          13530\n",
       "Некрасовка (Первый)            12205\n",
       "Славянский бульвар (Восток)    11963\n",
       "Новогиреево (Восточный)        11949\n",
       "                               ...  \n",
       "ВВЦ                               16\n",
       "Ул. Эйзенштейна                   10\n",
       "Ул. Ак. Королёва                   9\n",
       "Телецентр                          8\n",
       "Мнёвники (Второй)                  4\n",
       "Name: entrance_nm, Length: 426, dtype: int64"
      ]
     },
     "execution_count": 13,
     "metadata": {},
     "output_type": "execute_result"
    }
   ],
   "source": [
    "df[\"entrance_nm\"].value_counts()"
   ]
  },
  {
   "cell_type": "code",
   "execution_count": 14,
   "metadata": {
    "colab": {
     "base_uri": "https://localhost:8080/",
     "height": 357
    },
    "id": "HVyOBpgiNqPA",
    "outputId": "2dcd29b4-919e-4c77-c4a0-823cf068243b"
   },
   "outputs": [
    {
     "data": {
      "text/html": [
       "<div>\n",
       "<style scoped>\n",
       "    .dataframe tbody tr th:only-of-type {\n",
       "        vertical-align: middle;\n",
       "    }\n",
       "\n",
       "    .dataframe tbody tr th {\n",
       "        vertical-align: top;\n",
       "    }\n",
       "\n",
       "    .dataframe thead th {\n",
       "        text-align: right;\n",
       "    }\n",
       "</style>\n",
       "<table border=\"1\" class=\"dataframe\">\n",
       "  <thead>\n",
       "    <tr style=\"text-align: right;\">\n",
       "      <th></th>\n",
       "      <th>id</th>\n",
       "      <th>ticket_id</th>\n",
       "      <th>ticket_type_nm</th>\n",
       "      <th>entrance_id</th>\n",
       "      <th>entrance_nm</th>\n",
       "      <th>station_id</th>\n",
       "      <th>station_nm</th>\n",
       "      <th>line_id</th>\n",
       "      <th>line_nm</th>\n",
       "      <th>pass_dttm</th>\n",
       "      <th>time_to_under</th>\n",
       "      <th>label</th>\n",
       "    </tr>\n",
       "  </thead>\n",
       "  <tbody>\n",
       "    <tr>\n",
       "      <th>60</th>\n",
       "      <td>61</td>\n",
       "      <td>764D546455E294FF9ACFB1A863A10E4B</td>\n",
       "      <td>Социальная карта жителя Моск. области</td>\n",
       "      <td>218</td>\n",
       "      <td>Новогиреево (Восточный)</td>\n",
       "      <td>8003</td>\n",
       "      <td>Новогиреево</td>\n",
       "      <td>8</td>\n",
       "      <td>Калининская</td>\n",
       "      <td>2022-09-12 05:22:19</td>\n",
       "      <td>677.233333</td>\n",
       "      <td>3002</td>\n",
       "    </tr>\n",
       "    <tr>\n",
       "      <th>233</th>\n",
       "      <td>234</td>\n",
       "      <td>08C38EBE7D5FE076740767D284BC9461</td>\n",
       "      <td>90 дней ЕДИНЫЙ ТК</td>\n",
       "      <td>221</td>\n",
       "      <td>Перово (Восточный)</td>\n",
       "      <td>8005</td>\n",
       "      <td>Перово</td>\n",
       "      <td>8</td>\n",
       "      <td>Калининская</td>\n",
       "      <td>2022-09-12 05:28:54</td>\n",
       "      <td>706.883333</td>\n",
       "      <td>3002</td>\n",
       "    </tr>\n",
       "    <tr>\n",
       "      <th>307</th>\n",
       "      <td>308</td>\n",
       "      <td>F13C0CD1665DC19E1344C679EDE629B3</td>\n",
       "      <td>30 дней ЕДИНЫЙ ТК</td>\n",
       "      <td>2227</td>\n",
       "      <td>Селигерская (Второй)</td>\n",
       "      <td>10018</td>\n",
       "      <td>Селигерская</td>\n",
       "      <td>10</td>\n",
       "      <td>Люблинско-Дмитровская</td>\n",
       "      <td>2022-09-12 05:29:53</td>\n",
       "      <td>792.900000</td>\n",
       "      <td>3002</td>\n",
       "    </tr>\n",
       "    <tr>\n",
       "      <th>420</th>\n",
       "      <td>421</td>\n",
       "      <td>775F417B46D967439A38F3309F9F297C</td>\n",
       "      <td>30 дней ЕДИНЫЙ ТК</td>\n",
       "      <td>730</td>\n",
       "      <td>Дубровка</td>\n",
       "      <td>10007</td>\n",
       "      <td>Дубровка</td>\n",
       "      <td>10</td>\n",
       "      <td>Люблинско-Дмитровская</td>\n",
       "      <td>2022-09-12 05:30:24</td>\n",
       "      <td>290.266667</td>\n",
       "      <td>3002</td>\n",
       "    </tr>\n",
       "    <tr>\n",
       "      <th>526</th>\n",
       "      <td>527</td>\n",
       "      <td>402E9F04DAA4F79487D870516DE00CB5</td>\n",
       "      <td>КОШЕЛЕК</td>\n",
       "      <td>343</td>\n",
       "      <td>Сходненская (Первый)</td>\n",
       "      <td>7018</td>\n",
       "      <td>Сходненская</td>\n",
       "      <td>7</td>\n",
       "      <td>Таганско-Краснопресненская</td>\n",
       "      <td>2022-09-12 05:30:53</td>\n",
       "      <td>829.166667</td>\n",
       "      <td>3002</td>\n",
       "    </tr>\n",
       "  </tbody>\n",
       "</table>\n",
       "</div>"
      ],
      "text/plain": [
       "      id                         ticket_id  \\\n",
       "60    61  764D546455E294FF9ACFB1A863A10E4B   \n",
       "233  234  08C38EBE7D5FE076740767D284BC9461   \n",
       "307  308  F13C0CD1665DC19E1344C679EDE629B3   \n",
       "420  421  775F417B46D967439A38F3309F9F297C   \n",
       "526  527  402E9F04DAA4F79487D870516DE00CB5   \n",
       "\n",
       "                            ticket_type_nm  entrance_id  \\\n",
       "60   Социальная карта жителя Моск. области          218   \n",
       "233                      90 дней ЕДИНЫЙ ТК          221   \n",
       "307                      30 дней ЕДИНЫЙ ТК         2227   \n",
       "420                      30 дней ЕДИНЫЙ ТК          730   \n",
       "526                                КОШЕЛЕК          343   \n",
       "\n",
       "                 entrance_nm  station_id   station_nm  line_id  \\\n",
       "60   Новогиреево (Восточный)        8003  Новогиреево        8   \n",
       "233       Перово (Восточный)        8005       Перово        8   \n",
       "307     Селигерская (Второй)       10018  Селигерская       10   \n",
       "420                 Дубровка       10007     Дубровка       10   \n",
       "526     Сходненская (Первый)        7018  Сходненская        7   \n",
       "\n",
       "                        line_nm            pass_dttm  time_to_under  label  \n",
       "60                  Калининская  2022-09-12 05:22:19     677.233333   3002  \n",
       "233                 Калининская  2022-09-12 05:28:54     706.883333   3002  \n",
       "307       Люблинско-Дмитровская  2022-09-12 05:29:53     792.900000   3002  \n",
       "420       Люблинско-Дмитровская  2022-09-12 05:30:24     290.266667   3002  \n",
       "526  Таганско-Краснопресненская  2022-09-12 05:30:53     829.166667   3002  "
      ]
     },
     "execution_count": 14,
     "metadata": {},
     "output_type": "execute_result"
    }
   ],
   "source": [
    "df[df[\"label\"] == int(df[\"label\"].value_counts().index[0])].head()"
   ]
  },
  {
   "cell_type": "markdown",
   "metadata": {},
   "source": [
    "Посмотрим пустые данные"
   ]
  },
  {
   "cell_type": "code",
   "execution_count": 15,
   "metadata": {},
   "outputs": [
    {
     "data": {
      "text/plain": [
       "<AxesSubplot:>"
      ]
     },
     "execution_count": 15,
     "metadata": {},
     "output_type": "execute_result"
    },
    {
     "data": {
      "image/png": "[encoded data removed]",
      "text/plain": [
       "<Figure size 432x288 with 2 Axes>"
      ]
     },
     "metadata": {
      "needs_background": "light"
     },
     "output_type": "display_data"
    }
   ],
   "source": [
    "cols = df.columns # первые 30 колонок\n",
    "# определяем цвета \n",
    "# желтый - пропущенные данные, синий - не пропущенные\n",
    "colours = ['#000099', '#ffff00'] \n",
    "sns.heatmap(df[cols].isnull(), cmap=sns.color_palette(colours))"
   ]
  },
  {
   "cell_type": "code",
   "execution_count": null,
   "metadata": {},
   "outputs": [],
   "source": []
  },
  {
   "cell_type": "code",
   "execution_count": null,
   "metadata": {},
   "outputs": [],
   "source": []
  },
  {
   "cell_type": "markdown",
   "metadata": {
    "id": "QTOLeRlMerAm"
   },
   "source": [
    "Сделаем категорию **\"ticket_type_nm\"** раноговой "
   ]
  },
  {
   "cell_type": "code",
   "execution_count": 16,
   "metadata": {
    "colab": {
     "base_uri": "https://localhost:8080/"
    },
    "id": "Ydb_kzQlOfCP",
    "outputId": "5bd0c97e-b38e-40ba-dba7-c0a27a6468e1"
   },
   "outputs": [
    {
     "data": {
      "text/plain": [
       "КОШЕЛЕК                                                   262499\n",
       "30 дней ЕДИНЫЙ ТК                                         177041\n",
       "Социальная карта москвича                                 127022\n",
       "30 дней                                                   117064\n",
       "90 дней ЕДИНЫЙ ТК                                          58071\n",
       "30 дней СК студента                                        48658\n",
       "60 поездок ЕДИНЫЙ ТК                                       46542\n",
       "30 дней Пригород ТК                                        45381\n",
       "СК студента 30 дней                                        39395\n",
       "ББК                                                        29674\n",
       "30 дней СК учащегося                                       24307\n",
       "365 дней ЕДИНЫЙ ТК                                         20859\n",
       "СК учащегося 30 дней                                       16933\n",
       "Социальная карта жителя Моск. области                      15551\n",
       "90 дней                                                    12817\n",
       "Пропуск FacePay                                             9234\n",
       "СК студента 90 дней                                         6744\n",
       "СК учащегося 90 дней                                        3169\n",
       "30 дней  Пригород                                           3098\n",
       "БСК дружинника г.Москвы                                     2829\n",
       "СК для сотрудника ГУВД г.Москвы                             2634\n",
       "ВЕСБ МОСКВА (7мин)                                          2555\n",
       "90 дней СК студента                                         2535\n",
       "Социальная карта москвича с сопровождающим                  2272\n",
       "90 дней Пригород ТК                                         2258\n",
       "90 дней СК учащегося                                        1549\n",
       "30 дней СК ординатора                                       1264\n",
       "365 дней Пригород ТК                                        1173\n",
       "СК ординатора 30 дней                                       1166\n",
       "30 дней СК аспиранта                                        1045\n",
       "СК аспиранта 30 дней                                         869\n",
       "365 дней                                                     768\n",
       "Пропуск сотрудника УВД по охране Метрополитена               541\n",
       "СК аспиранта 90 дней                                         510\n",
       "3 суток Единый ТК                                            504\n",
       "СК ординатора 90 дней                                        361\n",
       "ВЕСБ МО (7 мин)                                              335\n",
       "Социальная карта жителя Моск. области с сопровождающим       244\n",
       "Ультралайт Единый (70)                                       233\n",
       "90 дней  Пригород                                            188\n",
       "Временный билет ММ                                           159\n",
       "90 дней СК ординатора                                        142\n",
       "1 сутки ЕДИНЫЙ ТК                                            123\n",
       "Пропуск сотрудника  метрополитена                            113\n",
       "Билет 3 суток ЕДИНЫЙ                                         113\n",
       "90 дней СК аспиранта                                          92\n",
       "ВЕСБ МО (тип 5)                                               61\n",
       "Безналичная транспортная карта                                60\n",
       "ВЕСБ МОСКВА                                                   56\n",
       "30 дней СК ассистента-стажера                                 49\n",
       "Пропуск  сотрудника МЦК                                       44\n",
       "СК ассистента-стажера 30 дней                                 34\n",
       "365 дней  Пригород                                            30\n",
       "Пропуск руководителя метрополитена                            24\n",
       "СК ассистента-стажера 90 дней                                 10\n",
       "1 сутки Пригород ТК                                            7\n",
       "ВЛБ МОСКВА                                                     6\n",
       "ВЕСБ МО с сопровождающим                                       2\n",
       "ВЕСБ МО (тип 6)                                                2\n",
       "Билет 1 сутки ЕДИНЫЙ                                           2\n",
       "Name: ticket_type_nm, dtype: int64"
      ]
     },
     "execution_count": 16,
     "metadata": {},
     "output_type": "execute_result"
    }
   ],
   "source": [
    "df[\"ticket_type_nm\"].value_counts()"
   ]
  },
  {
   "cell_type": "markdown",
   "metadata": {
    "id": "9treu6dEfnd6"
   },
   "source": [
    "\n",
    "Кажется нет четкой зависимости между категорией билета и временем между заходи на станцию"
   ]
  },
  {
   "cell_type": "code",
   "execution_count": 17,
   "metadata": {},
   "outputs": [],
   "source": [
    "df[\"ticket_type_nm\"] = pd.Categorical(df[\"ticket_type_nm\"])\n",
    "df[\"ticket_type_nm\"].astype('category').cat.codes\n",
    "df[\"ticket_type_nm\"] = df[\"ticket_type_nm\"].cat.codes"
   ]
  },
  {
   "cell_type": "code",
   "execution_count": 18,
   "metadata": {
    "colab": {
     "base_uri": "https://localhost:8080/",
     "height": 459
    },
    "id": "OH-8nXJ5fJAX",
    "outputId": "55f5ec51-ba31-445b-8934-2cdb6bfc706e"
   },
   "outputs": [],
   "source": [
    "# sns.jointplot(x = \"ticket_type_nm\", y = 'time_to_under', data = df, kind = 'reg')"
   ]
  },
  {
   "cell_type": "markdown",
   "metadata": {
    "id": "6akkv0A1gJ0i"
   },
   "source": [
    "Видоизменим категорию **\"pass_dttm\"**  "
   ]
  },
  {
   "cell_type": "code",
   "execution_count": 19,
   "metadata": {
    "id": "DPEIPif0gxna"
   },
   "outputs": [],
   "source": [
    "df[\"day\"] = df.pass_dttm.map(lambda x: int(x.split(\"-\")[2].split(\" \")[0]))\n",
    "df[\"hours\"] = df.pass_dttm.map(lambda x: int(x.split(\"-\")[2].split(\" \")[1].split(\":\")[0]))"
   ]
  },
  {
   "cell_type": "markdown",
   "metadata": {
    "id": "I9tE-DlZhF7M"
   },
   "source": [
    "Добавим новый столбец в датсет и взглянем на то что у нас получилось"
   ]
  },
  {
   "cell_type": "code",
   "execution_count": 20,
   "metadata": {
    "colab": {
     "base_uri": "https://localhost:8080/",
     "height": 260
    },
    "id": "RJsQl2nZgjnR",
    "outputId": "2b7e695d-69c8-408b-970d-f9dd68980708"
   },
   "outputs": [],
   "source": [
    "# df.head(3)"
   ]
  },
  {
   "cell_type": "code",
   "execution_count": 21,
   "metadata": {
    "colab": {
     "base_uri": "https://localhost:8080/",
     "height": 850
    },
    "id": "LQNuW50pgJYa",
    "outputId": "65403205-e8be-4e9a-d6d2-279c3c8c04f0"
   },
   "outputs": [],
   "source": [
    "# plt.rcParams['figure.figsize']=(15,15)\n",
    "\n",
    "# corr = df.corr()\n",
    "# g = sns.heatmap(corr, square = True, annot=True)"
   ]
  },
  {
   "cell_type": "markdown",
   "metadata": {
    "id": "WIFh_dnOhj1V"
   },
   "source": [
    "## Выделим выборки"
   ]
  },
  {
   "cell_type": "code",
   "execution_count": 22,
   "metadata": {
    "id": "mkCL9b-8hmZ1"
   },
   "outputs": [],
   "source": [
    "X = df.drop([\"id\", \"ticket_id\", \"entrance_nm\", \"station_nm\", \"line_nm\", \"pass_dttm\", \"label\",\"time_to_under\"], axis = 1)\n",
    "y = df[[\"time_to_under\", \"label\"]]"
   ]
  },
  {
   "cell_type": "code",
   "execution_count": 23,
   "metadata": {
    "id": "NfIOX9Lbik_i"
   },
   "outputs": [],
   "source": [
    "X_train, X_test, y_train, y_test = train_test_split(X, y, test_size=0.2, random_state=42)"
   ]
  },
  {
   "cell_type": "code",
   "execution_count": 24,
   "metadata": {},
   "outputs": [
    {
     "data": {
      "text/html": [
       "<div>\n",
       "<style scoped>\n",
       "    .dataframe tbody tr th:only-of-type {\n",
       "        vertical-align: middle;\n",
       "    }\n",
       "\n",
       "    .dataframe tbody tr th {\n",
       "        vertical-align: top;\n",
       "    }\n",
       "\n",
       "    .dataframe thead th {\n",
       "        text-align: right;\n",
       "    }\n",
       "</style>\n",
       "<table border=\"1\" class=\"dataframe\">\n",
       "  <thead>\n",
       "    <tr style=\"text-align: right;\">\n",
       "      <th></th>\n",
       "      <th>ticket_type_nm</th>\n",
       "      <th>entrance_id</th>\n",
       "      <th>station_id</th>\n",
       "      <th>line_id</th>\n",
       "      <th>day</th>\n",
       "      <th>hours</th>\n",
       "    </tr>\n",
       "  </thead>\n",
       "  <tbody>\n",
       "    <tr>\n",
       "      <th>882227</th>\n",
       "      <td>3</td>\n",
       "      <td>412</td>\n",
       "      <td>10005</td>\n",
       "      <td>10</td>\n",
       "      <td>17</td>\n",
       "      <td>8</td>\n",
       "    </tr>\n",
       "    <tr>\n",
       "      <th>948359</th>\n",
       "      <td>3</td>\n",
       "      <td>408</td>\n",
       "      <td>10009</td>\n",
       "      <td>10</td>\n",
       "      <td>17</td>\n",
       "      <td>15</td>\n",
       "    </tr>\n",
       "    <tr>\n",
       "      <th>131332</th>\n",
       "      <td>6</td>\n",
       "      <td>1006</td>\n",
       "      <td>9005</td>\n",
       "      <td>9</td>\n",
       "      <td>12</td>\n",
       "      <td>10</td>\n",
       "    </tr>\n",
       "    <tr>\n",
       "      <th>888247</th>\n",
       "      <td>3</td>\n",
       "      <td>220</td>\n",
       "      <td>8005</td>\n",
       "      <td>8</td>\n",
       "      <td>17</td>\n",
       "      <td>8</td>\n",
       "    </tr>\n",
       "    <tr>\n",
       "      <th>686932</th>\n",
       "      <td>5</td>\n",
       "      <td>279</td>\n",
       "      <td>6007</td>\n",
       "      <td>6</td>\n",
       "      <td>16</td>\n",
       "      <td>6</td>\n",
       "    </tr>\n",
       "    <tr>\n",
       "      <th>...</th>\n",
       "      <td>...</td>\n",
       "      <td>...</td>\n",
       "      <td>...</td>\n",
       "      <td>...</td>\n",
       "      <td>...</td>\n",
       "      <td>...</td>\n",
       "    </tr>\n",
       "    <tr>\n",
       "      <th>110268</th>\n",
       "      <td>5</td>\n",
       "      <td>115</td>\n",
       "      <td>2017</td>\n",
       "      <td>2</td>\n",
       "      <td>12</td>\n",
       "      <td>9</td>\n",
       "    </tr>\n",
       "    <tr>\n",
       "      <th>259178</th>\n",
       "      <td>6</td>\n",
       "      <td>213</td>\n",
       "      <td>5003</td>\n",
       "      <td>5</td>\n",
       "      <td>13</td>\n",
       "      <td>8</td>\n",
       "    </tr>\n",
       "    <tr>\n",
       "      <th>131932</th>\n",
       "      <td>38</td>\n",
       "      <td>2263</td>\n",
       "      <td>15002</td>\n",
       "      <td>15</td>\n",
       "      <td>12</td>\n",
       "      <td>10</td>\n",
       "    </tr>\n",
       "    <tr>\n",
       "      <th>671155</th>\n",
       "      <td>51</td>\n",
       "      <td>2183</td>\n",
       "      <td>10015</td>\n",
       "      <td>10</td>\n",
       "      <td>15</td>\n",
       "      <td>19</td>\n",
       "    </tr>\n",
       "    <tr>\n",
       "      <th>121958</th>\n",
       "      <td>16</td>\n",
       "      <td>266</td>\n",
       "      <td>6010</td>\n",
       "      <td>6</td>\n",
       "      <td>12</td>\n",
       "      <td>9</td>\n",
       "    </tr>\n",
       "  </tbody>\n",
       "</table>\n",
       "<p>872816 rows × 6 columns</p>\n",
       "</div>"
      ],
      "text/plain": [
       "        ticket_type_nm  entrance_id  station_id  line_id  day  hours\n",
       "882227               3          412       10005       10   17      8\n",
       "948359               3          408       10009       10   17     15\n",
       "131332               6         1006        9005        9   12     10\n",
       "888247               3          220        8005        8   17      8\n",
       "686932               5          279        6007        6   16      6\n",
       "...                ...          ...         ...      ...  ...    ...\n",
       "110268               5          115        2017        2   12      9\n",
       "259178               6          213        5003        5   13      8\n",
       "131932              38         2263       15002       15   12     10\n",
       "671155              51         2183       10015       10   15     19\n",
       "121958              16          266        6010        6   12      9\n",
       "\n",
       "[872816 rows x 6 columns]"
      ]
     },
     "execution_count": 24,
     "metadata": {},
     "output_type": "execute_result"
    }
   ],
   "source": [
    "X_train"
   ]
  },
  {
   "cell_type": "code",
   "execution_count": 25,
   "metadata": {},
   "outputs": [],
   "source": [
    "# X"
   ]
  },
  {
   "cell_type": "code",
   "execution_count": 26,
   "metadata": {
    "colab": {
     "base_uri": "https://localhost:8080/",
     "height": 424
    },
    "id": "8DMXViK5SLpd",
    "outputId": "b6afedf5-05ec-4f40-fb16-aeb2b2571d2c"
   },
   "outputs": [],
   "source": [
    "# y_train"
   ]
  },
  {
   "cell_type": "markdown",
   "metadata": {
    "id": "60NotS9ehbO5"
   },
   "source": [
    "## Обучение модели"
   ]
  },
  {
   "cell_type": "markdown",
   "metadata": {
    "id": "uZW02LaeSVpa"
   },
   "source": [
    "Для станции "
   ]
  },
  {
   "cell_type": "code",
   "execution_count": 64,
   "metadata": {
    "id": "jc-KKFlWf6_N"
   },
   "outputs": [],
   "source": [
    "clf = RandomForestClassifier(n_estimators=300, random_state=10, n_jobs=7, verbose=1, max_depth=15)"
   ]
  },
  {
   "cell_type": "code",
   "execution_count": 65,
   "metadata": {
    "colab": {
     "base_uri": "https://localhost:8080/"
    },
    "id": "bc8JAH4yf7Bs",
    "outputId": "0d306e85-02df-4e0f-e83e-33c93b40a20a"
   },
   "outputs": [
    {
     "name": "stderr",
     "output_type": "stream",
     "text": [
      "[Parallel(n_jobs=7)]: Using backend ThreadingBackend with 7 concurrent workers.\n",
      "[Parallel(n_jobs=7)]: Done  36 tasks      | elapsed:   11.0s\n",
      "[Parallel(n_jobs=7)]: Done 186 tasks      | elapsed:   53.1s\n",
      "[Parallel(n_jobs=7)]: Done 300 out of 300 | elapsed:  1.5min finished\n"
     ]
    },
    {
     "data": {
      "text/plain": [
       "RandomForestClassifier(max_depth=15, n_estimators=300, n_jobs=7,\n",
       "                       random_state=10, verbose=1)"
      ]
     },
     "execution_count": 65,
     "metadata": {},
     "output_type": "execute_result"
    }
   ],
   "source": [
    "clf.fit(X_train, y_train[\"label\"])"
   ]
  },
  {
   "cell_type": "code",
   "execution_count": 60,
   "metadata": {},
   "outputs": [],
   "source": [
    "# X.columns.values"
   ]
  },
  {
   "cell_type": "code",
   "execution_count": 61,
   "metadata": {},
   "outputs": [],
   "source": [
    "# feature_imp = pd.Series(clf.feature_importances_,index=X.columns.values).sort_values(ascending=False)\n",
    "# feature_imp"
   ]
  },
  {
   "cell_type": "markdown",
   "metadata": {
    "id": "bWkUCLOfSYGU"
   },
   "source": [
    "Для времени"
   ]
  },
  {
   "cell_type": "code",
   "execution_count": 31,
   "metadata": {
    "id": "dJOInUHASalQ"
   },
   "outputs": [],
   "source": [
    "reg = RandomForestRegressor(n_estimators=200, random_state=2, n_jobs=7, verbose=1, max_depth=15)"
   ]
  },
  {
   "cell_type": "code",
   "execution_count": 32,
   "metadata": {
    "colab": {
     "base_uri": "https://localhost:8080/"
    },
    "id": "bSwqI6szSsm0",
    "outputId": "941b2e16-2eae-4f32-d9a6-e59da6efdb50",
    "scrolled": true
   },
   "outputs": [
    {
     "name": "stderr",
     "output_type": "stream",
     "text": [
      "[Parallel(n_jobs=7)]: Using backend ThreadingBackend with 7 concurrent workers.\n",
      "[Parallel(n_jobs=7)]: Done  36 tasks      | elapsed:   14.5s\n",
      "[Parallel(n_jobs=7)]: Done 186 tasks      | elapsed:  1.1min\n",
      "[Parallel(n_jobs=7)]: Done 200 out of 200 | elapsed:  1.1min finished\n"
     ]
    },
    {
     "data": {
      "text/plain": [
       "RandomForestRegressor(max_depth=15, n_estimators=200, n_jobs=7, random_state=0,\n",
       "                      verbose=1)"
      ]
     },
     "execution_count": 32,
     "metadata": {},
     "output_type": "execute_result"
    }
   ],
   "source": [
    "reg.fit(X_train, y_train[\"time_to_under\"])"
   ]
  },
  {
   "cell_type": "code",
   "execution_count": 33,
   "metadata": {},
   "outputs": [],
   "source": [
    "# feature_imp = pd.Series(reg.feature_importances_,index=X.columns.values).sort_values(ascending=False)\n",
    "# feature_imp"
   ]
  },
  {
   "cell_type": "markdown",
   "metadata": {
    "id": "6Y60HHS5jKeN"
   },
   "source": [
    "## Оценка точности"
   ]
  },
  {
   "cell_type": "code",
   "execution_count": null,
   "metadata": {
    "colab": {
     "base_uri": "https://localhost:8080/"
    },
    "id": "AgEZTGYujQMW",
    "outputId": "e326b73a-a2db-4722-e07c-97089b971978"
   },
   "outputs": [
    {
     "name": "stderr",
     "output_type": "stream",
     "text": [
      "[Parallel(n_jobs=7)]: Using backend ThreadingBackend with 7 concurrent workers.\n",
      "[Parallel(n_jobs=7)]: Done  36 tasks      | elapsed:    7.9s\n"
     ]
    }
   ],
   "source": [
    "from sklearn.metrics import recall_score, r2_score\n",
    "\n",
    "\n",
    "pred_class = clf.predict(X_test)\n",
    "pred_reg = reg.predict(X_test)\n",
    "score_recall = recall_score(y_test[\"label\"], pred_class , average='macro')\n",
    "score_r2 = r2_score(y_test[\"time_to_under\"], pred_reg)\n",
    "score = 0.5 * score_recall +  0.5 * score_r2\n",
    "print(f'Общий скор: {score}')\n",
    "print(f'recall: {score_recall}')\n",
    "print(f'r2: {score_r2}')"
   ]
  },
  {
   "cell_type": "markdown",
   "metadata": {
    "id": "6Y60HHS5jKeN"
   },
   "source": [
    "## Создание тестового датасета"
   ]
  },
  {
   "cell_type": "code",
   "execution_count": 35,
   "metadata": {},
   "outputs": [],
   "source": [
    "df_test = pd.read_csv(\"data/test_dataset_test.csv\")"
   ]
  },
  {
   "cell_type": "code",
   "execution_count": 36,
   "metadata": {},
   "outputs": [],
   "source": [
    "df_test[\"ticket_type_nm\"] = pd.Categorical(df_test[\"ticket_type_nm\"])\n",
    "df_test[\"ticket_type_nm\"].astype('category').cat.codes\n",
    "df_test[\"ticket_type_nm\"] = df_test[\"ticket_type_nm\"].cat.codes"
   ]
  },
  {
   "cell_type": "code",
   "execution_count": 37,
   "metadata": {},
   "outputs": [],
   "source": [
    "df_test[\"day\"] = df_test.pass_dttm.map(lambda x: int(x.split(\"-\")[2].split(\" \")[0]))\n",
    "df_test[\"hours\"] = df_test.pass_dttm.map(lambda x: int(x.split(\"-\")[2].split(\" \")[1].split(\":\")[0]))"
   ]
  },
  {
   "cell_type": "code",
   "execution_count": 38,
   "metadata": {},
   "outputs": [],
   "source": [
    "X = df_test.drop([\"id\", \"ticket_id\", \"entrance_nm\", \"station_nm\", \"line_nm\", \"pass_dttm\"], axis = 1)"
   ]
  },
  {
   "cell_type": "code",
   "execution_count": 39,
   "metadata": {},
   "outputs": [],
   "source": [
    "# feature_imp = pd.Series(clf.feature_importances_,index=X.columns.values).sort_values(ascending=False)\n",
    "# feature_imp"
   ]
  },
  {
   "cell_type": "code",
   "execution_count": 40,
   "metadata": {},
   "outputs": [],
   "source": [
    "# X"
   ]
  },
  {
   "cell_type": "code",
   "execution_count": 41,
   "metadata": {
    "id": "UV0kmZqGf7D-"
   },
   "outputs": [
    {
     "name": "stderr",
     "output_type": "stream",
     "text": [
      "[Parallel(n_jobs=7)]: Using backend ThreadingBackend with 7 concurrent workers.\n",
      "[Parallel(n_jobs=7)]: Done  36 tasks      | elapsed:   20.4s\n",
      "[Parallel(n_jobs=7)]: Done 186 tasks      | elapsed:  1.4min\n",
      "[Parallel(n_jobs=7)]: Done 200 out of 200 | elapsed:  1.5min finished\n",
      "[Parallel(n_jobs=7)]: Using backend ThreadingBackend with 7 concurrent workers.\n",
      "[Parallel(n_jobs=7)]: Done  36 tasks      | elapsed:    0.2s\n",
      "[Parallel(n_jobs=7)]: Done 186 tasks      | elapsed:    1.4s\n",
      "[Parallel(n_jobs=7)]: Done 200 out of 200 | elapsed:    1.5s finished\n"
     ]
    }
   ],
   "source": [
    "pred_class = clf.predict(X)\n",
    "pred_reg = reg.predict(X)"
   ]
  },
  {
   "cell_type": "code",
   "execution_count": 42,
   "metadata": {},
   "outputs": [],
   "source": [
    "indexes = df_test['id'].to_numpy()"
   ]
  },
  {
   "cell_type": "code",
   "execution_count": 43,
   "metadata": {},
   "outputs": [
    {
     "data": {
      "text/plain": [
       "561890"
      ]
     },
     "execution_count": 43,
     "metadata": {},
     "output_type": "execute_result"
    }
   ],
   "source": [
    "len(indexes)"
   ]
  },
  {
   "cell_type": "code",
   "execution_count": 44,
   "metadata": {},
   "outputs": [
    {
     "data": {
      "text/plain": [
       "561890"
      ]
     },
     "execution_count": 44,
     "metadata": {},
     "output_type": "execute_result"
    }
   ],
   "source": [
    "len(pred_reg)"
   ]
  },
  {
   "cell_type": "code",
   "execution_count": 45,
   "metadata": {},
   "outputs": [
    {
     "data": {
      "text/plain": [
       "561890"
      ]
     },
     "execution_count": 45,
     "metadata": {},
     "output_type": "execute_result"
    }
   ],
   "source": [
    "len(pred_class)"
   ]
  },
  {
   "cell_type": "code",
   "execution_count": 46,
   "metadata": {},
   "outputs": [],
   "source": [
    "submit_df = pd.DataFrame([[id_, time_to_under, label] for id_, time_to_under, label in zip(indexes, pred_reg, pred_class)], columns=['id','time_to_under', 'label'])"
   ]
  },
  {
   "cell_type": "code",
   "execution_count": 47,
   "metadata": {},
   "outputs": [],
   "source": [
    "# submit_df = submit_df.sort_values(['id'])\n",
    "# submit_df.head(5)"
   ]
  },
  {
   "cell_type": "code",
   "execution_count": 48,
   "metadata": {},
   "outputs": [],
   "source": [
    "now_time = datetime.now().strftime(\"%d_%m_%Y %H_%M\")"
   ]
  },
  {
   "cell_type": "code",
   "execution_count": 49,
   "metadata": {},
   "outputs": [],
   "source": [
    "os.mkdir(now_time)"
   ]
  },
  {
   "cell_type": "code",
   "execution_count": 55,
   "metadata": {},
   "outputs": [],
   "source": [
    "submit_df.to_csv(f\"{now_time}/submit_{now_time}.csv\", index=False)"
   ]
  },
  {
   "cell_type": "code",
   "execution_count": 57,
   "metadata": {},
   "outputs": [],
   "source": [
    "with open(f'{now_time}/parametrs.txt', 'w') as file:\n",
    "    file.write('clf_params()')\n",
    "    file.write(json.dumps(clf.get_params(), indent=4))\n",
    "    file.write('\\n'+'reg_params()')\n",
    "    file.write(json.dumps(reg.get_params(), indent=4))\n",
    "\n",
    "with open(f'{now_time}/results.txt', 'w') as file:\n",
    "    file.write(f'Score_recall (clf): {score_recall}')\n",
    "    file.write('\\n'+f'Score_r2 (reg): {score_r2}')\n",
    "    file.write('\\n'+f'Score: {score}')"
   ]
  },
  {
   "cell_type": "markdown",
   "metadata": {},
   "source": [
    "Заметка:"
   ]
  },
  {
   "cell_type": "code",
   "execution_count": 54,
   "metadata": {},
   "outputs": [
    {
     "data": {
      "text/plain": [
       "'05_11_2022 18_14'"
      ]
     },
     "execution_count": 54,
     "metadata": {},
     "output_type": "execute_result"
    }
   ],
   "source": [
    "now_time"
   ]
  },
  {
   "cell_type": "code",
   "execution_count": null,
   "metadata": {},
   "outputs": [],
   "source": []
  }
 ],
 "metadata": {
  "celltoolbar": "Необработанный формат ячейки",
  "colab": {
   "provenance": []
  },
  "kernelspec": {
   "display_name": "cifpro",
   "language": "python",
   "name": "cifpro"
  },
  "language_info": {
   "codemirror_mode": {
    "name": "ipython",
    "version": 3
   },
   "file_extension": ".py",
   "mimetype": "text/x-python",
   "name": "python",
   "nbconvert_exporter": "python",
   "pygments_lexer": "ipython3",
   "version": "3.10.0"
  }
 },
 "nbformat": 4,
 "nbformat_minor": 1
}
