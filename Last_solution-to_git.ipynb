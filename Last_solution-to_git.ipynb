{
 "cells": [
  {
   "cell_type": "code",
   "execution_count": 2,
   "id": "c08dd033",
   "metadata": {},
   "outputs": [
    {
     "name": "stdout",
     "output_type": "stream",
     "text": [
      "INFO: Pandarallel will run on 8 workers.\n",
      "INFO: Pandarallel will use standard multiprocessing data transfer (pipe) to transfer data between the main process and workers.\n",
      "\n",
      "WARNING: You are on Windows. If you detect any issue with pandarallel, be sure you checked out the Troubleshooting page:\n",
      "https://nalepae.github.io/pandarallel/troubleshooting/\n"
     ]
    }
   ],
   "source": [
    "import os\n",
    "from datetime import datetime, date\n",
    "import calendar\n",
    "import time\n",
    "import json\n",
    "import numpy as np\n",
    "import warnings\n",
    "warnings.filterwarnings(\"ignore\")\n",
    "\n",
    "import pandas as pd\n",
    "import seaborn as sns\n",
    "import matplotlib.pyplot as plt\n",
    "from sklearn.model_selection import train_test_split\n",
    "from sklearn.ensemble import RandomForestClassifier, RandomForestRegressor\n",
    "\n",
    "\n",
    "from pandarallel import pandarallel\n",
    "pandarallel.initialize(progress_bar=True)\n",
    "\n",
    "from catboost import CatBoostRegressor, CatBoostClassifier, Pool, metrics, cv\n",
    "\n",
    "from sklearn.metrics import recall_score, r2_score\n",
    "\n",
    "%matplotlib inline"
   ]
  },
  {
   "cell_type": "code",
   "execution_count": 3,
   "id": "02b6f437",
   "metadata": {},
   "outputs": [
    {
     "name": "stderr",
     "output_type": "stream",
     "text": [
      "Enabling notebook extension jupyter-js-widgets/extension...\n",
      "      - Validating: ok\n"
     ]
    }
   ],
   "source": [
    "!jupyter nbextension enable --py widgetsnbextension"
   ]
  },
  {
   "cell_type": "code",
   "execution_count": 4,
   "id": "7c6add06",
   "metadata": {},
   "outputs": [],
   "source": [
    "# df = pd.read_csv(\"data/train_dataset_train.csv\", nrows = 10000)\n",
    "df_train = pd.read_csv(\"data/train_dataset_train.csv\")\n",
    "# df_add = pd.read_csv(\"subway.csv\")\n",
    "df_test = pd.read_csv(\"data/test_dataset_test.csv\")"
   ]
  },
  {
   "cell_type": "code",
   "execution_count": 5,
   "id": "fc0fa360",
   "metadata": {},
   "outputs": [],
   "source": []
  },
  {
   "cell_type": "code",
   "execution_count": 6,
   "id": "244617c3",
   "metadata": {},
   "outputs": [],
   "source": []
  },
  {
   "cell_type": "code",
   "execution_count": 7,
   "id": "1c934245",
   "metadata": {},
   "outputs": [
    {
     "data": {
      "text/html": [
       "<div>\n",
       "<style scoped>\n",
       "    .dataframe tbody tr th:only-of-type {\n",
       "        vertical-align: middle;\n",
       "    }\n",
       "\n",
       "    .dataframe tbody tr th {\n",
       "        vertical-align: top;\n",
       "    }\n",
       "\n",
       "    .dataframe thead th {\n",
       "        text-align: right;\n",
       "    }\n",
       "</style>\n",
       "<table border=\"1\" class=\"dataframe\">\n",
       "  <thead>\n",
       "    <tr style=\"text-align: right;\">\n",
       "      <th></th>\n",
       "      <th>id</th>\n",
       "      <th>ticket_id</th>\n",
       "      <th>ticket_type_nm</th>\n",
       "      <th>entrance_id</th>\n",
       "      <th>entrance_nm</th>\n",
       "      <th>station_id</th>\n",
       "      <th>station_nm</th>\n",
       "      <th>line_id</th>\n",
       "      <th>line_nm</th>\n",
       "      <th>pass_dttm</th>\n",
       "      <th>time_to_under</th>\n",
       "      <th>label</th>\n",
       "    </tr>\n",
       "  </thead>\n",
       "  <tbody>\n",
       "    <tr>\n",
       "      <th>0</th>\n",
       "      <td>1</td>\n",
       "      <td>40BD89EC85646EFB69E283F39C298E60</td>\n",
       "      <td>Пропуск FacePay</td>\n",
       "      <td>2402</td>\n",
       "      <td>Лефортово БКЛ</td>\n",
       "      <td>11007</td>\n",
       "      <td>Лефортово</td>\n",
       "      <td>11</td>\n",
       "      <td>Большая кольцевая</td>\n",
       "      <td>2022-09-12 05:00:13</td>\n",
       "      <td>216.316667</td>\n",
       "      <td>8001</td>\n",
       "    </tr>\n",
       "    <tr>\n",
       "      <th>1</th>\n",
       "      <td>2</td>\n",
       "      <td>126727A96489CC976A8C08E5CEB00542</td>\n",
       "      <td>СК учащегося 30 дней</td>\n",
       "      <td>110</td>\n",
       "      <td>Войковская ( Южный )</td>\n",
       "      <td>2006</td>\n",
       "      <td>Войковская</td>\n",
       "      <td>2</td>\n",
       "      <td>Замоскворецкая</td>\n",
       "      <td>2022-09-12 05:00:54</td>\n",
       "      <td>648.183333</td>\n",
       "      <td>9011</td>\n",
       "    </tr>\n",
       "    <tr>\n",
       "      <th>2</th>\n",
       "      <td>3</td>\n",
       "      <td>D28CE6A9E0E5B6D213470A97CFF32485</td>\n",
       "      <td>БСК дружинника г.Москвы</td>\n",
       "      <td>110</td>\n",
       "      <td>Войковская ( Южный )</td>\n",
       "      <td>2006</td>\n",
       "      <td>Войковская</td>\n",
       "      <td>2</td>\n",
       "      <td>Замоскворецкая</td>\n",
       "      <td>2022-09-12 05:00:55</td>\n",
       "      <td>865.333333</td>\n",
       "      <td>7022</td>\n",
       "    </tr>\n",
       "    <tr>\n",
       "      <th>3</th>\n",
       "      <td>4</td>\n",
       "      <td>015DA44B523C062B5BFEFF3FB0E64B9E</td>\n",
       "      <td>30 дней</td>\n",
       "      <td>110</td>\n",
       "      <td>Войковская ( Южный )</td>\n",
       "      <td>2006</td>\n",
       "      <td>Войковская</td>\n",
       "      <td>2</td>\n",
       "      <td>Замоскворецкая</td>\n",
       "      <td>2022-09-12 05:01:13</td>\n",
       "      <td>1048.233333</td>\n",
       "      <td>2022</td>\n",
       "    </tr>\n",
       "    <tr>\n",
       "      <th>4</th>\n",
       "      <td>5</td>\n",
       "      <td>95B19C6F3A504727AC3EA56EB7E3E80F</td>\n",
       "      <td>КОШЕЛЕК</td>\n",
       "      <td>110</td>\n",
       "      <td>Войковская ( Южный )</td>\n",
       "      <td>2006</td>\n",
       "      <td>Войковская</td>\n",
       "      <td>2</td>\n",
       "      <td>Замоскворецкая</td>\n",
       "      <td>2022-09-12 05:02:55</td>\n",
       "      <td>965.600000</td>\n",
       "      <td>2017</td>\n",
       "    </tr>\n",
       "  </tbody>\n",
       "</table>\n",
       "</div>"
      ],
      "text/plain": [
       "   id                         ticket_id           ticket_type_nm  entrance_id  \\\n",
       "0   1  40BD89EC85646EFB69E283F39C298E60          Пропуск FacePay         2402   \n",
       "1   2  126727A96489CC976A8C08E5CEB00542     СК учащегося 30 дней          110   \n",
       "2   3  D28CE6A9E0E5B6D213470A97CFF32485  БСК дружинника г.Москвы          110   \n",
       "3   4  015DA44B523C062B5BFEFF3FB0E64B9E                  30 дней          110   \n",
       "4   5  95B19C6F3A504727AC3EA56EB7E3E80F                  КОШЕЛЕК          110   \n",
       "\n",
       "            entrance_nm  station_id  station_nm  line_id            line_nm  \\\n",
       "0         Лефортово БКЛ       11007   Лефортово       11  Большая кольцевая   \n",
       "1  Войковская ( Южный )        2006  Войковская        2     Замоскворецкая   \n",
       "2  Войковская ( Южный )        2006  Войковская        2     Замоскворецкая   \n",
       "3  Войковская ( Южный )        2006  Войковская        2     Замоскворецкая   \n",
       "4  Войковская ( Южный )        2006  Войковская        2     Замоскворецкая   \n",
       "\n",
       "             pass_dttm  time_to_under  label  \n",
       "0  2022-09-12 05:00:13     216.316667   8001  \n",
       "1  2022-09-12 05:00:54     648.183333   9011  \n",
       "2  2022-09-12 05:00:55     865.333333   7022  \n",
       "3  2022-09-12 05:01:13    1048.233333   2022  \n",
       "4  2022-09-12 05:02:55     965.600000   2017  "
      ]
     },
     "execution_count": 7,
     "metadata": {},
     "output_type": "execute_result"
    }
   ],
   "source": [
    "df_train.head()"
   ]
  },
  {
   "cell_type": "code",
   "execution_count": 8,
   "id": "c6aef1b2",
   "metadata": {},
   "outputs": [],
   "source": []
  },
  {
   "cell_type": "code",
   "execution_count": 9,
   "id": "829df171",
   "metadata": {},
   "outputs": [
    {
     "name": "stdout",
     "output_type": "stream",
     "text": [
      "<class 'pandas.core.frame.DataFrame'>\n",
      "RangeIndex: 1091021 entries, 0 to 1091020\n",
      "Data columns (total 12 columns):\n",
      " #   Column          Non-Null Count    Dtype  \n",
      "---  ------          --------------    -----  \n",
      " 0   id              1091021 non-null  int64  \n",
      " 1   ticket_id       1091021 non-null  object \n",
      " 2   ticket_type_nm  1091021 non-null  object \n",
      " 3   entrance_id     1091021 non-null  int64  \n",
      " 4   entrance_nm     1091021 non-null  object \n",
      " 5   station_id      1091021 non-null  int64  \n",
      " 6   station_nm      1091021 non-null  object \n",
      " 7   line_id         1091021 non-null  int64  \n",
      " 8   line_nm         1091021 non-null  object \n",
      " 9   pass_dttm       1091021 non-null  object \n",
      " 10  time_to_under   1091021 non-null  float64\n",
      " 11  label           1091021 non-null  int64  \n",
      "dtypes: float64(1), int64(5), object(6)\n",
      "memory usage: 99.9+ MB\n"
     ]
    }
   ],
   "source": [
    "df_train.info()"
   ]
  },
  {
   "cell_type": "code",
   "execution_count": null,
   "id": "bc9367f8",
   "metadata": {},
   "outputs": [],
   "source": []
  },
  {
   "cell_type": "code",
   "execution_count": 45,
   "id": "ed13703b",
   "metadata": {},
   "outputs": [],
   "source": []
  },
  {
   "cell_type": "code",
   "execution_count": 10,
   "id": "9c5b51c4",
   "metadata": {},
   "outputs": [
    {
     "data": {
      "text/plain": [
       "КОШЕЛЕК                                                   134786\n",
       "30 дней ЕДИНЫЙ ТК                                          90977\n",
       "Социальная карта москвича                                  65307\n",
       "30 дней                                                    60807\n",
       "90 дней ЕДИНЫЙ ТК                                          29938\n",
       "30 дней СК студента                                        24952\n",
       "60 поездок ЕДИНЫЙ ТК                                       23828\n",
       "30 дней Пригород ТК                                        22854\n",
       "СК студента 30 дней                                        20363\n",
       "ББК                                                        15183\n",
       "30 дней СК учащегося                                       12493\n",
       "365 дней ЕДИНЫЙ ТК                                         11215\n",
       "СК учащегося 30 дней                                        9099\n",
       "Социальная карта жителя Моск. области                       7880\n",
       "90 дней                                                     6519\n",
       "Пропуск FacePay                                             4795\n",
       "СК студента 90 дней                                         3419\n",
       "СК учащегося 90 дней                                        1690\n",
       "30 дней  Пригород                                           1666\n",
       "БСК дружинника г.Москвы                                     1578\n",
       "СК для сотрудника ГУВД г.Москвы                             1410\n",
       "90 дней СК студента                                         1374\n",
       "90 дней Пригород ТК                                         1340\n",
       "ВЕСБ МОСКВА (7мин)                                          1233\n",
       "Социальная карта москвича с сопровождающим                  1130\n",
       "90 дней СК учащегося                                         794\n",
       "365 дней Пригород ТК                                         699\n",
       "30 дней СК ординатора                                        668\n",
       "СК аспиранта 30 дней                                         542\n",
       "СК ординатора 30 дней                                        532\n",
       "30 дней СК аспиранта                                         424\n",
       "365 дней                                                     341\n",
       "СК аспиранта 90 дней                                         281\n",
       "Пропуск сотрудника УВД по охране Метрополитена               270\n",
       "3 суток Единый ТК                                            224\n",
       "ВЕСБ МО (7 мин)                                              209\n",
       "СК ординатора 90 дней                                        183\n",
       "Социальная карта жителя Моск. области с сопровождающим       123\n",
       "Ультралайт Единый (70)                                       104\n",
       "Временный билет ММ                                            95\n",
       "90 дней  Пригород                                             89\n",
       "1 сутки ЕДИНЫЙ ТК                                             71\n",
       "Пропуск сотрудника  метрополитена                             64\n",
       "90 дней СК аспиранта                                          55\n",
       "Билет 3 суток ЕДИНЫЙ                                          47\n",
       "90 дней СК ординатора                                         40\n",
       "Пропуск  сотрудника МЦК                                       39\n",
       "ВЕСБ МОСКВА                                                   26\n",
       "СК ассистента-стажера 30 дней                                 23\n",
       "ВЕСБ МО (тип 5)                                               22\n",
       "Безналичная транспортная карта                                22\n",
       "365 дней  Пригород                                            21\n",
       "30 дней СК ассистента-стажера                                 14\n",
       "1 сутки Пригород ТК                                           10\n",
       "СК ассистента-стажера 90 дней                                  8\n",
       "Пропуск руководителя метрополитена                             7\n",
       "СК студента на 3 месяца                                        4\n",
       "ВЛБ МОСКВА                                                     3\n",
       "Name: ticket_type_nm, dtype: int64"
      ]
     },
     "execution_count": 10,
     "metadata": {},
     "output_type": "execute_result"
    }
   ],
   "source": [
    "df_test.ticket_type_nm.value_counts()"
   ]
  },
  {
   "cell_type": "code",
   "execution_count": 11,
   "id": "878fa650",
   "metadata": {},
   "outputs": [
    {
     "data": {
      "text/plain": [
       "КОШЕЛЕК                                                   262499\n",
       "30 дней ЕДИНЫЙ ТК                                         177041\n",
       "Социальная карта москвича                                 127022\n",
       "30 дней                                                   117064\n",
       "90 дней ЕДИНЫЙ ТК                                          58071\n",
       "30 дней СК студента                                        48658\n",
       "60 поездок ЕДИНЫЙ ТК                                       46542\n",
       "30 дней Пригород ТК                                        45381\n",
       "СК студента 30 дней                                        39395\n",
       "ББК                                                        29674\n",
       "30 дней СК учащегося                                       24307\n",
       "365 дней ЕДИНЫЙ ТК                                         20859\n",
       "СК учащегося 30 дней                                       16933\n",
       "Социальная карта жителя Моск. области                      15551\n",
       "90 дней                                                    12817\n",
       "Пропуск FacePay                                             9234\n",
       "СК студента 90 дней                                         6744\n",
       "СК учащегося 90 дней                                        3169\n",
       "30 дней  Пригород                                           3098\n",
       "БСК дружинника г.Москвы                                     2829\n",
       "СК для сотрудника ГУВД г.Москвы                             2634\n",
       "ВЕСБ МОСКВА (7мин)                                          2555\n",
       "90 дней СК студента                                         2535\n",
       "Социальная карта москвича с сопровождающим                  2272\n",
       "90 дней Пригород ТК                                         2258\n",
       "90 дней СК учащегося                                        1549\n",
       "30 дней СК ординатора                                       1264\n",
       "365 дней Пригород ТК                                        1173\n",
       "СК ординатора 30 дней                                       1166\n",
       "30 дней СК аспиранта                                        1045\n",
       "СК аспиранта 30 дней                                         869\n",
       "365 дней                                                     768\n",
       "Пропуск сотрудника УВД по охране Метрополитена               541\n",
       "СК аспиранта 90 дней                                         510\n",
       "3 суток Единый ТК                                            504\n",
       "СК ординатора 90 дней                                        361\n",
       "ВЕСБ МО (7 мин)                                              335\n",
       "Социальная карта жителя Моск. области с сопровождающим       244\n",
       "Ультралайт Единый (70)                                       233\n",
       "90 дней  Пригород                                            188\n",
       "Временный билет ММ                                           159\n",
       "90 дней СК ординатора                                        142\n",
       "1 сутки ЕДИНЫЙ ТК                                            123\n",
       "Пропуск сотрудника  метрополитена                            113\n",
       "Билет 3 суток ЕДИНЫЙ                                         113\n",
       "90 дней СК аспиранта                                          92\n",
       "ВЕСБ МО (тип 5)                                               61\n",
       "Безналичная транспортная карта                                60\n",
       "ВЕСБ МОСКВА                                                   56\n",
       "30 дней СК ассистента-стажера                                 49\n",
       "Пропуск  сотрудника МЦК                                       44\n",
       "СК ассистента-стажера 30 дней                                 34\n",
       "365 дней  Пригород                                            30\n",
       "Пропуск руководителя метрополитена                            24\n",
       "СК ассистента-стажера 90 дней                                 10\n",
       "1 сутки Пригород ТК                                            7\n",
       "ВЛБ МОСКВА                                                     6\n",
       "ВЕСБ МО с сопровождающим                                       2\n",
       "ВЕСБ МО (тип 6)                                                2\n",
       "Билет 1 сутки ЕДИНЫЙ                                           2\n",
       "Name: ticket_type_nm, dtype: int64"
      ]
     },
     "execution_count": 11,
     "metadata": {},
     "output_type": "execute_result"
    }
   ],
   "source": [
    "df_train.ticket_type_nm.value_counts()"
   ]
  },
  {
   "cell_type": "code",
   "execution_count": 93,
   "id": "b56057d1",
   "metadata": {},
   "outputs": [
    {
     "data": {
      "text/plain": [
       "<AxesSubplot: >"
      ]
     },
     "execution_count": 93,
     "metadata": {},
     "output_type": "execute_result"
    },
    {
     "data": {
      "image/png": "[encoded data removed]",
      "text/plain": [
       "<Figure size 1440x720 with 2 Axes>"
      ]
     },
     "metadata": {
      "needs_background": "light"
     },
     "output_type": "display_data"
    }
   ],
   "source": [
    "fig, ax = plt.subplots(nrows=1, ncols=2, figsize=(20, 10))\n",
    "\n",
    "df_train.ticket_type_nm.hist(bins=100, ax=ax[0])\n",
    "df_test.ticket_type_nm.hist(bins=100, ax=ax[1])"
   ]
  },
  {
   "cell_type": "code",
   "execution_count": 46,
   "id": "22008d61",
   "metadata": {},
   "outputs": [
    {
     "data": {
      "text/plain": [
       "<AxesSubplot: xlabel='label', ylabel='Density'>"
      ]
     },
     "execution_count": 46,
     "metadata": {},
     "output_type": "execute_result"
    },
    {
     "data": {
      "image/png": "[encoded data removed]",
      "text/plain": [
       "<Figure size 432x288 with 1 Axes>"
      ]
     },
     "metadata": {
      "needs_background": "light"
     },
     "output_type": "display_data"
    }
   ],
   "source": [
    "sns.distplot(df_train['label'])"
   ]
  },
  {
   "cell_type": "code",
   "execution_count": null,
   "id": "066a50bb",
   "metadata": {},
   "outputs": [],
   "source": []
  },
  {
   "cell_type": "code",
   "execution_count": 64,
   "id": "66cb3a10",
   "metadata": {},
   "outputs": [],
   "source": [
    "df1 = df_train.ticket_type_nm.unique()\n",
    "# df1.tolist()"
   ]
  },
  {
   "cell_type": "code",
   "execution_count": 65,
   "id": "369cf276",
   "metadata": {},
   "outputs": [],
   "source": [
    "df2 = df_test.ticket_type_nm.unique()\n",
    "# df2.tolist()"
   ]
  },
  {
   "cell_type": "code",
   "execution_count": 66,
   "id": "2ecce1fe",
   "metadata": {},
   "outputs": [],
   "source": [
    "for i in df1.tolist():\n",
    "    if i not in df2.tolist():\n",
    "        print(i)"
   ]
  },
  {
   "cell_type": "code",
   "execution_count": 67,
   "id": "173fffb1",
   "metadata": {},
   "outputs": [],
   "source": [
    "for i in df2.tolist():\n",
    "    if i not in df1.tolist():\n",
    "        print(i)"
   ]
  },
  {
   "cell_type": "code",
   "execution_count": 63,
   "id": "ea7544de",
   "metadata": {},
   "outputs": [],
   "source": [
    "df_train = df_train[df_train.ticket_type_nm != 'ВЕСБ МО с сопровождающим']\n",
    "df_train = df_train[df_train.ticket_type_nm != 'ВЕСБ МО (тип 6)']"
   ]
  },
  {
   "cell_type": "code",
   "execution_count": 68,
   "id": "35da4e0b",
   "metadata": {},
   "outputs": [],
   "source": [
    "df_ste = df_test.station_id.unique()\n",
    "# df_ste.tolist()"
   ]
  },
  {
   "cell_type": "code",
   "execution_count": 69,
   "id": "ed024b42",
   "metadata": {},
   "outputs": [],
   "source": [
    "df_str = df_train.station_id.unique()\n",
    "# df_str.tolist()"
   ]
  },
  {
   "cell_type": "code",
   "execution_count": 70,
   "id": "b8890e50",
   "metadata": {},
   "outputs": [],
   "source": [
    "for i in df_str.tolist():\n",
    "    if i not in df_ste.tolist():\n",
    "        print(i)"
   ]
  },
  {
   "cell_type": "code",
   "execution_count": 71,
   "id": "31274141",
   "metadata": {},
   "outputs": [],
   "source": [
    "for i in df_ste.tolist():\n",
    "    if i not in df_str.tolist():\n",
    "        print(i)"
   ]
  },
  {
   "cell_type": "code",
   "execution_count": 72,
   "id": "dd3f50db",
   "metadata": {},
   "outputs": [
    {
     "data": {
      "text/html": [
       "<div>\n",
       "<style scoped>\n",
       "    .dataframe tbody tr th:only-of-type {\n",
       "        vertical-align: middle;\n",
       "    }\n",
       "\n",
       "    .dataframe tbody tr th {\n",
       "        vertical-align: top;\n",
       "    }\n",
       "\n",
       "    .dataframe thead th {\n",
       "        text-align: right;\n",
       "    }\n",
       "</style>\n",
       "<table border=\"1\" class=\"dataframe\">\n",
       "  <thead>\n",
       "    <tr style=\"text-align: right;\">\n",
       "      <th></th>\n",
       "      <th>id</th>\n",
       "      <th>ticket_id</th>\n",
       "      <th>ticket_type_nm</th>\n",
       "      <th>entrance_id</th>\n",
       "      <th>entrance_nm</th>\n",
       "      <th>station_id</th>\n",
       "      <th>station_nm</th>\n",
       "      <th>line_id</th>\n",
       "      <th>line_nm</th>\n",
       "      <th>pass_dttm</th>\n",
       "      <th>time_to_under</th>\n",
       "      <th>label</th>\n",
       "    </tr>\n",
       "  </thead>\n",
       "  <tbody>\n",
       "  </tbody>\n",
       "</table>\n",
       "</div>"
      ],
      "text/plain": [
       "Empty DataFrame\n",
       "Columns: [id, ticket_id, ticket_type_nm, entrance_id, entrance_nm, station_id, station_nm, line_id, line_nm, pass_dttm, time_to_under, label]\n",
       "Index: []"
      ]
     },
     "execution_count": 72,
     "metadata": {},
     "output_type": "execute_result"
    }
   ],
   "source": [
    "df_train[df_train.station_id == 13006]"
   ]
  },
  {
   "cell_type": "code",
   "execution_count": 73,
   "id": "d8dd3785",
   "metadata": {},
   "outputs": [
    {
     "data": {
      "text/html": [
       "<div>\n",
       "<style scoped>\n",
       "    .dataframe tbody tr th:only-of-type {\n",
       "        vertical-align: middle;\n",
       "    }\n",
       "\n",
       "    .dataframe tbody tr th {\n",
       "        vertical-align: top;\n",
       "    }\n",
       "\n",
       "    .dataframe thead th {\n",
       "        text-align: right;\n",
       "    }\n",
       "</style>\n",
       "<table border=\"1\" class=\"dataframe\">\n",
       "  <thead>\n",
       "    <tr style=\"text-align: right;\">\n",
       "      <th></th>\n",
       "      <th>id</th>\n",
       "      <th>ticket_id</th>\n",
       "      <th>ticket_type_nm</th>\n",
       "      <th>entrance_id</th>\n",
       "      <th>entrance_nm</th>\n",
       "      <th>station_id</th>\n",
       "      <th>station_nm</th>\n",
       "      <th>line_id</th>\n",
       "      <th>line_nm</th>\n",
       "      <th>pass_dttm</th>\n",
       "    </tr>\n",
       "  </thead>\n",
       "  <tbody>\n",
       "  </tbody>\n",
       "</table>\n",
       "</div>"
      ],
      "text/plain": [
       "Empty DataFrame\n",
       "Columns: [id, ticket_id, ticket_type_nm, entrance_id, entrance_nm, station_id, station_nm, line_id, line_nm, pass_dttm]\n",
       "Index: []"
      ]
     },
     "execution_count": 73,
     "metadata": {},
     "output_type": "execute_result"
    }
   ],
   "source": [
    "df_test[df_test.station_id == 13006]"
   ]
  },
  {
   "cell_type": "code",
   "execution_count": 74,
   "id": "5b8114f8",
   "metadata": {},
   "outputs": [],
   "source": [
    "df_train = df_train[df_train.station_id != 13006]"
   ]
  },
  {
   "cell_type": "code",
   "execution_count": 75,
   "id": "4c72e102",
   "metadata": {},
   "outputs": [
    {
     "data": {
      "text/html": [
       "<div>\n",
       "<style scoped>\n",
       "    .dataframe tbody tr th:only-of-type {\n",
       "        vertical-align: middle;\n",
       "    }\n",
       "\n",
       "    .dataframe tbody tr th {\n",
       "        vertical-align: top;\n",
       "    }\n",
       "\n",
       "    .dataframe thead th {\n",
       "        text-align: right;\n",
       "    }\n",
       "</style>\n",
       "<table border=\"1\" class=\"dataframe\">\n",
       "  <thead>\n",
       "    <tr style=\"text-align: right;\">\n",
       "      <th></th>\n",
       "      <th>id</th>\n",
       "      <th>ticket_id</th>\n",
       "      <th>ticket_type_nm</th>\n",
       "      <th>entrance_id</th>\n",
       "      <th>entrance_nm</th>\n",
       "      <th>station_id</th>\n",
       "      <th>station_nm</th>\n",
       "      <th>line_id</th>\n",
       "      <th>line_nm</th>\n",
       "      <th>pass_dttm</th>\n",
       "      <th>time_to_under</th>\n",
       "      <th>label</th>\n",
       "    </tr>\n",
       "  </thead>\n",
       "  <tbody>\n",
       "  </tbody>\n",
       "</table>\n",
       "</div>"
      ],
      "text/plain": [
       "Empty DataFrame\n",
       "Columns: [id, ticket_id, ticket_type_nm, entrance_id, entrance_nm, station_id, station_nm, line_id, line_nm, pass_dttm, time_to_under, label]\n",
       "Index: []"
      ]
     },
     "execution_count": 75,
     "metadata": {},
     "output_type": "execute_result"
    }
   ],
   "source": [
    "df_train[df_train.station_id == 13006]"
   ]
  },
  {
   "cell_type": "code",
   "execution_count": 316,
   "id": "8f4a7066",
   "metadata": {},
   "outputs": [],
   "source": []
  },
  {
   "cell_type": "code",
   "execution_count": null,
   "id": "2d775fce",
   "metadata": {},
   "outputs": [],
   "source": []
  },
  {
   "cell_type": "code",
   "execution_count": 26,
   "id": "1416403f",
   "metadata": {},
   "outputs": [],
   "source": [
    "df_train.loc[df_train.ticket_type_nm.str.contains('учащегося', case=True), 'ticket_type_nm'] = 'СК учащегося'\n",
    "df_test.loc[df_test.ticket_type_nm.str.contains('учащегося', case=True), 'ticket_type_nm'] = 'СК учащегося'"
   ]
  },
  {
   "cell_type": "code",
   "execution_count": 27,
   "id": "a758acf2",
   "metadata": {},
   "outputs": [],
   "source": [
    "df_train.loc[df_train.ticket_type_nm.str.contains('студента', case=True), 'ticket_type_nm'] = 'СК студента'\n",
    "df_test.loc[df_test.ticket_type_nm.str.contains('студента', case=True), 'ticket_type_nm'] = 'СК студента'"
   ]
  },
  {
   "cell_type": "code",
   "execution_count": 28,
   "id": "eac109a6",
   "metadata": {},
   "outputs": [
    {
     "data": {
      "text/plain": [
       "СК учащегося    45958\n",
       "Name: ticket_type_nm, dtype: int64"
      ]
     },
     "execution_count": 28,
     "metadata": {},
     "output_type": "execute_result"
    }
   ],
   "source": [
    "df_train[df_train.ticket_type_nm.str.contains('учащегося', case=True)].ticket_type_nm.value_counts()"
   ]
  },
  {
   "cell_type": "code",
   "execution_count": 29,
   "id": "91b5458d",
   "metadata": {},
   "outputs": [
    {
     "data": {
      "text/plain": [
       "СК учащегося    24076\n",
       "Name: ticket_type_nm, dtype: int64"
      ]
     },
     "execution_count": 29,
     "metadata": {},
     "output_type": "execute_result"
    }
   ],
   "source": [
    "df_test[df_test.ticket_type_nm.str.contains('учащегося', case=True)].ticket_type_nm.value_counts()"
   ]
  },
  {
   "cell_type": "code",
   "execution_count": 30,
   "id": "d71141f7",
   "metadata": {},
   "outputs": [
    {
     "data": {
      "text/plain": [
       "СК студента    97332\n",
       "Name: ticket_type_nm, dtype: int64"
      ]
     },
     "execution_count": 30,
     "metadata": {},
     "output_type": "execute_result"
    }
   ],
   "source": [
    "df_train[df_train.ticket_type_nm.str.contains('студента', case=True)].ticket_type_nm.value_counts()"
   ]
  },
  {
   "cell_type": "code",
   "execution_count": 31,
   "id": "a6847de3",
   "metadata": {},
   "outputs": [
    {
     "data": {
      "text/plain": [
       "СК студента    50112\n",
       "Name: ticket_type_nm, dtype: int64"
      ]
     },
     "execution_count": 31,
     "metadata": {},
     "output_type": "execute_result"
    }
   ],
   "source": [
    "df_test[df_test.ticket_type_nm.str.contains('студента', case=True)].ticket_type_nm.value_counts()"
   ]
  },
  {
   "cell_type": "code",
   "execution_count": null,
   "id": "bfe9c571",
   "metadata": {},
   "outputs": [],
   "source": []
  },
  {
   "cell_type": "code",
   "execution_count": 32,
   "id": "8f693539",
   "metadata": {},
   "outputs": [
    {
     "name": "stdout",
     "output_type": "stream",
     "text": [
      "СК аспиранта 30 дней 30 дней СК аспиранта\n",
      "СК аспиранта 90 дней 90 дней СК аспиранта\n",
      "СК ординатора 30 дней 30 дней СК ординатора\n",
      "СК ординатора 90 дней 90 дней СК ординатора\n",
      "30 дней Пригород ТК 30 дней  Пригород\n",
      "90 дней Пригород ТК 90 дней  Пригород\n",
      "365 дней Пригород ТК 365 дней  Пригород\n",
      "Билет 1 сутки ЕДИНЫЙ 1 сутки ЕДИНЫЙ ТК\n",
      "СК ассистента-стажера 30 дней 30 дней СК ассистента-стажера\n"
     ]
    }
   ],
   "source": [
    "dict_ = {\n",
    "#     'СК учащегося 30 дней': '30 дней СК учащегося',\n",
    "#     'СК учащегося 90 дней': '90 дней СК учащегося',    \n",
    "#     'СК студента на 3 месяца': '90 дней СК студента',\n",
    "#     'СК студента 30 дней': '30 дней СК студента',\n",
    "#     'СК студента 90 дней': '90 дней СК студента',\n",
    "    'СК аспиранта 30 дней': '30 дней СК аспиранта',\n",
    "    'СК аспиранта 90 дней': '90 дней СК аспиранта',\n",
    "    'СК ординатора 30 дней': '30 дней СК ординатора',\n",
    "    'СК ординатора 90 дней': '90 дней СК ординатора',\n",
    "    '30 дней Пригород ТК': '30 дней  Пригород',\n",
    "    '90 дней Пригород ТК': '90 дней  Пригород',   \n",
    "    '365 дней Пригород ТК': '365 дней  Пригород',\n",
    "    'Билет 1 сутки ЕДИНЫЙ': '1 сутки ЕДИНЫЙ ТК',\n",
    "    'СК ассистента-стажера 30 дней': '30 дней СК ассистента-стажера',\n",
    "}\n",
    "\n",
    "\n",
    "for i in dict_:\n",
    "    print(i, dict_[i])\n",
    "    df_train.loc[df_train['ticket_type_nm']==i, 'ticket_type_nm'] = dict_[i]\n",
    "    df_test.loc[df_test['ticket_type_nm']==i, 'ticket_type_nm'] = dict_[i]\n",
    "    "
   ]
  },
  {
   "cell_type": "code",
   "execution_count": 33,
   "id": "97152836",
   "metadata": {
    "scrolled": true
   },
   "outputs": [
    {
     "data": {
      "text/plain": [
       "30 дней СК ассистента-стажера    37\n",
       "СК ассистента-стажера 90 дней     8\n",
       "Name: ticket_type_nm, dtype: int64"
      ]
     },
     "execution_count": 33,
     "metadata": {},
     "output_type": "execute_result"
    }
   ],
   "source": [
    "crt = 'ассистента'\n",
    "df_test[df_test.ticket_type_nm.str.contains(crt, case=True)].ticket_type_nm.value_counts()"
   ]
  },
  {
   "cell_type": "code",
   "execution_count": 34,
   "id": "14bd8920",
   "metadata": {},
   "outputs": [
    {
     "data": {
      "text/plain": [
       "30 дней СК ассистента-стажера    83\n",
       "СК ассистента-стажера 90 дней    10\n",
       "Name: ticket_type_nm, dtype: int64"
      ]
     },
     "execution_count": 34,
     "metadata": {},
     "output_type": "execute_result"
    }
   ],
   "source": [
    "df_train[df_train.ticket_type_nm.str.contains(crt, case=True)].ticket_type_nm.value_counts()"
   ]
  },
  {
   "cell_type": "code",
   "execution_count": 35,
   "id": "516b0a46",
   "metadata": {},
   "outputs": [
    {
     "data": {
      "text/plain": [
       "30 дней СК аспиранта    966\n",
       "90 дней СК аспиранта    336\n",
       "Name: ticket_type_nm, dtype: int64"
      ]
     },
     "execution_count": 35,
     "metadata": {},
     "output_type": "execute_result"
    }
   ],
   "source": [
    "crt = 'аспиранта'\n",
    "df_test[df_test.ticket_type_nm.str.contains(crt, case=True)].ticket_type_nm.value_counts()"
   ]
  },
  {
   "cell_type": "code",
   "execution_count": 36,
   "id": "ee561287",
   "metadata": {},
   "outputs": [
    {
     "data": {
      "text/plain": [
       "30 дней СК аспиранта    1914\n",
       "90 дней СК аспиранта     602\n",
       "Name: ticket_type_nm, dtype: int64"
      ]
     },
     "execution_count": 36,
     "metadata": {},
     "output_type": "execute_result"
    }
   ],
   "source": [
    "df_train[df_train.ticket_type_nm.str.contains(crt, case=True)].ticket_type_nm.value_counts()"
   ]
  },
  {
   "cell_type": "code",
   "execution_count": 37,
   "id": "7d038ce7",
   "metadata": {},
   "outputs": [
    {
     "data": {
      "text/plain": [
       "30 дней СК ординатора    1200\n",
       "90 дней СК ординатора     223\n",
       "Name: ticket_type_nm, dtype: int64"
      ]
     },
     "execution_count": 37,
     "metadata": {},
     "output_type": "execute_result"
    }
   ],
   "source": [
    "crt = 'ординатора'\n",
    "df_test[df_test.ticket_type_nm.str.contains(crt, case=True)].ticket_type_nm.value_counts()"
   ]
  },
  {
   "cell_type": "code",
   "execution_count": 38,
   "id": "10dddb99",
   "metadata": {},
   "outputs": [
    {
     "data": {
      "text/plain": [
       "30 дней СК ординатора    2430\n",
       "90 дней СК ординатора     503\n",
       "Name: ticket_type_nm, dtype: int64"
      ]
     },
     "execution_count": 38,
     "metadata": {},
     "output_type": "execute_result"
    }
   ],
   "source": [
    "df_train[df_train.ticket_type_nm.str.contains(crt, case=True)].ticket_type_nm.value_counts()"
   ]
  },
  {
   "cell_type": "code",
   "execution_count": null,
   "id": "614e2319",
   "metadata": {},
   "outputs": [],
   "source": []
  },
  {
   "cell_type": "code",
   "execution_count": null,
   "id": "44ba0df1",
   "metadata": {},
   "outputs": [],
   "source": []
  },
  {
   "cell_type": "code",
   "execution_count": 76,
   "id": "166aa798",
   "metadata": {},
   "outputs": [
    {
     "data": {
      "text/plain": [
       "28    262497\n",
       "5     177041\n",
       "40    127016\n",
       "3     117064\n",
       "36     97332\n",
       "15     58071\n",
       "4      48479\n",
       "12     46541\n",
       "37     45958\n",
       "18     29674\n",
       "11     20859\n",
       "38     15551\n",
       "13     12817\n",
       "30      9234\n",
       "19      2829\n",
       "35      2634\n",
       "25      2555\n",
       "14      2446\n",
       "8       2430\n",
       "41      2272\n",
       "6       1914\n",
       "10      1203\n",
       "9        768\n",
       "16       602\n",
       "33       541\n",
       "2        504\n",
       "17       503\n",
       "22       335\n",
       "39       244\n",
       "42       233\n",
       "27       159\n",
       "0        125\n",
       "21       113\n",
       "32       112\n",
       "7         83\n",
       "23        61\n",
       "20        60\n",
       "24        56\n",
       "29        44\n",
       "31        24\n",
       "34        10\n",
       "1          7\n",
       "26         6\n",
       "Name: ticket_type_nm, dtype: int64"
      ]
     },
     "execution_count": 76,
     "metadata": {},
     "output_type": "execute_result"
    }
   ],
   "source": [
    "df_train.ticket_type_nm.value_counts()"
   ]
  },
  {
   "cell_type": "code",
   "execution_count": 40,
   "id": "57ce0c3e",
   "metadata": {},
   "outputs": [
    {
     "data": {
      "text/plain": [
       "43"
      ]
     },
     "execution_count": 40,
     "metadata": {},
     "output_type": "execute_result"
    }
   ],
   "source": [
    "len(df_train.ticket_type_nm.unique().tolist())"
   ]
  },
  {
   "cell_type": "code",
   "execution_count": 41,
   "id": "a299efee",
   "metadata": {},
   "outputs": [
    {
     "data": {
      "text/plain": [
       "43"
      ]
     },
     "execution_count": 41,
     "metadata": {},
     "output_type": "execute_result"
    }
   ],
   "source": [
    "len(df_test.ticket_type_nm.unique().tolist())"
   ]
  },
  {
   "cell_type": "code",
   "execution_count": 42,
   "id": "b8d32ac9",
   "metadata": {},
   "outputs": [],
   "source": [
    "df_train[\"ticket_type_nm\"] = pd.Categorical(df_train[\"ticket_type_nm\"])\n",
    "df_train[\"ticket_type_nm\"].astype('category').cat.codes\n",
    "df_train[\"ticket_type_nm\"] = df_train[\"ticket_type_nm\"].cat.codes\n",
    "\n",
    "df_test[\"ticket_type_nm\"] = pd.Categorical(df_test[\"ticket_type_nm\"])\n",
    "df_test[\"ticket_type_nm\"].astype('category').cat.codes\n",
    "df_test[\"ticket_type_nm\"] = df_test[\"ticket_type_nm\"].cat.codes"
   ]
  },
  {
   "cell_type": "code",
   "execution_count": null,
   "id": "c335e6f2",
   "metadata": {},
   "outputs": [],
   "source": []
  },
  {
   "cell_type": "code",
   "execution_count": 43,
   "id": "e8eeed71",
   "metadata": {},
   "outputs": [],
   "source": [
    "df_train.loc[(df_train['station_nm']=='Авиамоторная') & (df_train['line_id']==11), 'line_id'] = 15\n",
    "df_train.loc[(df_train['station_nm']=='Авиамоторная') & (df_train['line_id']==15), 'line_nm'] = 'Некрасовская'\n",
    "\n",
    "df_train.loc[(df_train['station_nm']=='Лефортово') & (df_train['line_id']==11), 'line_id'] = 15\n",
    "df_train.loc[(df_train['station_nm']=='Лефортово') & (df_train['line_id']==15), 'line_nm'] = 'Некрасовская'\n",
    "\n",
    "df_train.loc[(df_train['station_nm']=='Электрозаводская') & (df_train['line_id']==11), 'line_id'] = 15\n",
    "df_train.loc[(df_train['station_nm']=='Электрозаводская') & (df_train['line_id']==15), 'line_nm'] = 'Некрасовская'\n",
    "\n",
    "\n",
    "df_test.loc[(df_test['station_nm']=='Авиамоторная') & (df_test['line_id']==11), 'line_id'] = 15\n",
    "df_test.loc[(df_test['station_nm']=='Авиамоторная') & (df_test['line_id']==15), 'line_nm'] = 'Некрасовская'\n",
    "\n",
    "df_test.loc[(df_test['station_nm']=='Лефортово') & (df_test['line_id']==11), 'line_id'] = 15\n",
    "df_test.loc[(df_test['station_nm']=='Лефортово') & (df_test['line_id']==15), 'line_nm'] = 'Некрасовская'\n",
    "\n",
    "df_test.loc[(df_test['station_nm']=='Электрозаводская') & (df_test['line_id']==11), 'line_id'] = 15\n",
    "df_test.loc[(df_test['station_nm']=='Электрозаводская') & (df_test['line_id']==15), 'line_nm'] = 'Некрасовская'"
   ]
  },
  {
   "cell_type": "code",
   "execution_count": 44,
   "id": "712a1339",
   "metadata": {},
   "outputs": [
    {
     "name": "stdout",
     "output_type": "stream",
     "text": [
      "<class 'pandas.core.frame.DataFrame'>\n",
      "RangeIndex: 561890 entries, 0 to 561889\n",
      "Data columns (total 10 columns):\n",
      " #   Column          Non-Null Count   Dtype \n",
      "---  ------          --------------   ----- \n",
      " 0   id              561890 non-null  int64 \n",
      " 1   ticket_id       561890 non-null  object\n",
      " 2   ticket_type_nm  561890 non-null  int8  \n",
      " 3   entrance_id     561890 non-null  int64 \n",
      " 4   entrance_nm     561890 non-null  object\n",
      " 5   station_id      561890 non-null  int64 \n",
      " 6   station_nm      561890 non-null  object\n",
      " 7   line_id         561890 non-null  int64 \n",
      " 8   line_nm         561890 non-null  object\n",
      " 9   pass_dttm       561890 non-null  object\n",
      "dtypes: int64(4), int8(1), object(5)\n",
      "memory usage: 39.1+ MB\n"
     ]
    }
   ],
   "source": [
    "df_test.info()"
   ]
  },
  {
   "cell_type": "code",
   "execution_count": 45,
   "id": "918cc372",
   "metadata": {},
   "outputs": [
    {
     "name": "stdout",
     "output_type": "stream",
     "text": [
      "<class 'pandas.core.frame.DataFrame'>\n",
      "Int64Index: 1091007 entries, 0 to 1091020\n",
      "Data columns (total 12 columns):\n",
      " #   Column          Non-Null Count    Dtype  \n",
      "---  ------          --------------    -----  \n",
      " 0   id              1091007 non-null  int64  \n",
      " 1   ticket_id       1091007 non-null  object \n",
      " 2   ticket_type_nm  1091007 non-null  int8   \n",
      " 3   entrance_id     1091007 non-null  int64  \n",
      " 4   entrance_nm     1091007 non-null  object \n",
      " 5   station_id      1091007 non-null  int64  \n",
      " 6   station_nm      1091007 non-null  object \n",
      " 7   line_id         1091007 non-null  int64  \n",
      " 8   line_nm         1091007 non-null  object \n",
      " 9   pass_dttm       1091007 non-null  object \n",
      " 10  time_to_under   1091007 non-null  float64\n",
      " 11  label           1091007 non-null  int64  \n",
      "dtypes: float64(1), int64(5), int8(1), object(5)\n",
      "memory usage: 100.9+ MB\n"
     ]
    }
   ],
   "source": [
    "df_train.info()"
   ]
  },
  {
   "cell_type": "markdown",
   "id": "4a01bb4d",
   "metadata": {},
   "source": [
    "С помощью кода из файла \"dadata_metro.py\" формируем датасет содержащий имя станции ее координаты и удаленность от центра"
   ]
  },
  {
   "cell_type": "code",
   "execution_count": 54,
   "id": "649e0f2a",
   "metadata": {},
   "outputs": [
    {
     "data": {
      "text/plain": [
       "['Лефортово',\n",
       " 'Войковская',\n",
       " 'Аэропорт',\n",
       " 'Косино',\n",
       " 'Котельники',\n",
       " 'Сокол',\n",
       " 'Новогиреево',\n",
       " 'Кунцевская',\n",
       " 'Проспект Вернадского',\n",
       " 'Динамо',\n",
       " 'Черкизовская',\n",
       " 'Отрадное',\n",
       " 'Крылатское',\n",
       " 'Мнёвники',\n",
       " 'Хорошёвская',\n",
       " 'Селигерская',\n",
       " 'Павелецкая',\n",
       " 'Первомайская',\n",
       " 'Орехово',\n",
       " 'Тургеневская',\n",
       " 'Выставочная',\n",
       " 'Кропоткинская',\n",
       " 'Площадь Ильича',\n",
       " 'Мякинино',\n",
       " 'Лухмановская',\n",
       " 'Свиблово',\n",
       " 'Бутырская',\n",
       " 'Петровско-Разумовская',\n",
       " 'Владыкино',\n",
       " 'Комсомольская',\n",
       " 'Таганская',\n",
       " 'Проспект Мира',\n",
       " 'Шипиловская',\n",
       " 'Третьяковская',\n",
       " 'Выхино',\n",
       " 'Каширская',\n",
       " 'Савёловская',\n",
       " 'Семёновская',\n",
       " 'Рязанский проспект',\n",
       " 'Чертановская',\n",
       " 'Печатники',\n",
       " 'Балтийская',\n",
       " 'Преображенская площадь',\n",
       " 'Севастопольская',\n",
       " 'Тимирязевская',\n",
       " 'Перово',\n",
       " 'Панфиловская',\n",
       " 'Борисово',\n",
       " 'ВДНХ',\n",
       " 'Новые Черёмушки',\n",
       " 'Партизанская',\n",
       " 'Ботанический сад',\n",
       " 'Лубянка',\n",
       " 'Спартак',\n",
       " 'Солнцево',\n",
       " 'Аннино',\n",
       " 'Нижегородская',\n",
       " 'Бульвар Рокоссовского',\n",
       " 'Смоленская',\n",
       " 'Новокосино',\n",
       " 'Локомотив',\n",
       " 'Белорусская',\n",
       " 'Планерная',\n",
       " 'Рассказовка',\n",
       " 'Красногвардейская',\n",
       " 'Верхние Котлы',\n",
       " 'Царицыно',\n",
       " 'Щёлковская',\n",
       " 'Молодёжная',\n",
       " 'Шоссе Энтузиастов',\n",
       " 'Кузьминки',\n",
       " 'Тушинская',\n",
       " 'Медведково',\n",
       " 'Текстильщики',\n",
       " 'Водный стадион',\n",
       " 'Нагатинская',\n",
       " 'Славянский бульвар',\n",
       " 'Электрозаводская',\n",
       " 'Говорово',\n",
       " 'Бульвар Дмитрия Донского',\n",
       " 'Краснопресненская',\n",
       " 'Красносельская',\n",
       " 'Стахановская',\n",
       " 'Римская',\n",
       " 'Тульская',\n",
       " 'Сухаревская',\n",
       " 'Бабушкинская',\n",
       " 'Некрасовка',\n",
       " 'Академическая',\n",
       " 'Каховская',\n",
       " 'Раменки',\n",
       " 'Зюзино',\n",
       " 'Автозаводская',\n",
       " 'Баррикадная',\n",
       " 'Марьино',\n",
       " 'Терехово',\n",
       " 'Строгино',\n",
       " 'Фили',\n",
       " 'Лермонтовский проспект',\n",
       " 'Новоясеневская',\n",
       " 'Дубровка',\n",
       " 'Юго-Западная',\n",
       " 'Кожуховская',\n",
       " 'Нагорная',\n",
       " 'Нахимовский проспект',\n",
       " 'Угрешская',\n",
       " 'Сходненская',\n",
       " 'Коммунарка',\n",
       " 'Бульвар Адмирала Ушакова',\n",
       " 'Митино',\n",
       " 'Мичуринский проспект',\n",
       " 'Киевская',\n",
       " 'Пражская',\n",
       " 'Менделеевская',\n",
       " 'Кутузовская',\n",
       " 'Братиславская',\n",
       " 'Спортивная',\n",
       " 'Озёрная',\n",
       " 'Волоколамская',\n",
       " 'Профсоюзная',\n",
       " 'Южная',\n",
       " 'Авиамоторная',\n",
       " 'Улица Горчакова',\n",
       " 'Боровское шоссе',\n",
       " 'Верхние Лихоборы',\n",
       " 'Шелепиха',\n",
       " 'Люблино',\n",
       " 'Университет',\n",
       " 'Марксистская',\n",
       " 'Улица Академика Янгеля',\n",
       " 'Ростокино',\n",
       " 'ЦСКА',\n",
       " 'Октябрьское поле',\n",
       " 'Домодедовская',\n",
       " 'Зябликово',\n",
       " 'Трубная',\n",
       " 'Марьина Роща',\n",
       " 'Китай-город',\n",
       " 'Волжская',\n",
       " 'Новопеределкино',\n",
       " 'Тёплый Стан',\n",
       " 'Речной вокзал',\n",
       " 'Маяковская',\n",
       " 'Курская',\n",
       " 'Новохохловская',\n",
       " 'Стрешнево',\n",
       " 'Фрунзенская',\n",
       " 'Крымская',\n",
       " 'Жулебино',\n",
       " 'Калужская',\n",
       " 'Кузнецкий мост',\n",
       " 'Чкаловская',\n",
       " 'Бибирево',\n",
       " 'Пушкинская',\n",
       " 'Деловой центр',\n",
       " 'Окружная',\n",
       " 'Пятницкое шоссе',\n",
       " 'Багратионовская',\n",
       " 'Бауманская',\n",
       " 'Сокольники',\n",
       " 'Щукинская',\n",
       " 'Охотный ряд',\n",
       " 'Беломорская',\n",
       " 'Дмитровская',\n",
       " 'Серпуховская',\n",
       " 'Ясенево',\n",
       " 'Новокузнецкая',\n",
       " 'Румянцево',\n",
       " 'Алексеевская',\n",
       " 'Народное Ополчение',\n",
       " 'Измайлово',\n",
       " 'Измайловская',\n",
       " 'Саларьево',\n",
       " 'Достоевская',\n",
       " 'Улица Дмитриевского',\n",
       " 'Алма-Атинская',\n",
       " 'Воробьёвы горы',\n",
       " 'Хорошёво',\n",
       " 'Давыдково',\n",
       " 'Беляево',\n",
       " 'Кантемировская',\n",
       " 'Ольховая',\n",
       " 'Студенческая',\n",
       " 'Полежаевская',\n",
       " 'Арбатская',\n",
       " 'Битцевский парк',\n",
       " 'Коломенская',\n",
       " 'Парк Победы',\n",
       " 'Чистые пруды',\n",
       " 'Ховрино',\n",
       " 'Октябрьская',\n",
       " 'Рижская',\n",
       " 'Юго-Восточная',\n",
       " 'Чеховская',\n",
       " 'Красные Ворота',\n",
       " 'Минская',\n",
       " 'Пионерская',\n",
       " 'Алтуфьево',\n",
       " 'Фонвизинская',\n",
       " 'Волгоградский проспект',\n",
       " 'Коптево',\n",
       " 'Пролетарская',\n",
       " 'Коньково',\n",
       " 'Беговая',\n",
       " 'Новослободская',\n",
       " 'Улица Скобелевская',\n",
       " 'Шаболовская',\n",
       " 'Лихоборы',\n",
       " 'Филатов луг',\n",
       " 'Ленинский проспект',\n",
       " 'Бунинская аллея',\n",
       " 'Воронцовская',\n",
       " 'Окская',\n",
       " 'Прокшино',\n",
       " 'Филёвский парк',\n",
       " 'Соколиная гора',\n",
       " 'Новаторская',\n",
       " 'Добрынинская',\n",
       " 'Площадь Гагарина',\n",
       " 'Андроновка',\n",
       " 'Александровский сад',\n",
       " 'Улица 1905 года',\n",
       " 'Тропарёво',\n",
       " 'Аминьевская',\n",
       " 'Площадь Революции',\n",
       " 'Цветной бульвар',\n",
       " 'Лесопарковая',\n",
       " 'Петровский парк',\n",
       " 'Полянка',\n",
       " 'Ломоносовский проспект',\n",
       " 'Технопарк',\n",
       " 'Парк культуры',\n",
       " 'Международная',\n",
       " 'Зорге',\n",
       " 'Лужники',\n",
       " 'Сретенский бульвар',\n",
       " 'Белокаменная',\n",
       " 'Боровицкая',\n",
       " 'Крестьянская застава',\n",
       " 'ЗИЛ',\n",
       " 'Выставочный центр',\n",
       " 'Улица Милашенкова',\n",
       " 'Улица Академика Королёва',\n",
       " 'Телецентр']"
      ]
     },
     "execution_count": 54,
     "metadata": {},
     "output_type": "execute_result"
    }
   ],
   "source": [
    "stations = df_train.station_nm.unique().tolist()\n",
    "stations"
   ]
  },
  {
   "cell_type": "code",
   "execution_count": null,
   "id": "f249d076",
   "metadata": {},
   "outputs": [],
   "source": [
    "from dadata import Dadata\n",
    "import csv\n",
    "from geopy.distance import geodesic\n",
    "\n",
    "token = \"e7a069e82e59b21e36a44924ebfceeb16fc50923\"\n",
    "secret = \"b892f8e65a04c3d363be0db08aa6939fdf37b8aa\"\n",
    "\n",
    "zero_point = (55.75222, 37.61556)\n",
    "\n",
    "data_st = {}\n",
    "\n",
    "with Dadata(token, secret) as dadata:\n",
    "    with open('data/stations.csv', 'w', newline='', encoding='utf-8') as csvfile:\n",
    "        staitionwriter = csv.writer(csvfile,\n",
    "                                    delimiter=',',\n",
    "                                    quotechar='|',\n",
    "                                    quoting=csv.QUOTE_MINIMAL)\n",
    "        staitionwriter.writerow(['station_nm', 'line_id', 'geo_lat', 'geo_lon', 'st_dist_from_center'])\n",
    "\n",
    "        for station in stations:\n",
    "            \n",
    "            result = dadata.suggest(\"metro\", station)\n",
    "            for i in result:\n",
    "\n",
    "                st_nm = station\n",
    "                st_line_id = i['data']['line_id']\n",
    "                if st_line_id=='8А':\n",
    "                    st_line_id = 81\n",
    "                elif st_line_id == 'М':\n",
    "                    st_line_id = 13\n",
    "                st_line_nm = i['data']['line_name']\n",
    "                st_geo_lat = i['data']['geo_lat']\n",
    "                st_geo_lon = i['data']['geo_lon']\n",
    "                st_dist_from_center = geodesic(zero_point, (st_geo_lat, st_geo_lon)).km\n",
    "\n",
    "#                 print(st_nm,\n",
    "#                       st_line_id,\n",
    "#                       st_line_nm,\n",
    "#                       st_geo_lat,\n",
    "#                       st_geo_lon,\n",
    "#                       st_dist_from_center,\n",
    "#                       )\n",
    "    \n",
    "                staitionwriter.writerow([st_nm,\n",
    "                                         st_line_id,\n",
    "                                         st_geo_lat,\n",
    "                                         st_geo_lon,\n",
    "                                         st_dist_from_center])"
   ]
  },
  {
   "cell_type": "code",
   "execution_count": 201,
   "id": "6581ead0",
   "metadata": {},
   "outputs": [],
   "source": [
    "df_stations = pd.read_csv(\"data/stations.csv\")"
   ]
  },
  {
   "cell_type": "code",
   "execution_count": null,
   "id": "7e7f43d9",
   "metadata": {},
   "outputs": [],
   "source": [
    "df_stations = df_stations[df_stations.line_id!='D1']"
   ]
  },
  {
   "cell_type": "code",
   "execution_count": null,
   "id": "396328c0",
   "metadata": {},
   "outputs": [],
   "source": [
    "df_stations = df_stations[df_stations.line_id!='D2']"
   ]
  },
  {
   "cell_type": "code",
   "execution_count": null,
   "id": "b0883422",
   "metadata": {},
   "outputs": [],
   "source": [
    "df_stations.line_id = df_stations.line_id.astype('int')"
   ]
  },
  {
   "cell_type": "code",
   "execution_count": null,
   "id": "df808d87",
   "metadata": {},
   "outputs": [],
   "source": [
    "df_stations.to_csv(\"data/stations2.csv\", index=False)"
   ]
  },
  {
   "cell_type": "code",
   "execution_count": null,
   "id": "f4a5af7b",
   "metadata": {},
   "outputs": [],
   "source": []
  },
  {
   "cell_type": "code",
   "execution_count": 77,
   "id": "0c7ee1f6",
   "metadata": {},
   "outputs": [],
   "source": [
    "def get_lat(x):\n",
    "    import pandas as pd\n",
    "    df_stations = pd.read_csv(\"data/stations2.csv\")\n",
    "    \n",
    "    try:\n",
    "        station_ = x['station_nm']\n",
    "        line_id_ = x['line_id']\n",
    "        res = df_stations[(df_stations['station_nm']==station_) & (df_stations['line_id']==line_id_)]['geo_lat'].to_list()[0]\n",
    "#         print(res)\n",
    "        return float(res)\n",
    "    except:\n",
    "        print('NaN', station_, line_id_)\n",
    "        return 'NaN'\n",
    "    \n",
    "def get_lon(x):\n",
    "    import pandas as pd\n",
    "    df_stations = pd.read_csv(\"data/stations2.csv\")\n",
    "    try:\n",
    "        station_ = x['station_nm']\n",
    "        line_id_ = x['line_id']\n",
    "        res = df_stations[(df_stations['station_nm']==station_) & (df_stations['line_id']==line_id_)]['geo_lon'].to_list()[0]\n",
    "#         print(res)\n",
    "        return float(res)\n",
    "    except:\n",
    "        print('NaN', station_, line_id_)\n",
    "        return 'NaN'\n",
    "    \n",
    "def get_dist(x):\n",
    "    import pandas as pd\n",
    "    df_stations = pd.read_csv(\"data/stations2.csv\")\n",
    "    try:\n",
    "        station_ = x['station_nm']\n",
    "        line_id_ = x['line_id']\n",
    "        res = df_stations[(df_stations['station_nm']==station_) & (df_stations['line_id']==line_id_)]['st_dist_from_center'].to_list()[0]\n",
    "#         print(res)\n",
    "        return float(res)\n",
    "    except:\n",
    "        print('NaN', station_, line_id_)\n",
    "        return 'NaN'"
   ]
  },
  {
   "cell_type": "code",
   "execution_count": 78,
   "id": "c13a7e2b",
   "metadata": {},
   "outputs": [
    {
     "data": {
      "application/vnd.jupyter.widget-view+json": {
       "model_id": "cdd78de2d67c49028cf77fad588699f1",
       "version_major": 2,
       "version_minor": 0
      },
      "text/plain": [
       "VBox(children=(HBox(children=(IntProgress(value=0, description='0.00%', max=136376), Label(value='0 / 136376')…"
      ]
     },
     "metadata": {},
     "output_type": "display_data"
    },
    {
     "data": {
      "application/vnd.jupyter.widget-view+json": {
       "model_id": "7549142878a742f798c5d22e2424dfa2",
       "version_major": 2,
       "version_minor": 0
      },
      "text/plain": [
       "VBox(children=(HBox(children=(IntProgress(value=0, description='0.00%', max=70237), Label(value='0 / 70237')))…"
      ]
     },
     "metadata": {},
     "output_type": "display_data"
    }
   ],
   "source": [
    "df_train['geo_lat'] = df_train.parallel_apply(get_lat, axis=1)\n",
    "df_test['geo_lat'] = df_test.parallel_apply(get_lat, axis=1)"
   ]
  },
  {
   "cell_type": "code",
   "execution_count": null,
   "id": "10ace3ea",
   "metadata": {},
   "outputs": [],
   "source": []
  },
  {
   "cell_type": "code",
   "execution_count": 79,
   "id": "e2897bf0",
   "metadata": {},
   "outputs": [
    {
     "data": {
      "application/vnd.jupyter.widget-view+json": {
       "model_id": "e5fbc40e3b794c859438e7bb049aae8d",
       "version_major": 2,
       "version_minor": 0
      },
      "text/plain": [
       "VBox(children=(HBox(children=(IntProgress(value=0, description='0.00%', max=136376), Label(value='0 / 136376')…"
      ]
     },
     "metadata": {},
     "output_type": "display_data"
    },
    {
     "data": {
      "application/vnd.jupyter.widget-view+json": {
       "model_id": "b5b687c17d7b4d47a22dfdc72ad07616",
       "version_major": 2,
       "version_minor": 0
      },
      "text/plain": [
       "VBox(children=(HBox(children=(IntProgress(value=0, description='0.00%', max=70237), Label(value='0 / 70237')))…"
      ]
     },
     "metadata": {},
     "output_type": "display_data"
    }
   ],
   "source": [
    "df_train['geo_lon'] = df_train.parallel_apply(get_lon, axis=1)\n",
    "df_test['geo_lon'] = df_test.parallel_apply(get_lon, axis=1)"
   ]
  },
  {
   "cell_type": "code",
   "execution_count": null,
   "id": "70207cd8",
   "metadata": {},
   "outputs": [],
   "source": []
  },
  {
   "cell_type": "code",
   "execution_count": 80,
   "id": "0eadf317",
   "metadata": {},
   "outputs": [
    {
     "data": {
      "application/vnd.jupyter.widget-view+json": {
       "model_id": "f637236f239f4a79b4d076694e600f30",
       "version_major": 2,
       "version_minor": 0
      },
      "text/plain": [
       "VBox(children=(HBox(children=(IntProgress(value=0, description='0.00%', max=136376), Label(value='0 / 136376')…"
      ]
     },
     "metadata": {},
     "output_type": "display_data"
    },
    {
     "data": {
      "application/vnd.jupyter.widget-view+json": {
       "model_id": "985666c63376471a8d4086fab23453aa",
       "version_major": 2,
       "version_minor": 0
      },
      "text/plain": [
       "VBox(children=(HBox(children=(IntProgress(value=0, description='0.00%', max=70237), Label(value='0 / 70237')))…"
      ]
     },
     "metadata": {},
     "output_type": "display_data"
    }
   ],
   "source": [
    "df_train['geo_dist'] = df_train.parallel_apply(get_dist, axis=1)\n",
    "df_test['geo_dist'] = df_test.parallel_apply(get_dist, axis=1)"
   ]
  },
  {
   "cell_type": "code",
   "execution_count": null,
   "id": "f9b6c140",
   "metadata": {},
   "outputs": [],
   "source": []
  },
  {
   "cell_type": "code",
   "execution_count": null,
   "id": "c84b7a7e",
   "metadata": {},
   "outputs": [],
   "source": []
  },
  {
   "cell_type": "code",
   "execution_count": 81,
   "id": "c2b0a11f",
   "metadata": {},
   "outputs": [],
   "source": [
    "# df_train['start_point'] = df_train['station_id'].astype('str')+'-'+df_train['line_id'].astype('str')\n",
    "# df_test['start_point'] = df_test['station_id'].astype('str')+'-'+df_test['line_id'].astype('str')"
   ]
  },
  {
   "cell_type": "code",
   "execution_count": 94,
   "id": "f203ebca",
   "metadata": {},
   "outputs": [
    {
     "data": {
      "text/html": [
       "<div>\n",
       "<style scoped>\n",
       "    .dataframe tbody tr th:only-of-type {\n",
       "        vertical-align: middle;\n",
       "    }\n",
       "\n",
       "    .dataframe tbody tr th {\n",
       "        vertical-align: top;\n",
       "    }\n",
       "\n",
       "    .dataframe thead th {\n",
       "        text-align: right;\n",
       "    }\n",
       "</style>\n",
       "<table border=\"1\" class=\"dataframe\">\n",
       "  <thead>\n",
       "    <tr style=\"text-align: right;\">\n",
       "      <th></th>\n",
       "      <th>id</th>\n",
       "      <th>ticket_id</th>\n",
       "      <th>ticket_type_nm</th>\n",
       "      <th>entrance_id</th>\n",
       "      <th>entrance_nm</th>\n",
       "      <th>station_id</th>\n",
       "      <th>station_nm</th>\n",
       "      <th>line_id</th>\n",
       "      <th>line_nm</th>\n",
       "      <th>pass_dttm</th>\n",
       "      <th>geo_lat</th>\n",
       "      <th>geo_lon</th>\n",
       "      <th>geo_dist</th>\n",
       "      <th>day</th>\n",
       "      <th>hours</th>\n",
       "      <th>day_of_week</th>\n",
       "      <th>isDayOff</th>\n",
       "    </tr>\n",
       "  </thead>\n",
       "  <tbody>\n",
       "    <tr>\n",
       "      <th>0</th>\n",
       "      <td>1091022</td>\n",
       "      <td>425A13E16226CA01032043111488E0F5</td>\n",
       "      <td>28</td>\n",
       "      <td>110</td>\n",
       "      <td>Войковская ( Южный )</td>\n",
       "      <td>2006</td>\n",
       "      <td>Войковская</td>\n",
       "      <td>2</td>\n",
       "      <td>Замоскворецкая</td>\n",
       "      <td>2022-09-12 05:00:03</td>\n",
       "      <td>55.818923</td>\n",
       "      <td>37.497791</td>\n",
       "      <td>10.475917</td>\n",
       "      <td>12</td>\n",
       "      <td>5</td>\n",
       "      <td>Monday</td>\n",
       "      <td>0</td>\n",
       "    </tr>\n",
       "    <tr>\n",
       "      <th>1</th>\n",
       "      <td>1091023</td>\n",
       "      <td>F94EDC107A4E054786882F9453C1B93F</td>\n",
       "      <td>30</td>\n",
       "      <td>184</td>\n",
       "      <td>Молодёжная (Западный)</td>\n",
       "      <td>3010</td>\n",
       "      <td>Молодёжная</td>\n",
       "      <td>3</td>\n",
       "      <td>Арбатско-Покровская</td>\n",
       "      <td>2022-09-12 05:00:45</td>\n",
       "      <td>55.741375</td>\n",
       "      <td>37.415627</td>\n",
       "      <td>12.613728</td>\n",
       "      <td>12</td>\n",
       "      <td>5</td>\n",
       "      <td>Monday</td>\n",
       "      <td>0</td>\n",
       "    </tr>\n",
       "    <tr>\n",
       "      <th>2</th>\n",
       "      <td>1091024</td>\n",
       "      <td>8F13BFBA98A7DD34B11BD2DDCC5CA68E</td>\n",
       "      <td>36</td>\n",
       "      <td>110</td>\n",
       "      <td>Войковская ( Южный )</td>\n",
       "      <td>2006</td>\n",
       "      <td>Войковская</td>\n",
       "      <td>2</td>\n",
       "      <td>Замоскворецкая</td>\n",
       "      <td>2022-09-12 05:00:52</td>\n",
       "      <td>55.818923</td>\n",
       "      <td>37.497791</td>\n",
       "      <td>10.475917</td>\n",
       "      <td>12</td>\n",
       "      <td>5</td>\n",
       "      <td>Monday</td>\n",
       "      <td>0</td>\n",
       "    </tr>\n",
       "    <tr>\n",
       "      <th>3</th>\n",
       "      <td>1091025</td>\n",
       "      <td>7B98691636EC418ABF6FEDDE4D7C68FC</td>\n",
       "      <td>28</td>\n",
       "      <td>107</td>\n",
       "      <td>Сокол ( Южн./Вост. )</td>\n",
       "      <td>2018</td>\n",
       "      <td>Сокол</td>\n",
       "      <td>2</td>\n",
       "      <td>Замоскворецкая</td>\n",
       "      <td>2022-09-12 05:00:58</td>\n",
       "      <td>55.805564</td>\n",
       "      <td>37.515245</td>\n",
       "      <td>8.654266</td>\n",
       "      <td>12</td>\n",
       "      <td>5</td>\n",
       "      <td>Monday</td>\n",
       "      <td>0</td>\n",
       "    </tr>\n",
       "    <tr>\n",
       "      <th>4</th>\n",
       "      <td>1091026</td>\n",
       "      <td>679C55C28CB36FB546FD104502C0B3DB</td>\n",
       "      <td>28</td>\n",
       "      <td>110</td>\n",
       "      <td>Войковская ( Южный )</td>\n",
       "      <td>2006</td>\n",
       "      <td>Войковская</td>\n",
       "      <td>2</td>\n",
       "      <td>Замоскворецкая</td>\n",
       "      <td>2022-09-12 05:01:39</td>\n",
       "      <td>55.818923</td>\n",
       "      <td>37.497791</td>\n",
       "      <td>10.475917</td>\n",
       "      <td>12</td>\n",
       "      <td>5</td>\n",
       "      <td>Monday</td>\n",
       "      <td>0</td>\n",
       "    </tr>\n",
       "  </tbody>\n",
       "</table>\n",
       "</div>"
      ],
      "text/plain": [
       "        id                         ticket_id  ticket_type_nm  entrance_id  \\\n",
       "0  1091022  425A13E16226CA01032043111488E0F5              28          110   \n",
       "1  1091023  F94EDC107A4E054786882F9453C1B93F              30          184   \n",
       "2  1091024  8F13BFBA98A7DD34B11BD2DDCC5CA68E              36          110   \n",
       "3  1091025  7B98691636EC418ABF6FEDDE4D7C68FC              28          107   \n",
       "4  1091026  679C55C28CB36FB546FD104502C0B3DB              28          110   \n",
       "\n",
       "             entrance_nm  station_id  station_nm  line_id  \\\n",
       "0   Войковская ( Южный )        2006  Войковская        2   \n",
       "1  Молодёжная (Западный)        3010  Молодёжная        3   \n",
       "2   Войковская ( Южный )        2006  Войковская        2   \n",
       "3   Сокол ( Южн./Вост. )        2018       Сокол        2   \n",
       "4   Войковская ( Южный )        2006  Войковская        2   \n",
       "\n",
       "               line_nm            pass_dttm    geo_lat    geo_lon   geo_dist  \\\n",
       "0       Замоскворецкая  2022-09-12 05:00:03  55.818923  37.497791  10.475917   \n",
       "1  Арбатско-Покровская  2022-09-12 05:00:45  55.741375  37.415627  12.613728   \n",
       "2       Замоскворецкая  2022-09-12 05:00:52  55.818923  37.497791  10.475917   \n",
       "3       Замоскворецкая  2022-09-12 05:00:58  55.805564  37.515245   8.654266   \n",
       "4       Замоскворецкая  2022-09-12 05:01:39  55.818923  37.497791  10.475917   \n",
       "\n",
       "   day  hours day_of_week  isDayOff  \n",
       "0   12      5      Monday         0  \n",
       "1   12      5      Monday         0  \n",
       "2   12      5      Monday         0  \n",
       "3   12      5      Monday         0  \n",
       "4   12      5      Monday         0  "
      ]
     },
     "execution_count": 94,
     "metadata": {},
     "output_type": "execute_result"
    }
   ],
   "source": [
    "df_test.head()"
   ]
  },
  {
   "cell_type": "code",
   "execution_count": 83,
   "id": "812d4973",
   "metadata": {},
   "outputs": [],
   "source": [
    "# df_train[\"start_point\"] = pd.Categorical(df_train[\"start_point\"])\n",
    "# df_train[\"start_point\"].astype('category').cat.codes\n",
    "# df_train[\"start_point\"] = df_train[\"start_point\"].cat.codes\n",
    "\n",
    "# df_test[\"start_point\"] = pd.Categorical(df_test[\"start_point\"])\n",
    "# df_test[\"start_point\"].astype('category').cat.codes\n",
    "# df_test[\"start_point\"] = df_test[\"start_point\"].cat.codes"
   ]
  },
  {
   "cell_type": "code",
   "execution_count": null,
   "id": "2729a0b4",
   "metadata": {},
   "outputs": [],
   "source": []
  },
  {
   "cell_type": "code",
   "execution_count": null,
   "id": "87c3e08d",
   "metadata": {},
   "outputs": [],
   "source": []
  },
  {
   "cell_type": "code",
   "execution_count": 84,
   "id": "713072ca",
   "metadata": {},
   "outputs": [
    {
     "data": {
      "application/vnd.jupyter.widget-view+json": {
       "model_id": "61c03e51d94c459c925356a184a243ce",
       "version_major": 2,
       "version_minor": 0
      },
      "text/plain": [
       "VBox(children=(HBox(children=(IntProgress(value=0, description='0.00%', max=136376), Label(value='0 / 136376')…"
      ]
     },
     "metadata": {},
     "output_type": "display_data"
    },
    {
     "data": {
      "application/vnd.jupyter.widget-view+json": {
       "model_id": "35102ffae6484cbe9d06225f68d2f864",
       "version_major": 2,
       "version_minor": 0
      },
      "text/plain": [
       "VBox(children=(HBox(children=(IntProgress(value=0, description='0.00%', max=136376), Label(value='0 / 136376')…"
      ]
     },
     "metadata": {},
     "output_type": "display_data"
    },
    {
     "data": {
      "application/vnd.jupyter.widget-view+json": {
       "model_id": "fd587696106649f5be4bf08239743677",
       "version_major": 2,
       "version_minor": 0
      },
      "text/plain": [
       "VBox(children=(HBox(children=(IntProgress(value=0, description='0.00%', max=70237), Label(value='0 / 70237')))…"
      ]
     },
     "metadata": {},
     "output_type": "display_data"
    },
    {
     "data": {
      "application/vnd.jupyter.widget-view+json": {
       "model_id": "3aea4dbce2cd4d86a7eeee4c969caedd",
       "version_major": 2,
       "version_minor": 0
      },
      "text/plain": [
       "VBox(children=(HBox(children=(IntProgress(value=0, description='0.00%', max=70237), Label(value='0 / 70237')))…"
      ]
     },
     "metadata": {},
     "output_type": "display_data"
    }
   ],
   "source": [
    "df_train[\"day\"] = df_train.pass_dttm.parallel_map(lambda x: int(x.split(\"-\")[2].split(\" \")[0]))\n",
    "df_train[\"hours\"] = df_train.pass_dttm.parallel_map(lambda x: int(x.split(\"-\")[2].split(\" \")[1].split(\":\")[0]))\n",
    "\n",
    "df_test[\"day\"] = df_test.pass_dttm.parallel_map(lambda x: int(x.split(\"-\")[2].split(\" \")[0]))\n",
    "df_test[\"hours\"] = df_test.pass_dttm.parallel_map(lambda x: int(x.split(\"-\")[2].split(\" \")[1].split(\":\")[0]))"
   ]
  },
  {
   "cell_type": "code",
   "execution_count": 85,
   "id": "4b4ccbc2",
   "metadata": {},
   "outputs": [],
   "source": [
    "# df_train[\"day_of_week\"] = df_train.pass_dttm.map(lambda x: calendar.day_name[datetime.strptime(x, '%Y-%m-%d %H:%M:%S').weekday()])"
   ]
  },
  {
   "cell_type": "code",
   "execution_count": 86,
   "id": "d11a7794",
   "metadata": {},
   "outputs": [],
   "source": [
    "# df_test[\"day_of_week\"] = df_test.pass_dttm.map(lambda x: calendar.day_name[datetime.strptime(x, '%Y-%m-%d %H:%M:%S').weekday()])"
   ]
  },
  {
   "cell_type": "code",
   "execution_count": 87,
   "id": "59a8fa1c",
   "metadata": {},
   "outputs": [
    {
     "data": {
      "application/vnd.jupyter.widget-view+json": {
       "model_id": "129844dfe0174972bbfb96fd03371270",
       "version_major": 2,
       "version_minor": 0
      },
      "text/plain": [
       "VBox(children=(HBox(children=(IntProgress(value=0, description='0.00%', max=136376), Label(value='0 / 136376')…"
      ]
     },
     "metadata": {},
     "output_type": "display_data"
    },
    {
     "data": {
      "application/vnd.jupyter.widget-view+json": {
       "model_id": "638cc2adaa1f41b7b31cd1f97a903a42",
       "version_major": 2,
       "version_minor": 0
      },
      "text/plain": [
       "VBox(children=(HBox(children=(IntProgress(value=0, description='0.00%', max=70237), Label(value='0 / 70237')))…"
      ]
     },
     "metadata": {},
     "output_type": "display_data"
    }
   ],
   "source": [
    "df_train[\"isDayOff\"] = df_train.day_of_week.parallel_map(lambda x: 1 if x=='Saturday' or x=='Sunday' else 0)\n",
    "df_test[\"isDayOff\"] = df_test.day_of_week.parallel_map(lambda x: 1 if x=='Saturday' or x=='Sunday' else 0)"
   ]
  },
  {
   "cell_type": "code",
   "execution_count": 169,
   "id": "7f7b8184",
   "metadata": {},
   "outputs": [],
   "source": [
    "# df_train[\"day_of_week\"] = pd.Categorical(df_train[\"day_of_week\"])\n",
    "# df_train[\"day_of_week\"].astype('category').cat.codes\n",
    "# df_train[\"day_of_week\"] = df_train[\"day_of_week\"].cat.codes\n",
    "\n",
    "# df_test[\"day_of_week\"] = pd.Categorical(df_test[\"day_of_week\"])\n",
    "# df_test[\"day_of_week\"].astype('category').cat.codes\n",
    "# df_test[\"day_of_week\"] = df_test[\"day_of_week\"].cat.codes"
   ]
  },
  {
   "cell_type": "code",
   "execution_count": 95,
   "id": "347d52bb",
   "metadata": {},
   "outputs": [
    {
     "data": {
      "text/html": [
       "<div>\n",
       "<style scoped>\n",
       "    .dataframe tbody tr th:only-of-type {\n",
       "        vertical-align: middle;\n",
       "    }\n",
       "\n",
       "    .dataframe tbody tr th {\n",
       "        vertical-align: top;\n",
       "    }\n",
       "\n",
       "    .dataframe thead th {\n",
       "        text-align: right;\n",
       "    }\n",
       "</style>\n",
       "<table border=\"1\" class=\"dataframe\">\n",
       "  <thead>\n",
       "    <tr style=\"text-align: right;\">\n",
       "      <th></th>\n",
       "      <th>id</th>\n",
       "      <th>ticket_id</th>\n",
       "      <th>ticket_type_nm</th>\n",
       "      <th>entrance_id</th>\n",
       "      <th>entrance_nm</th>\n",
       "      <th>station_id</th>\n",
       "      <th>station_nm</th>\n",
       "      <th>line_id</th>\n",
       "      <th>line_nm</th>\n",
       "      <th>pass_dttm</th>\n",
       "      <th>geo_lat</th>\n",
       "      <th>geo_lon</th>\n",
       "      <th>geo_dist</th>\n",
       "      <th>day</th>\n",
       "      <th>hours</th>\n",
       "      <th>day_of_week</th>\n",
       "      <th>isDayOff</th>\n",
       "    </tr>\n",
       "  </thead>\n",
       "  <tbody>\n",
       "    <tr>\n",
       "      <th>0</th>\n",
       "      <td>1091022</td>\n",
       "      <td>425A13E16226CA01032043111488E0F5</td>\n",
       "      <td>28</td>\n",
       "      <td>110</td>\n",
       "      <td>Войковская ( Южный )</td>\n",
       "      <td>2006</td>\n",
       "      <td>Войковская</td>\n",
       "      <td>2</td>\n",
       "      <td>Замоскворецкая</td>\n",
       "      <td>2022-09-12 05:00:03</td>\n",
       "      <td>55.818923</td>\n",
       "      <td>37.497791</td>\n",
       "      <td>10.475917</td>\n",
       "      <td>12</td>\n",
       "      <td>5</td>\n",
       "      <td>Monday</td>\n",
       "      <td>0</td>\n",
       "    </tr>\n",
       "    <tr>\n",
       "      <th>1</th>\n",
       "      <td>1091023</td>\n",
       "      <td>F94EDC107A4E054786882F9453C1B93F</td>\n",
       "      <td>30</td>\n",
       "      <td>184</td>\n",
       "      <td>Молодёжная (Западный)</td>\n",
       "      <td>3010</td>\n",
       "      <td>Молодёжная</td>\n",
       "      <td>3</td>\n",
       "      <td>Арбатско-Покровская</td>\n",
       "      <td>2022-09-12 05:00:45</td>\n",
       "      <td>55.741375</td>\n",
       "      <td>37.415627</td>\n",
       "      <td>12.613728</td>\n",
       "      <td>12</td>\n",
       "      <td>5</td>\n",
       "      <td>Monday</td>\n",
       "      <td>0</td>\n",
       "    </tr>\n",
       "    <tr>\n",
       "      <th>2</th>\n",
       "      <td>1091024</td>\n",
       "      <td>8F13BFBA98A7DD34B11BD2DDCC5CA68E</td>\n",
       "      <td>36</td>\n",
       "      <td>110</td>\n",
       "      <td>Войковская ( Южный )</td>\n",
       "      <td>2006</td>\n",
       "      <td>Войковская</td>\n",
       "      <td>2</td>\n",
       "      <td>Замоскворецкая</td>\n",
       "      <td>2022-09-12 05:00:52</td>\n",
       "      <td>55.818923</td>\n",
       "      <td>37.497791</td>\n",
       "      <td>10.475917</td>\n",
       "      <td>12</td>\n",
       "      <td>5</td>\n",
       "      <td>Monday</td>\n",
       "      <td>0</td>\n",
       "    </tr>\n",
       "    <tr>\n",
       "      <th>3</th>\n",
       "      <td>1091025</td>\n",
       "      <td>7B98691636EC418ABF6FEDDE4D7C68FC</td>\n",
       "      <td>28</td>\n",
       "      <td>107</td>\n",
       "      <td>Сокол ( Южн./Вост. )</td>\n",
       "      <td>2018</td>\n",
       "      <td>Сокол</td>\n",
       "      <td>2</td>\n",
       "      <td>Замоскворецкая</td>\n",
       "      <td>2022-09-12 05:00:58</td>\n",
       "      <td>55.805564</td>\n",
       "      <td>37.515245</td>\n",
       "      <td>8.654266</td>\n",
       "      <td>12</td>\n",
       "      <td>5</td>\n",
       "      <td>Monday</td>\n",
       "      <td>0</td>\n",
       "    </tr>\n",
       "    <tr>\n",
       "      <th>4</th>\n",
       "      <td>1091026</td>\n",
       "      <td>679C55C28CB36FB546FD104502C0B3DB</td>\n",
       "      <td>28</td>\n",
       "      <td>110</td>\n",
       "      <td>Войковская ( Южный )</td>\n",
       "      <td>2006</td>\n",
       "      <td>Войковская</td>\n",
       "      <td>2</td>\n",
       "      <td>Замоскворецкая</td>\n",
       "      <td>2022-09-12 05:01:39</td>\n",
       "      <td>55.818923</td>\n",
       "      <td>37.497791</td>\n",
       "      <td>10.475917</td>\n",
       "      <td>12</td>\n",
       "      <td>5</td>\n",
       "      <td>Monday</td>\n",
       "      <td>0</td>\n",
       "    </tr>\n",
       "  </tbody>\n",
       "</table>\n",
       "</div>"
      ],
      "text/plain": [
       "        id                         ticket_id  ticket_type_nm  entrance_id  \\\n",
       "0  1091022  425A13E16226CA01032043111488E0F5              28          110   \n",
       "1  1091023  F94EDC107A4E054786882F9453C1B93F              30          184   \n",
       "2  1091024  8F13BFBA98A7DD34B11BD2DDCC5CA68E              36          110   \n",
       "3  1091025  7B98691636EC418ABF6FEDDE4D7C68FC              28          107   \n",
       "4  1091026  679C55C28CB36FB546FD104502C0B3DB              28          110   \n",
       "\n",
       "             entrance_nm  station_id  station_nm  line_id  \\\n",
       "0   Войковская ( Южный )        2006  Войковская        2   \n",
       "1  Молодёжная (Западный)        3010  Молодёжная        3   \n",
       "2   Войковская ( Южный )        2006  Войковская        2   \n",
       "3   Сокол ( Южн./Вост. )        2018       Сокол        2   \n",
       "4   Войковская ( Южный )        2006  Войковская        2   \n",
       "\n",
       "               line_nm            pass_dttm    geo_lat    geo_lon   geo_dist  \\\n",
       "0       Замоскворецкая  2022-09-12 05:00:03  55.818923  37.497791  10.475917   \n",
       "1  Арбатско-Покровская  2022-09-12 05:00:45  55.741375  37.415627  12.613728   \n",
       "2       Замоскворецкая  2022-09-12 05:00:52  55.818923  37.497791  10.475917   \n",
       "3       Замоскворецкая  2022-09-12 05:00:58  55.805564  37.515245   8.654266   \n",
       "4       Замоскворецкая  2022-09-12 05:01:39  55.818923  37.497791  10.475917   \n",
       "\n",
       "   day  hours day_of_week  isDayOff  \n",
       "0   12      5      Monday         0  \n",
       "1   12      5      Monday         0  \n",
       "2   12      5      Monday         0  \n",
       "3   12      5      Monday         0  \n",
       "4   12      5      Monday         0  "
      ]
     },
     "execution_count": 95,
     "metadata": {},
     "output_type": "execute_result"
    }
   ],
   "source": [
    "df_test.head()"
   ]
  },
  {
   "cell_type": "code",
   "execution_count": 96,
   "id": "104b3529",
   "metadata": {},
   "outputs": [
    {
     "data": {
      "text/html": [
       "<div>\n",
       "<style scoped>\n",
       "    .dataframe tbody tr th:only-of-type {\n",
       "        vertical-align: middle;\n",
       "    }\n",
       "\n",
       "    .dataframe tbody tr th {\n",
       "        vertical-align: top;\n",
       "    }\n",
       "\n",
       "    .dataframe thead th {\n",
       "        text-align: right;\n",
       "    }\n",
       "</style>\n",
       "<table border=\"1\" class=\"dataframe\">\n",
       "  <thead>\n",
       "    <tr style=\"text-align: right;\">\n",
       "      <th></th>\n",
       "      <th>id</th>\n",
       "      <th>ticket_id</th>\n",
       "      <th>ticket_type_nm</th>\n",
       "      <th>entrance_id</th>\n",
       "      <th>entrance_nm</th>\n",
       "      <th>station_id</th>\n",
       "      <th>station_nm</th>\n",
       "      <th>line_id</th>\n",
       "      <th>line_nm</th>\n",
       "      <th>pass_dttm</th>\n",
       "      <th>time_to_under</th>\n",
       "      <th>label</th>\n",
       "      <th>geo_lat</th>\n",
       "      <th>geo_lon</th>\n",
       "      <th>geo_dist</th>\n",
       "      <th>day</th>\n",
       "      <th>hours</th>\n",
       "      <th>day_of_week</th>\n",
       "      <th>isDayOff</th>\n",
       "    </tr>\n",
       "  </thead>\n",
       "  <tbody>\n",
       "    <tr>\n",
       "      <th>0</th>\n",
       "      <td>1</td>\n",
       "      <td>40BD89EC85646EFB69E283F39C298E60</td>\n",
       "      <td>30</td>\n",
       "      <td>2402</td>\n",
       "      <td>Лефортово БКЛ</td>\n",
       "      <td>11007</td>\n",
       "      <td>Лефортово</td>\n",
       "      <td>15</td>\n",
       "      <td>Некрасовская</td>\n",
       "      <td>2022-09-12 05:00:13</td>\n",
       "      <td>216.316667</td>\n",
       "      <td>8001</td>\n",
       "      <td>55.764693</td>\n",
       "      <td>37.706757</td>\n",
       "      <td>5.891479</td>\n",
       "      <td>12</td>\n",
       "      <td>5</td>\n",
       "      <td>Monday</td>\n",
       "      <td>0</td>\n",
       "    </tr>\n",
       "    <tr>\n",
       "      <th>1</th>\n",
       "      <td>2</td>\n",
       "      <td>126727A96489CC976A8C08E5CEB00542</td>\n",
       "      <td>37</td>\n",
       "      <td>110</td>\n",
       "      <td>Войковская ( Южный )</td>\n",
       "      <td>2006</td>\n",
       "      <td>Войковская</td>\n",
       "      <td>2</td>\n",
       "      <td>Замоскворецкая</td>\n",
       "      <td>2022-09-12 05:00:54</td>\n",
       "      <td>648.183333</td>\n",
       "      <td>9011</td>\n",
       "      <td>55.818923</td>\n",
       "      <td>37.497791</td>\n",
       "      <td>10.475917</td>\n",
       "      <td>12</td>\n",
       "      <td>5</td>\n",
       "      <td>Monday</td>\n",
       "      <td>0</td>\n",
       "    </tr>\n",
       "    <tr>\n",
       "      <th>2</th>\n",
       "      <td>3</td>\n",
       "      <td>D28CE6A9E0E5B6D213470A97CFF32485</td>\n",
       "      <td>19</td>\n",
       "      <td>110</td>\n",
       "      <td>Войковская ( Южный )</td>\n",
       "      <td>2006</td>\n",
       "      <td>Войковская</td>\n",
       "      <td>2</td>\n",
       "      <td>Замоскворецкая</td>\n",
       "      <td>2022-09-12 05:00:55</td>\n",
       "      <td>865.333333</td>\n",
       "      <td>7022</td>\n",
       "      <td>55.818923</td>\n",
       "      <td>37.497791</td>\n",
       "      <td>10.475917</td>\n",
       "      <td>12</td>\n",
       "      <td>5</td>\n",
       "      <td>Monday</td>\n",
       "      <td>0</td>\n",
       "    </tr>\n",
       "    <tr>\n",
       "      <th>3</th>\n",
       "      <td>4</td>\n",
       "      <td>015DA44B523C062B5BFEFF3FB0E64B9E</td>\n",
       "      <td>3</td>\n",
       "      <td>110</td>\n",
       "      <td>Войковская ( Южный )</td>\n",
       "      <td>2006</td>\n",
       "      <td>Войковская</td>\n",
       "      <td>2</td>\n",
       "      <td>Замоскворецкая</td>\n",
       "      <td>2022-09-12 05:01:13</td>\n",
       "      <td>1048.233333</td>\n",
       "      <td>2022</td>\n",
       "      <td>55.818923</td>\n",
       "      <td>37.497791</td>\n",
       "      <td>10.475917</td>\n",
       "      <td>12</td>\n",
       "      <td>5</td>\n",
       "      <td>Monday</td>\n",
       "      <td>0</td>\n",
       "    </tr>\n",
       "    <tr>\n",
       "      <th>4</th>\n",
       "      <td>5</td>\n",
       "      <td>95B19C6F3A504727AC3EA56EB7E3E80F</td>\n",
       "      <td>28</td>\n",
       "      <td>110</td>\n",
       "      <td>Войковская ( Южный )</td>\n",
       "      <td>2006</td>\n",
       "      <td>Войковская</td>\n",
       "      <td>2</td>\n",
       "      <td>Замоскворецкая</td>\n",
       "      <td>2022-09-12 05:02:55</td>\n",
       "      <td>965.600000</td>\n",
       "      <td>2017</td>\n",
       "      <td>55.818923</td>\n",
       "      <td>37.497791</td>\n",
       "      <td>10.475917</td>\n",
       "      <td>12</td>\n",
       "      <td>5</td>\n",
       "      <td>Monday</td>\n",
       "      <td>0</td>\n",
       "    </tr>\n",
       "  </tbody>\n",
       "</table>\n",
       "</div>"
      ],
      "text/plain": [
       "   id                         ticket_id  ticket_type_nm  entrance_id  \\\n",
       "0   1  40BD89EC85646EFB69E283F39C298E60              30         2402   \n",
       "1   2  126727A96489CC976A8C08E5CEB00542              37          110   \n",
       "2   3  D28CE6A9E0E5B6D213470A97CFF32485              19          110   \n",
       "3   4  015DA44B523C062B5BFEFF3FB0E64B9E               3          110   \n",
       "4   5  95B19C6F3A504727AC3EA56EB7E3E80F              28          110   \n",
       "\n",
       "            entrance_nm  station_id  station_nm  line_id         line_nm  \\\n",
       "0         Лефортово БКЛ       11007   Лефортово       15    Некрасовская   \n",
       "1  Войковская ( Южный )        2006  Войковская        2  Замоскворецкая   \n",
       "2  Войковская ( Южный )        2006  Войковская        2  Замоскворецкая   \n",
       "3  Войковская ( Южный )        2006  Войковская        2  Замоскворецкая   \n",
       "4  Войковская ( Южный )        2006  Войковская        2  Замоскворецкая   \n",
       "\n",
       "             pass_dttm  time_to_under  label    geo_lat    geo_lon   geo_dist  \\\n",
       "0  2022-09-12 05:00:13     216.316667   8001  55.764693  37.706757   5.891479   \n",
       "1  2022-09-12 05:00:54     648.183333   9011  55.818923  37.497791  10.475917   \n",
       "2  2022-09-12 05:00:55     865.333333   7022  55.818923  37.497791  10.475917   \n",
       "3  2022-09-12 05:01:13    1048.233333   2022  55.818923  37.497791  10.475917   \n",
       "4  2022-09-12 05:02:55     965.600000   2017  55.818923  37.497791  10.475917   \n",
       "\n",
       "   day  hours day_of_week  isDayOff  \n",
       "0   12      5      Monday         0  \n",
       "1   12      5      Monday         0  \n",
       "2   12      5      Monday         0  \n",
       "3   12      5      Monday         0  \n",
       "4   12      5      Monday         0  "
      ]
     },
     "execution_count": 96,
     "metadata": {},
     "output_type": "execute_result"
    }
   ],
   "source": [
    "df_train.head()"
   ]
  },
  {
   "cell_type": "code",
   "execution_count": 90,
   "id": "0704846b",
   "metadata": {},
   "outputs": [],
   "source": [
    "# df_train.start_point.nunique()"
   ]
  },
  {
   "cell_type": "code",
   "execution_count": null,
   "id": "e22eccd0",
   "metadata": {},
   "outputs": [],
   "source": []
  },
  {
   "cell_type": "code",
   "execution_count": 97,
   "id": "b422c8a1",
   "metadata": {},
   "outputs": [],
   "source": [
    "cat_features = [\n",
    "#                 'ticket_id',\n",
    "                'ticket_type_nm',\n",
    "#                 'entrance_id',\n",
    "#                 'station_id',\n",
    "#                 'line_id',\n",
    "#                 'day',             \n",
    "#                 'hours',\n",
    "#                 'start_point',\n",
    "#                 'day_of_week',\n",
    "#                 'isDayOff',\n",
    "#                 'geo_lat',\n",
    "#                 'geo_lon',\n",
    "]"
   ]
  },
  {
   "cell_type": "markdown",
   "id": "d4e37a88",
   "metadata": {},
   "source": [
    "## Работа с моделью"
   ]
  },
  {
   "cell_type": "code",
   "execution_count": 98,
   "id": "ae8e8b9a",
   "metadata": {},
   "outputs": [],
   "source": [
    "X_tr = df_train.drop([\"id\",\n",
    "#                          \"entrance_id\",\n",
    "#                          \"day\",\n",
    "#                          \"isDayOff\",\n",
    "                         \"day_of_week\",\n",
    "#                          'start_point',\n",
    "                         \"ticket_id\",\n",
    "                         \"entrance_nm\",\n",
    "                         \"station_nm\",\n",
    "                         \"line_nm\",\n",
    "                         \"pass_dttm\",\n",
    "                         \"label\",\n",
    "                         \"time_to_under\"],\n",
    "                        axis = 1)\n",
    "\n",
    "\n",
    "y_tr = df_train[[\"label\"]]"
   ]
  },
  {
   "cell_type": "code",
   "execution_count": 99,
   "id": "620e1d55",
   "metadata": {},
   "outputs": [
    {
     "data": {
      "text/html": [
       "<div>\n",
       "<style scoped>\n",
       "    .dataframe tbody tr th:only-of-type {\n",
       "        vertical-align: middle;\n",
       "    }\n",
       "\n",
       "    .dataframe tbody tr th {\n",
       "        vertical-align: top;\n",
       "    }\n",
       "\n",
       "    .dataframe thead th {\n",
       "        text-align: right;\n",
       "    }\n",
       "</style>\n",
       "<table border=\"1\" class=\"dataframe\">\n",
       "  <thead>\n",
       "    <tr style=\"text-align: right;\">\n",
       "      <th></th>\n",
       "      <th>ticket_type_nm</th>\n",
       "      <th>entrance_id</th>\n",
       "      <th>station_id</th>\n",
       "      <th>line_id</th>\n",
       "      <th>geo_lat</th>\n",
       "      <th>geo_lon</th>\n",
       "      <th>geo_dist</th>\n",
       "      <th>day</th>\n",
       "      <th>hours</th>\n",
       "      <th>isDayOff</th>\n",
       "    </tr>\n",
       "  </thead>\n",
       "  <tbody>\n",
       "    <tr>\n",
       "      <th>0</th>\n",
       "      <td>30</td>\n",
       "      <td>2402</td>\n",
       "      <td>11007</td>\n",
       "      <td>15</td>\n",
       "      <td>55.764693</td>\n",
       "      <td>37.706757</td>\n",
       "      <td>5.891479</td>\n",
       "      <td>12</td>\n",
       "      <td>5</td>\n",
       "      <td>0</td>\n",
       "    </tr>\n",
       "    <tr>\n",
       "      <th>1</th>\n",
       "      <td>37</td>\n",
       "      <td>110</td>\n",
       "      <td>2006</td>\n",
       "      <td>2</td>\n",
       "      <td>55.818923</td>\n",
       "      <td>37.497791</td>\n",
       "      <td>10.475917</td>\n",
       "      <td>12</td>\n",
       "      <td>5</td>\n",
       "      <td>0</td>\n",
       "    </tr>\n",
       "    <tr>\n",
       "      <th>2</th>\n",
       "      <td>19</td>\n",
       "      <td>110</td>\n",
       "      <td>2006</td>\n",
       "      <td>2</td>\n",
       "      <td>55.818923</td>\n",
       "      <td>37.497791</td>\n",
       "      <td>10.475917</td>\n",
       "      <td>12</td>\n",
       "      <td>5</td>\n",
       "      <td>0</td>\n",
       "    </tr>\n",
       "    <tr>\n",
       "      <th>3</th>\n",
       "      <td>3</td>\n",
       "      <td>110</td>\n",
       "      <td>2006</td>\n",
       "      <td>2</td>\n",
       "      <td>55.818923</td>\n",
       "      <td>37.497791</td>\n",
       "      <td>10.475917</td>\n",
       "      <td>12</td>\n",
       "      <td>5</td>\n",
       "      <td>0</td>\n",
       "    </tr>\n",
       "    <tr>\n",
       "      <th>4</th>\n",
       "      <td>28</td>\n",
       "      <td>110</td>\n",
       "      <td>2006</td>\n",
       "      <td>2</td>\n",
       "      <td>55.818923</td>\n",
       "      <td>37.497791</td>\n",
       "      <td>10.475917</td>\n",
       "      <td>12</td>\n",
       "      <td>5</td>\n",
       "      <td>0</td>\n",
       "    </tr>\n",
       "    <tr>\n",
       "      <th>...</th>\n",
       "      <td>...</td>\n",
       "      <td>...</td>\n",
       "      <td>...</td>\n",
       "      <td>...</td>\n",
       "      <td>...</td>\n",
       "      <td>...</td>\n",
       "      <td>...</td>\n",
       "      <td>...</td>\n",
       "      <td>...</td>\n",
       "      <td>...</td>\n",
       "    </tr>\n",
       "    <tr>\n",
       "      <th>1091016</th>\n",
       "      <td>30</td>\n",
       "      <td>2283</td>\n",
       "      <td>15005</td>\n",
       "      <td>15</td>\n",
       "      <td>55.731724</td>\n",
       "      <td>37.730158</td>\n",
       "      <td>7.550731</td>\n",
       "      <td>19</td>\n",
       "      <td>2</td>\n",
       "      <td>0</td>\n",
       "    </tr>\n",
       "    <tr>\n",
       "      <th>1091017</th>\n",
       "      <td>30</td>\n",
       "      <td>278</td>\n",
       "      <td>6007</td>\n",
       "      <td>6</td>\n",
       "      <td>55.656682</td>\n",
       "      <td>37.540075</td>\n",
       "      <td>11.647466</td>\n",
       "      <td>19</td>\n",
       "      <td>3</td>\n",
       "      <td>0</td>\n",
       "    </tr>\n",
       "    <tr>\n",
       "      <th>1091018</th>\n",
       "      <td>30</td>\n",
       "      <td>118</td>\n",
       "      <td>2010</td>\n",
       "      <td>2</td>\n",
       "      <td>55.655745</td>\n",
       "      <td>37.649683</td>\n",
       "      <td>10.953319</td>\n",
       "      <td>19</td>\n",
       "      <td>3</td>\n",
       "      <td>0</td>\n",
       "    </tr>\n",
       "    <tr>\n",
       "      <th>1091019</th>\n",
       "      <td>30</td>\n",
       "      <td>2452</td>\n",
       "      <td>11014</td>\n",
       "      <td>11</td>\n",
       "      <td>55.658845</td>\n",
       "      <td>37.539446</td>\n",
       "      <td>11.444386</td>\n",
       "      <td>19</td>\n",
       "      <td>3</td>\n",
       "      <td>0</td>\n",
       "    </tr>\n",
       "    <tr>\n",
       "      <th>1091020</th>\n",
       "      <td>30</td>\n",
       "      <td>320</td>\n",
       "      <td>7015</td>\n",
       "      <td>7</td>\n",
       "      <td>55.765607</td>\n",
       "      <td>37.604356</td>\n",
       "      <td>1.648113</td>\n",
       "      <td>19</td>\n",
       "      <td>4</td>\n",
       "      <td>0</td>\n",
       "    </tr>\n",
       "  </tbody>\n",
       "</table>\n",
       "<p>1091007 rows × 10 columns</p>\n",
       "</div>"
      ],
      "text/plain": [
       "         ticket_type_nm  entrance_id  station_id  line_id    geo_lat  \\\n",
       "0                    30         2402       11007       15  55.764693   \n",
       "1                    37          110        2006        2  55.818923   \n",
       "2                    19          110        2006        2  55.818923   \n",
       "3                     3          110        2006        2  55.818923   \n",
       "4                    28          110        2006        2  55.818923   \n",
       "...                 ...          ...         ...      ...        ...   \n",
       "1091016              30         2283       15005       15  55.731724   \n",
       "1091017              30          278        6007        6  55.656682   \n",
       "1091018              30          118        2010        2  55.655745   \n",
       "1091019              30         2452       11014       11  55.658845   \n",
       "1091020              30          320        7015        7  55.765607   \n",
       "\n",
       "           geo_lon   geo_dist  day  hours  isDayOff  \n",
       "0        37.706757   5.891479   12      5         0  \n",
       "1        37.497791  10.475917   12      5         0  \n",
       "2        37.497791  10.475917   12      5         0  \n",
       "3        37.497791  10.475917   12      5         0  \n",
       "4        37.497791  10.475917   12      5         0  \n",
       "...            ...        ...  ...    ...       ...  \n",
       "1091016  37.730158   7.550731   19      2         0  \n",
       "1091017  37.540075  11.647466   19      3         0  \n",
       "1091018  37.649683  10.953319   19      3         0  \n",
       "1091019  37.539446  11.444386   19      3         0  \n",
       "1091020  37.604356   1.648113   19      4         0  \n",
       "\n",
       "[1091007 rows x 10 columns]"
      ]
     },
     "execution_count": 99,
     "metadata": {},
     "output_type": "execute_result"
    }
   ],
   "source": [
    "X_tr"
   ]
  },
  {
   "cell_type": "code",
   "execution_count": 100,
   "id": "0f718c77",
   "metadata": {},
   "outputs": [],
   "source": [
    "X_train, X_test, y_train, y_test = train_test_split(X_tr,\n",
    "                                                    y_tr,\n",
    "                                                    test_size=0.3,\n",
    "                                                    stratify=y_tr,\n",
    "                                                    shuffle=True,\n",
    "                                                    random_state=42)"
   ]
  },
  {
   "cell_type": "code",
   "execution_count": 101,
   "id": "1fd2507e",
   "metadata": {},
   "outputs": [
    {
     "data": {
      "text/html": [
       "<div>\n",
       "<style scoped>\n",
       "    .dataframe tbody tr th:only-of-type {\n",
       "        vertical-align: middle;\n",
       "    }\n",
       "\n",
       "    .dataframe tbody tr th {\n",
       "        vertical-align: top;\n",
       "    }\n",
       "\n",
       "    .dataframe thead th {\n",
       "        text-align: right;\n",
       "    }\n",
       "</style>\n",
       "<table border=\"1\" class=\"dataframe\">\n",
       "  <thead>\n",
       "    <tr style=\"text-align: right;\">\n",
       "      <th></th>\n",
       "      <th>ticket_type_nm</th>\n",
       "      <th>entrance_id</th>\n",
       "      <th>station_id</th>\n",
       "      <th>line_id</th>\n",
       "      <th>geo_lat</th>\n",
       "      <th>geo_lon</th>\n",
       "      <th>geo_dist</th>\n",
       "      <th>day</th>\n",
       "      <th>hours</th>\n",
       "      <th>isDayOff</th>\n",
       "    </tr>\n",
       "  </thead>\n",
       "  <tbody>\n",
       "    <tr>\n",
       "      <th>252135</th>\n",
       "      <td>36</td>\n",
       "      <td>267</td>\n",
       "      <td>6010</td>\n",
       "      <td>6</td>\n",
       "      <td>55.706780</td>\n",
       "      <td>37.584990</td>\n",
       "      <td>5.411458</td>\n",
       "      <td>13</td>\n",
       "      <td>8</td>\n",
       "      <td>0</td>\n",
       "    </tr>\n",
       "    <tr>\n",
       "      <th>182075</th>\n",
       "      <td>5</td>\n",
       "      <td>20</td>\n",
       "      <td>1002</td>\n",
       "      <td>1</td>\n",
       "      <td>55.814916</td>\n",
       "      <td>37.732227</td>\n",
       "      <td>10.114645</td>\n",
       "      <td>13</td>\n",
       "      <td>6</td>\n",
       "      <td>0</td>\n",
       "    </tr>\n",
       "    <tr>\n",
       "      <th>276026</th>\n",
       "      <td>5</td>\n",
       "      <td>304</td>\n",
       "      <td>7009</td>\n",
       "      <td>7</td>\n",
       "      <td>55.705493</td>\n",
       "      <td>37.763295</td>\n",
       "      <td>10.640550</td>\n",
       "      <td>13</td>\n",
       "      <td>9</td>\n",
       "      <td>0</td>\n",
       "    </tr>\n",
       "    <tr>\n",
       "      <th>1001913</th>\n",
       "      <td>3</td>\n",
       "      <td>33</td>\n",
       "      <td>1004</td>\n",
       "      <td>1</td>\n",
       "      <td>55.774072</td>\n",
       "      <td>37.654565</td>\n",
       "      <td>3.451717</td>\n",
       "      <td>18</td>\n",
       "      <td>8</td>\n",
       "      <td>1</td>\n",
       "    </tr>\n",
       "    <tr>\n",
       "      <th>954187</th>\n",
       "      <td>28</td>\n",
       "      <td>368</td>\n",
       "      <td>9008</td>\n",
       "      <td>9</td>\n",
       "      <td>55.781999</td>\n",
       "      <td>37.599141</td>\n",
       "      <td>3.471999</td>\n",
       "      <td>17</td>\n",
       "      <td>16</td>\n",
       "      <td>1</td>\n",
       "    </tr>\n",
       "    <tr>\n",
       "      <th>...</th>\n",
       "      <td>...</td>\n",
       "      <td>...</td>\n",
       "      <td>...</td>\n",
       "      <td>...</td>\n",
       "      <td>...</td>\n",
       "      <td>...</td>\n",
       "      <td>...</td>\n",
       "      <td>...</td>\n",
       "      <td>...</td>\n",
       "      <td>...</td>\n",
       "    </tr>\n",
       "    <tr>\n",
       "      <th>507327</th>\n",
       "      <td>5</td>\n",
       "      <td>127</td>\n",
       "      <td>3005</td>\n",
       "      <td>3</td>\n",
       "      <td>55.743117</td>\n",
       "      <td>37.564132</td>\n",
       "      <td>3.384903</td>\n",
       "      <td>15</td>\n",
       "      <td>0</td>\n",
       "      <td>0</td>\n",
       "    </tr>\n",
       "    <tr>\n",
       "      <th>211355</th>\n",
       "      <td>15</td>\n",
       "      <td>362</td>\n",
       "      <td>9019</td>\n",
       "      <td>9</td>\n",
       "      <td>55.818660</td>\n",
       "      <td>37.574498</td>\n",
       "      <td>7.833036</td>\n",
       "      <td>13</td>\n",
       "      <td>7</td>\n",
       "      <td>0</td>\n",
       "    </tr>\n",
       "    <tr>\n",
       "      <th>100164</th>\n",
       "      <td>3</td>\n",
       "      <td>354</td>\n",
       "      <td>9012</td>\n",
       "      <td>9</td>\n",
       "      <td>55.864273</td>\n",
       "      <td>37.605066</td>\n",
       "      <td>12.493134</td>\n",
       "      <td>12</td>\n",
       "      <td>9</td>\n",
       "      <td>0</td>\n",
       "    </tr>\n",
       "    <tr>\n",
       "      <th>358384</th>\n",
       "      <td>3</td>\n",
       "      <td>416</td>\n",
       "      <td>10011</td>\n",
       "      <td>10</td>\n",
       "      <td>55.676596</td>\n",
       "      <td>37.761639</td>\n",
       "      <td>12.457493</td>\n",
       "      <td>14</td>\n",
       "      <td>6</td>\n",
       "      <td>0</td>\n",
       "    </tr>\n",
       "    <tr>\n",
       "      <th>817408</th>\n",
       "      <td>28</td>\n",
       "      <td>218</td>\n",
       "      <td>8003</td>\n",
       "      <td>8</td>\n",
       "      <td>55.752237</td>\n",
       "      <td>37.814587</td>\n",
       "      <td>12.497170</td>\n",
       "      <td>16</td>\n",
       "      <td>13</td>\n",
       "      <td>0</td>\n",
       "    </tr>\n",
       "  </tbody>\n",
       "</table>\n",
       "<p>763704 rows × 10 columns</p>\n",
       "</div>"
      ],
      "text/plain": [
       "         ticket_type_nm  entrance_id  station_id  line_id    geo_lat  \\\n",
       "252135               36          267        6010        6  55.706780   \n",
       "182075                5           20        1002        1  55.814916   \n",
       "276026                5          304        7009        7  55.705493   \n",
       "1001913               3           33        1004        1  55.774072   \n",
       "954187               28          368        9008        9  55.781999   \n",
       "...                 ...          ...         ...      ...        ...   \n",
       "507327                5          127        3005        3  55.743117   \n",
       "211355               15          362        9019        9  55.818660   \n",
       "100164                3          354        9012        9  55.864273   \n",
       "358384                3          416       10011       10  55.676596   \n",
       "817408               28          218        8003        8  55.752237   \n",
       "\n",
       "           geo_lon   geo_dist  day  hours  isDayOff  \n",
       "252135   37.584990   5.411458   13      8         0  \n",
       "182075   37.732227  10.114645   13      6         0  \n",
       "276026   37.763295  10.640550   13      9         0  \n",
       "1001913  37.654565   3.451717   18      8         1  \n",
       "954187   37.599141   3.471999   17     16         1  \n",
       "...            ...        ...  ...    ...       ...  \n",
       "507327   37.564132   3.384903   15      0         0  \n",
       "211355   37.574498   7.833036   13      7         0  \n",
       "100164   37.605066  12.493134   12      9         0  \n",
       "358384   37.761639  12.457493   14      6         0  \n",
       "817408   37.814587  12.497170   16     13         0  \n",
       "\n",
       "[763704 rows x 10 columns]"
      ]
     },
     "execution_count": 101,
     "metadata": {},
     "output_type": "execute_result"
    }
   ],
   "source": [
    "X_train"
   ]
  },
  {
   "cell_type": "code",
   "execution_count": 102,
   "id": "f3157d8b",
   "metadata": {},
   "outputs": [
    {
     "data": {
      "text/html": [
       "<div>\n",
       "<style scoped>\n",
       "    .dataframe tbody tr th:only-of-type {\n",
       "        vertical-align: middle;\n",
       "    }\n",
       "\n",
       "    .dataframe tbody tr th {\n",
       "        vertical-align: top;\n",
       "    }\n",
       "\n",
       "    .dataframe thead th {\n",
       "        text-align: right;\n",
       "    }\n",
       "</style>\n",
       "<table border=\"1\" class=\"dataframe\">\n",
       "  <thead>\n",
       "    <tr style=\"text-align: right;\">\n",
       "      <th></th>\n",
       "      <th>ticket_type_nm</th>\n",
       "      <th>entrance_id</th>\n",
       "      <th>station_id</th>\n",
       "      <th>line_id</th>\n",
       "      <th>geo_lat</th>\n",
       "      <th>geo_lon</th>\n",
       "      <th>geo_dist</th>\n",
       "      <th>day</th>\n",
       "      <th>hours</th>\n",
       "      <th>isDayOff</th>\n",
       "    </tr>\n",
       "  </thead>\n",
       "  <tbody>\n",
       "    <tr>\n",
       "      <th>224557</th>\n",
       "      <td>10</td>\n",
       "      <td>2260</td>\n",
       "      <td>15004</td>\n",
       "      <td>15</td>\n",
       "      <td>55.710311</td>\n",
       "      <td>37.879045</td>\n",
       "      <td>17.198490</td>\n",
       "      <td>13</td>\n",
       "      <td>7</td>\n",
       "      <td>0</td>\n",
       "    </tr>\n",
       "    <tr>\n",
       "      <th>566919</th>\n",
       "      <td>36</td>\n",
       "      <td>248</td>\n",
       "      <td>6002</td>\n",
       "      <td>6</td>\n",
       "      <td>55.807794</td>\n",
       "      <td>37.638699</td>\n",
       "      <td>6.355550</td>\n",
       "      <td>15</td>\n",
       "      <td>8</td>\n",
       "      <td>0</td>\n",
       "    </tr>\n",
       "    <tr>\n",
       "      <th>919658</th>\n",
       "      <td>15</td>\n",
       "      <td>2226</td>\n",
       "      <td>10018</td>\n",
       "      <td>10</td>\n",
       "      <td>55.866556</td>\n",
       "      <td>37.547117</td>\n",
       "      <td>13.433839</td>\n",
       "      <td>17</td>\n",
       "      <td>11</td>\n",
       "      <td>1</td>\n",
       "    </tr>\n",
       "    <tr>\n",
       "      <th>696525</th>\n",
       "      <td>3</td>\n",
       "      <td>2085</td>\n",
       "      <td>10001</td>\n",
       "      <td>10</td>\n",
       "      <td>55.632500</td>\n",
       "      <td>37.743333</td>\n",
       "      <td>15.563838</td>\n",
       "      <td>16</td>\n",
       "      <td>6</td>\n",
       "      <td>0</td>\n",
       "    </tr>\n",
       "    <tr>\n",
       "      <th>765544</th>\n",
       "      <td>5</td>\n",
       "      <td>2264</td>\n",
       "      <td>15002</td>\n",
       "      <td>15</td>\n",
       "      <td>55.702967</td>\n",
       "      <td>37.928030</td>\n",
       "      <td>20.384204</td>\n",
       "      <td>16</td>\n",
       "      <td>8</td>\n",
       "      <td>0</td>\n",
       "    </tr>\n",
       "    <tr>\n",
       "      <th>...</th>\n",
       "      <td>...</td>\n",
       "      <td>...</td>\n",
       "      <td>...</td>\n",
       "      <td>...</td>\n",
       "      <td>...</td>\n",
       "      <td>...</td>\n",
       "      <td>...</td>\n",
       "      <td>...</td>\n",
       "      <td>...</td>\n",
       "      <td>...</td>\n",
       "    </tr>\n",
       "    <tr>\n",
       "      <th>348132</th>\n",
       "      <td>5</td>\n",
       "      <td>2163</td>\n",
       "      <td>14007</td>\n",
       "      <td>14</td>\n",
       "      <td>55.690000</td>\n",
       "      <td>37.618889</td>\n",
       "      <td>6.930531</td>\n",
       "      <td>14</td>\n",
       "      <td>6</td>\n",
       "      <td>0</td>\n",
       "    </tr>\n",
       "    <tr>\n",
       "      <th>473452</th>\n",
       "      <td>36</td>\n",
       "      <td>345</td>\n",
       "      <td>7012</td>\n",
       "      <td>7</td>\n",
       "      <td>55.859676</td>\n",
       "      <td>37.436808</td>\n",
       "      <td>16.394207</td>\n",
       "      <td>14</td>\n",
       "      <td>11</td>\n",
       "      <td>0</td>\n",
       "    </tr>\n",
       "    <tr>\n",
       "      <th>103473</th>\n",
       "      <td>28</td>\n",
       "      <td>2261</td>\n",
       "      <td>15003</td>\n",
       "      <td>15</td>\n",
       "      <td>55.708516</td>\n",
       "      <td>37.900569</td>\n",
       "      <td>18.555452</td>\n",
       "      <td>12</td>\n",
       "      <td>9</td>\n",
       "      <td>0</td>\n",
       "    </tr>\n",
       "    <tr>\n",
       "      <th>496620</th>\n",
       "      <td>28</td>\n",
       "      <td>2043</td>\n",
       "      <td>3018</td>\n",
       "      <td>3</td>\n",
       "      <td>55.729542</td>\n",
       "      <td>37.470973</td>\n",
       "      <td>9.425911</td>\n",
       "      <td>14</td>\n",
       "      <td>16</td>\n",
       "      <td>0</td>\n",
       "    </tr>\n",
       "    <tr>\n",
       "      <th>73628</th>\n",
       "      <td>37</td>\n",
       "      <td>2464</td>\n",
       "      <td>11020</td>\n",
       "      <td>11</td>\n",
       "      <td>55.728707</td>\n",
       "      <td>37.445985</td>\n",
       "      <td>10.968044</td>\n",
       "      <td>12</td>\n",
       "      <td>8</td>\n",
       "      <td>0</td>\n",
       "    </tr>\n",
       "  </tbody>\n",
       "</table>\n",
       "<p>327303 rows × 10 columns</p>\n",
       "</div>"
      ],
      "text/plain": [
       "        ticket_type_nm  entrance_id  station_id  line_id    geo_lat  \\\n",
       "224557              10         2260       15004       15  55.710311   \n",
       "566919              36          248        6002        6  55.807794   \n",
       "919658              15         2226       10018       10  55.866556   \n",
       "696525               3         2085       10001       10  55.632500   \n",
       "765544               5         2264       15002       15  55.702967   \n",
       "...                ...          ...         ...      ...        ...   \n",
       "348132               5         2163       14007       14  55.690000   \n",
       "473452              36          345        7012        7  55.859676   \n",
       "103473              28         2261       15003       15  55.708516   \n",
       "496620              28         2043        3018        3  55.729542   \n",
       "73628               37         2464       11020       11  55.728707   \n",
       "\n",
       "          geo_lon   geo_dist  day  hours  isDayOff  \n",
       "224557  37.879045  17.198490   13      7         0  \n",
       "566919  37.638699   6.355550   15      8         0  \n",
       "919658  37.547117  13.433839   17     11         1  \n",
       "696525  37.743333  15.563838   16      6         0  \n",
       "765544  37.928030  20.384204   16      8         0  \n",
       "...           ...        ...  ...    ...       ...  \n",
       "348132  37.618889   6.930531   14      6         0  \n",
       "473452  37.436808  16.394207   14     11         0  \n",
       "103473  37.900569  18.555452   12      9         0  \n",
       "496620  37.470973   9.425911   14     16         0  \n",
       "73628   37.445985  10.968044   12      8         0  \n",
       "\n",
       "[327303 rows x 10 columns]"
      ]
     },
     "execution_count": 102,
     "metadata": {},
     "output_type": "execute_result"
    }
   ],
   "source": [
    "X_test"
   ]
  },
  {
   "cell_type": "code",
   "execution_count": 103,
   "id": "1cab78ab",
   "metadata": {},
   "outputs": [],
   "source": [
    "train_pool = Pool(X_train,\n",
    "#                   cat_features=cat_features,\n",
    "                  label=y_train)\n",
    "\n",
    "test_pool = Pool(X_test,\n",
    "                 y_test,\n",
    "#                  cat_features=cat_features,\n",
    "                 )"
   ]
  },
  {
   "cell_type": "code",
   "execution_count": 104,
   "id": "244c6e6d",
   "metadata": {},
   "outputs": [],
   "source": [
    "model = CatBoostClassifier(\n",
    "    iterations=120,\n",
    "#     bootstrap_type='Bernoulli',\n",
    "#     eval_metric='Recall',\n",
    "#     depth=2,\n",
    "    random_seed=42,\n",
    "    auto_class_weights='SqrtBalanced',\n",
    "    logging_level='Verbose',\n",
    "    learning_rate=0.2,\n",
    "    l2_leaf_reg=5,\n",
    "    task_type=\"GPU\",\n",
    "    devices='0:1',\n",
    "    early_stopping_rounds=20,\n",
    ")"
   ]
  },
  {
   "cell_type": "code",
   "execution_count": 105,
   "id": "b2076e5d",
   "metadata": {},
   "outputs": [
    {
     "data": {
      "application/vnd.jupyter.widget-view+json": {
       "model_id": "1ef4d28160894a63bcf23fb6c5b5fbad",
       "version_major": 2,
       "version_minor": 0
      },
      "text/plain": [
       "MetricVisualizer(layout=Layout(align_self='stretch', height='500px'))"
      ]
     },
     "metadata": {},
     "output_type": "display_data"
    },
    {
     "name": "stdout",
     "output_type": "stream",
     "text": [
      "0:\tlearn: 5.3677873\ttest: 5.3693038\tbest: 5.3693038 (0)\ttotal: 2.32s\tremaining: 4m 36s\n",
      "5:\tlearn: 5.0714376\ttest: 5.0825892\tbest: 5.0825892 (5)\ttotal: 13.7s\tremaining: 4m 20s\n",
      "10:\tlearn: 4.9625859\ttest: 4.9834623\tbest: 4.9834623 (10)\ttotal: 25.2s\tremaining: 4m 10s\n",
      "15:\tlearn: 4.8972838\ttest: 4.9276192\tbest: 4.9276192 (15)\ttotal: 36.8s\tremaining: 3m 59s\n",
      "20:\tlearn: 4.8585046\ttest: 4.8969741\tbest: 4.8969741 (20)\ttotal: 48.3s\tremaining: 3m 47s\n",
      "25:\tlearn: 4.8292697\ttest: 4.8746407\tbest: 4.8746407 (25)\ttotal: 59.9s\tremaining: 3m 36s\n",
      "30:\tlearn: 4.8034432\ttest: 4.8555763\tbest: 4.8555763 (30)\ttotal: 1m 11s\tremaining: 3m 25s\n",
      "35:\tlearn: 4.7849985\ttest: 4.8440129\tbest: 4.8440129 (35)\ttotal: 1m 23s\tremaining: 3m 13s\n",
      "40:\tlearn: 4.7629051\ttest: 4.8292553\tbest: 4.8292553 (40)\ttotal: 1m 34s\tremaining: 3m 2s\n",
      "45:\tlearn: 4.7457470\ttest: 4.8184939\tbest: 4.8184939 (45)\ttotal: 1m 46s\tremaining: 2m 50s\n",
      "50:\tlearn: 4.7316756\ttest: 4.8105214\tbest: 4.8105214 (50)\ttotal: 1m 57s\tremaining: 2m 39s\n",
      "55:\tlearn: 4.7162184\ttest: 4.8004302\tbest: 4.8004302 (55)\ttotal: 2m 9s\tremaining: 2m 27s\n",
      "60:\tlearn: 4.7054869\ttest: 4.7938840\tbest: 4.7938840 (60)\ttotal: 2m 20s\tremaining: 2m 16s\n",
      "65:\tlearn: 4.6966922\ttest: 4.7888037\tbest: 4.7888037 (65)\ttotal: 2m 32s\tremaining: 2m 4s\n",
      "70:\tlearn: 4.6845146\ttest: 4.7820083\tbest: 4.7820083 (70)\ttotal: 2m 43s\tremaining: 1m 53s\n",
      "75:\tlearn: 4.6741206\ttest: 4.7764963\tbest: 4.7764963 (75)\ttotal: 2m 55s\tremaining: 1m 41s\n",
      "80:\tlearn: 4.6665336\ttest: 4.7722184\tbest: 4.7722184 (80)\ttotal: 3m 6s\tremaining: 1m 29s\n",
      "85:\tlearn: 4.6554951\ttest: 4.7665133\tbest: 4.7665133 (85)\ttotal: 3m 18s\tremaining: 1m 18s\n",
      "90:\tlearn: 4.6483993\ttest: 4.7634458\tbest: 4.7634458 (90)\ttotal: 3m 29s\tremaining: 1m 6s\n",
      "95:\tlearn: 4.6404593\ttest: 4.7606815\tbest: 4.7606815 (95)\ttotal: 3m 41s\tremaining: 55.3s\n",
      "100:\tlearn: 4.6338621\ttest: 4.7572941\tbest: 4.7572941 (100)\ttotal: 3m 52s\tremaining: 43.8s\n",
      "105:\tlearn: 4.6261462\ttest: 4.7532950\tbest: 4.7532950 (105)\ttotal: 4m 4s\tremaining: 32.3s\n",
      "110:\tlearn: 4.6201830\ttest: 4.7502906\tbest: 4.7502906 (110)\ttotal: 4m 15s\tremaining: 20.7s\n",
      "115:\tlearn: 4.6143847\ttest: 4.7486154\tbest: 4.7486154 (115)\ttotal: 4m 26s\tremaining: 9.2s\n",
      "119:\tlearn: 4.6103627\ttest: 4.7469020\tbest: 4.7468842 (118)\ttotal: 4m 36s\tremaining: 0us\n",
      "bestTest = 4.746884218\n",
      "bestIteration = 118\n",
      "Shrink model to first 119 iterations.\n"
     ]
    },
    {
     "data": {
      "text/plain": [
       "<catboost.core.CatBoostClassifier at 0x23c3ed4ba90>"
      ]
     },
     "execution_count": 105,
     "metadata": {},
     "output_type": "execute_result"
    }
   ],
   "source": [
    "model.fit(\n",
    "    train_pool,\n",
    "    eval_set=test_pool,\n",
    "    use_best_model=True,\n",
    "    verbose=5,\n",
    "    plot=True,\n",
    "         )"
   ]
  },
  {
   "cell_type": "code",
   "execution_count": 106,
   "id": "9ccd598e",
   "metadata": {},
   "outputs": [
    {
     "name": "stdout",
     "output_type": "stream",
     "text": [
      "recall: 0.08166802756670508\n"
     ]
    }
   ],
   "source": [
    "pred_class = model.predict(X_test)\n",
    "score_recall = recall_score(y_test, pred_class, average='macro')\n",
    "print(f'recall: {score_recall}')"
   ]
  },
  {
   "cell_type": "code",
   "execution_count": 107,
   "id": "3b031070",
   "metadata": {},
   "outputs": [],
   "source": [
    "# recall: 0.07986924081346568 -lr=0.2\n",
    "# recall: 0.08312273561560835 -lr=0.25\n",
    "# recall: 0.08339526954113444\n",
    "# recall: 0.08254435340412068\n",
    "# recall: 0.08578966680240385\n",
    "# recall: 0.07249438700247522\n",
    "# recall: 0.0806474778387984\n",
    "\n",
    "# recall: 0.08397923088700017\n",
    "# 119:\tlearn: 4.6108133\ttest: 4.7515562\tbest: 4.7515562 (119)\ttotal: 16m 58s\tremaining: 0us\n",
    "# bestTest = 4.751556237\n",
    "# bestIteration = 119\n",
    "\n",
    "# recall: 0.08476716454665972\n",
    "# bestTest = 4.746236193\n",
    "# bestIteration = 119   \n",
    "\n"
   ]
  },
  {
   "cell_type": "code",
   "execution_count": 108,
   "id": "e48713d2",
   "metadata": {},
   "outputs": [
    {
     "data": {
      "text/html": [
       "<div>\n",
       "<style scoped>\n",
       "    .dataframe tbody tr th:only-of-type {\n",
       "        vertical-align: middle;\n",
       "    }\n",
       "\n",
       "    .dataframe tbody tr th {\n",
       "        vertical-align: top;\n",
       "    }\n",
       "\n",
       "    .dataframe thead th {\n",
       "        text-align: right;\n",
       "    }\n",
       "</style>\n",
       "<table border=\"1\" class=\"dataframe\">\n",
       "  <thead>\n",
       "    <tr style=\"text-align: right;\">\n",
       "      <th></th>\n",
       "      <th>Feature Id</th>\n",
       "      <th>Importances</th>\n",
       "    </tr>\n",
       "  </thead>\n",
       "  <tbody>\n",
       "    <tr>\n",
       "      <th>0</th>\n",
       "      <td>hours</td>\n",
       "      <td>17.934456</td>\n",
       "    </tr>\n",
       "    <tr>\n",
       "      <th>1</th>\n",
       "      <td>geo_lon</td>\n",
       "      <td>15.750451</td>\n",
       "    </tr>\n",
       "    <tr>\n",
       "      <th>2</th>\n",
       "      <td>geo_lat</td>\n",
       "      <td>14.419405</td>\n",
       "    </tr>\n",
       "    <tr>\n",
       "      <th>3</th>\n",
       "      <td>ticket_type_nm</td>\n",
       "      <td>13.006454</td>\n",
       "    </tr>\n",
       "    <tr>\n",
       "      <th>4</th>\n",
       "      <td>station_id</td>\n",
       "      <td>10.930759</td>\n",
       "    </tr>\n",
       "    <tr>\n",
       "      <th>5</th>\n",
       "      <td>geo_dist</td>\n",
       "      <td>8.855939</td>\n",
       "    </tr>\n",
       "    <tr>\n",
       "      <th>6</th>\n",
       "      <td>entrance_id</td>\n",
       "      <td>8.516786</td>\n",
       "    </tr>\n",
       "    <tr>\n",
       "      <th>7</th>\n",
       "      <td>line_id</td>\n",
       "      <td>8.427016</td>\n",
       "    </tr>\n",
       "    <tr>\n",
       "      <th>8</th>\n",
       "      <td>day</td>\n",
       "      <td>1.708687</td>\n",
       "    </tr>\n",
       "    <tr>\n",
       "      <th>9</th>\n",
       "      <td>isDayOff</td>\n",
       "      <td>0.450045</td>\n",
       "    </tr>\n",
       "  </tbody>\n",
       "</table>\n",
       "</div>"
      ],
      "text/plain": [
       "       Feature Id  Importances\n",
       "0           hours    17.934456\n",
       "1         geo_lon    15.750451\n",
       "2         geo_lat    14.419405\n",
       "3  ticket_type_nm    13.006454\n",
       "4      station_id    10.930759\n",
       "5        geo_dist     8.855939\n",
       "6     entrance_id     8.516786\n",
       "7         line_id     8.427016\n",
       "8             day     1.708687\n",
       "9        isDayOff     0.450045"
      ]
     },
     "execution_count": 108,
     "metadata": {},
     "output_type": "execute_result"
    }
   ],
   "source": [
    "model.get_feature_importance(prettified=True)"
   ]
  },
  {
   "cell_type": "code",
   "execution_count": null,
   "id": "ecb25096",
   "metadata": {},
   "outputs": [],
   "source": []
  },
  {
   "cell_type": "code",
   "execution_count": 109,
   "id": "0cc3b2d7",
   "metadata": {},
   "outputs": [],
   "source": [
    "y_reg = df_train[[\"time_to_under\"]]"
   ]
  },
  {
   "cell_type": "code",
   "execution_count": 110,
   "id": "e2d6baec",
   "metadata": {},
   "outputs": [],
   "source": [
    "X_train_reg, X_test_reg, y_train_reg, y_test_reg = train_test_split(X_tr,\n",
    "                                                                    y_reg,\n",
    "                                                                    test_size=0.33,\n",
    "                                                                    shuffle=True,\n",
    "                                                                    random_state=42)"
   ]
  },
  {
   "cell_type": "code",
   "execution_count": 111,
   "id": "8e9580ed",
   "metadata": {},
   "outputs": [],
   "source": [
    "train_pool_reg = Pool(X_train_reg,\n",
    "                      label=y_train_reg,\n",
    "#                       cat_features=cat_features,\n",
    "                     )\n",
    "\n",
    "test_pool_reg = Pool(X_test_reg,\n",
    "                     y_test_reg,\n",
    "#                      cat_features=cat_features,\n",
    "                    )"
   ]
  },
  {
   "cell_type": "code",
   "execution_count": 112,
   "id": "5479fd60",
   "metadata": {},
   "outputs": [],
   "source": [
    "cat_reg = CatBoostRegressor(\n",
    "    iterations=10000,\n",
    "#     eval_metric='R2',\n",
    "    depth=8,\n",
    "    random_seed=42,\n",
    "    logging_level='Verbose',\n",
    "    learning_rate=0.1,\n",
    "    l2_leaf_reg=10,\n",
    "    task_type=\"GPU\",\n",
    "    devices='0:1',\n",
    "    early_stopping_rounds=100\n",
    "\n",
    ")"
   ]
  },
  {
   "cell_type": "code",
   "execution_count": 113,
   "id": "afadc0bd",
   "metadata": {},
   "outputs": [
    {
     "data": {
      "application/vnd.jupyter.widget-view+json": {
       "model_id": "0dc0964f176b45eda90b12aef0c2fa5c",
       "version_major": 2,
       "version_minor": 0
      },
      "text/plain": [
       "MetricVisualizer(layout=Layout(align_self='stretch', height='500px'))"
      ]
     },
     "metadata": {},
     "output_type": "display_data"
    },
    {
     "name": "stdout",
     "output_type": "stream",
     "text": [
      "0:\tlearn: 221.2463677\ttest: 221.5903254\tbest: 221.5903254 (0)\ttotal: 23ms\tremaining: 3m 50s\n",
      "100:\tlearn: 159.1007406\ttest: 159.6454173\tbest: 159.6454173 (100)\ttotal: 1.82s\tremaining: 2m 58s\n",
      "200:\tlearn: 158.5099954\ttest: 159.3179241\tbest: 159.3179241 (200)\ttotal: 3.57s\tremaining: 2m 53s\n",
      "300:\tlearn: 158.1312079\ttest: 159.1944369\tbest: 159.1944369 (300)\ttotal: 5.32s\tremaining: 2m 51s\n",
      "400:\tlearn: 157.8255191\ttest: 159.1117847\tbest: 159.1117847 (400)\ttotal: 7.1s\tremaining: 2m 49s\n",
      "500:\tlearn: 157.5624261\ttest: 159.0633619\tbest: 159.0633619 (500)\ttotal: 8.87s\tremaining: 2m 48s\n",
      "600:\tlearn: 157.3411364\ttest: 159.0281506\tbest: 159.0281506 (598)\ttotal: 10.6s\tremaining: 2m 46s\n",
      "700:\tlearn: 157.1384803\ttest: 159.0029311\tbest: 159.0021977 (699)\ttotal: 12.5s\tremaining: 2m 46s\n",
      "800:\tlearn: 156.9511116\ttest: 158.9829851\tbest: 158.9822159 (797)\ttotal: 14.3s\tremaining: 2m 43s\n",
      "900:\tlearn: 156.7773873\ttest: 158.9760884\tbest: 158.9737358 (875)\ttotal: 16.1s\tremaining: 2m 42s\n",
      "1000:\tlearn: 156.6162794\ttest: 158.9669818\tbest: 158.9659978 (986)\ttotal: 17.8s\tremaining: 2m 40s\n",
      "1100:\tlearn: 156.4633862\ttest: 158.9656936\tbest: 158.9647006 (1097)\ttotal: 19.6s\tremaining: 2m 38s\n",
      "1200:\tlearn: 156.3169932\ttest: 158.9668745\tbest: 158.9610864 (1133)\ttotal: 21.3s\tremaining: 2m 35s\n",
      "bestTest = 158.9610864\n",
      "bestIteration = 1133\n",
      "Shrink model to first 1134 iterations.\n"
     ]
    }
   ],
   "source": [
    "reg_cat = cat_reg.fit(\n",
    "    train_pool_reg,\n",
    "    eval_set=test_pool_reg,\n",
    "    use_best_model=True,\n",
    "    verbose=100,\n",
    "    plot=True,\n",
    ")"
   ]
  },
  {
   "cell_type": "code",
   "execution_count": 114,
   "id": "0088f009",
   "metadata": {},
   "outputs": [
    {
     "name": "stdout",
     "output_type": "stream",
     "text": [
      "r2: 0.5348508453677645\n"
     ]
    }
   ],
   "source": [
    "pred_reg_cat = reg_cat.predict(X_test_reg)\n",
    "score_r2 = r2_score(y_test_reg, pred_reg_cat)\n",
    "print(f'r2: {score_r2}')"
   ]
  },
  {
   "cell_type": "code",
   "execution_count": 115,
   "id": "66e22f59",
   "metadata": {},
   "outputs": [],
   "source": [
    "# r2: 0.5347934658258837 - lr=0.1\n",
    "# r2: 0.5347893187636281 - lr=0.05\n",
    "# r2: 0.6133501971408499\n",
    "# r2: 0.534084581864843\n",
    "# r2: 0.5346734263856368\n",
    "# r2: 0.5348801303254902"
   ]
  },
  {
   "cell_type": "code",
   "execution_count": 116,
   "id": "165296f6",
   "metadata": {},
   "outputs": [
    {
     "name": "stdout",
     "output_type": "stream",
     "text": [
      "Общий скор: 0.3082594364672348\n",
      "recall: 0.08166802756670508\n",
      "r2: 0.5348508453677645\n"
     ]
    }
   ],
   "source": [
    "pred_class = model.predict(X_test)\n",
    "pred_reg = reg_cat.predict(X_test_reg)\n",
    "score_recall = recall_score(y_test, pred_class, average='macro')\n",
    "score_r2 = r2_score(y_test_reg, pred_reg)\n",
    "score = 0.5 * score_recall +  0.5 * score_r2\n",
    "print(f'Общий скор: {score}')\n",
    "print(f'recall: {score_recall}')\n",
    "print(f'r2: {score_r2}')"
   ]
  },
  {
   "cell_type": "code",
   "execution_count": 117,
   "id": "92ce019c",
   "metadata": {},
   "outputs": [],
   "source": [
    "# Общий скор: 0.3032894844336591\n",
    "# recall: 0.07249438700247522\n",
    "# r2: 0.534084581864843\n",
    "\n",
    "# Общий скор: 0.3076604521122176\n",
    "# recall: 0.0806474778387984\n",
    "# r2: 0.5346734263856368\n",
    "\n",
    "# Общий скор: 0.3094296806062452\n",
    "# recall: 0.08397923088700017\n",
    "# r2: 0.5348801303254902\n",
    "\n",
    "# Общий скор: 0.30982744590300726\n",
    "# recall: 0.08476716454665972\n",
    "# r2: 0.5348877272593549"
   ]
  },
  {
   "cell_type": "code",
   "execution_count": 118,
   "id": "999048e8",
   "metadata": {},
   "outputs": [],
   "source": [
    "is_save_result = True"
   ]
  },
  {
   "cell_type": "code",
   "execution_count": 119,
   "id": "3a392d88",
   "metadata": {},
   "outputs": [],
   "source": [
    "X_val = df_test.drop([\"id\",\n",
    "                      \"ticket_id\",\n",
    "#                       \"isDayOff\",\n",
    "                      \"day_of_week\",\n",
    "                      \"entrance_nm\",\n",
    "                      \"station_nm\",\n",
    "#                       'start_point',\n",
    "                      \"line_nm\",\n",
    "                      \"pass_dttm\"], axis = 1)"
   ]
  },
  {
   "cell_type": "code",
   "execution_count": 120,
   "id": "aa9c62f3",
   "metadata": {},
   "outputs": [
    {
     "data": {
      "text/html": [
       "<div>\n",
       "<style scoped>\n",
       "    .dataframe tbody tr th:only-of-type {\n",
       "        vertical-align: middle;\n",
       "    }\n",
       "\n",
       "    .dataframe tbody tr th {\n",
       "        vertical-align: top;\n",
       "    }\n",
       "\n",
       "    .dataframe thead th {\n",
       "        text-align: right;\n",
       "    }\n",
       "</style>\n",
       "<table border=\"1\" class=\"dataframe\">\n",
       "  <thead>\n",
       "    <tr style=\"text-align: right;\">\n",
       "      <th></th>\n",
       "      <th>ticket_type_nm</th>\n",
       "      <th>entrance_id</th>\n",
       "      <th>station_id</th>\n",
       "      <th>line_id</th>\n",
       "      <th>geo_lat</th>\n",
       "      <th>geo_lon</th>\n",
       "      <th>geo_dist</th>\n",
       "      <th>day</th>\n",
       "      <th>hours</th>\n",
       "      <th>isDayOff</th>\n",
       "    </tr>\n",
       "  </thead>\n",
       "  <tbody>\n",
       "    <tr>\n",
       "      <th>0</th>\n",
       "      <td>28</td>\n",
       "      <td>110</td>\n",
       "      <td>2006</td>\n",
       "      <td>2</td>\n",
       "      <td>55.818923</td>\n",
       "      <td>37.497791</td>\n",
       "      <td>10.475917</td>\n",
       "      <td>12</td>\n",
       "      <td>5</td>\n",
       "      <td>0</td>\n",
       "    </tr>\n",
       "    <tr>\n",
       "      <th>1</th>\n",
       "      <td>30</td>\n",
       "      <td>184</td>\n",
       "      <td>3010</td>\n",
       "      <td>3</td>\n",
       "      <td>55.741375</td>\n",
       "      <td>37.415627</td>\n",
       "      <td>12.613728</td>\n",
       "      <td>12</td>\n",
       "      <td>5</td>\n",
       "      <td>0</td>\n",
       "    </tr>\n",
       "    <tr>\n",
       "      <th>2</th>\n",
       "      <td>36</td>\n",
       "      <td>110</td>\n",
       "      <td>2006</td>\n",
       "      <td>2</td>\n",
       "      <td>55.818923</td>\n",
       "      <td>37.497791</td>\n",
       "      <td>10.475917</td>\n",
       "      <td>12</td>\n",
       "      <td>5</td>\n",
       "      <td>0</td>\n",
       "    </tr>\n",
       "    <tr>\n",
       "      <th>3</th>\n",
       "      <td>28</td>\n",
       "      <td>107</td>\n",
       "      <td>2018</td>\n",
       "      <td>2</td>\n",
       "      <td>55.805564</td>\n",
       "      <td>37.515245</td>\n",
       "      <td>8.654266</td>\n",
       "      <td>12</td>\n",
       "      <td>5</td>\n",
       "      <td>0</td>\n",
       "    </tr>\n",
       "    <tr>\n",
       "      <th>4</th>\n",
       "      <td>28</td>\n",
       "      <td>110</td>\n",
       "      <td>2006</td>\n",
       "      <td>2</td>\n",
       "      <td>55.818923</td>\n",
       "      <td>37.497791</td>\n",
       "      <td>10.475917</td>\n",
       "      <td>12</td>\n",
       "      <td>5</td>\n",
       "      <td>0</td>\n",
       "    </tr>\n",
       "    <tr>\n",
       "      <th>...</th>\n",
       "      <td>...</td>\n",
       "      <td>...</td>\n",
       "      <td>...</td>\n",
       "      <td>...</td>\n",
       "      <td>...</td>\n",
       "      <td>...</td>\n",
       "      <td>...</td>\n",
       "      <td>...</td>\n",
       "      <td>...</td>\n",
       "      <td>...</td>\n",
       "    </tr>\n",
       "    <tr>\n",
       "      <th>561885</th>\n",
       "      <td>30</td>\n",
       "      <td>279</td>\n",
       "      <td>6007</td>\n",
       "      <td>6</td>\n",
       "      <td>55.656682</td>\n",
       "      <td>37.540075</td>\n",
       "      <td>11.647466</td>\n",
       "      <td>19</td>\n",
       "      <td>1</td>\n",
       "      <td>0</td>\n",
       "    </tr>\n",
       "    <tr>\n",
       "      <th>561886</th>\n",
       "      <td>30</td>\n",
       "      <td>2463</td>\n",
       "      <td>11020</td>\n",
       "      <td>11</td>\n",
       "      <td>55.728707</td>\n",
       "      <td>37.445985</td>\n",
       "      <td>10.968044</td>\n",
       "      <td>19</td>\n",
       "      <td>2</td>\n",
       "      <td>0</td>\n",
       "    </tr>\n",
       "    <tr>\n",
       "      <th>561887</th>\n",
       "      <td>30</td>\n",
       "      <td>64</td>\n",
       "      <td>1012</td>\n",
       "      <td>1</td>\n",
       "      <td>55.676549</td>\n",
       "      <td>37.504584</td>\n",
       "      <td>10.937618</td>\n",
       "      <td>19</td>\n",
       "      <td>2</td>\n",
       "      <td>0</td>\n",
       "    </tr>\n",
       "    <tr>\n",
       "      <th>561888</th>\n",
       "      <td>30</td>\n",
       "      <td>285</td>\n",
       "      <td>6009</td>\n",
       "      <td>6</td>\n",
       "      <td>55.631857</td>\n",
       "      <td>37.519156</td>\n",
       "      <td>14.708368</td>\n",
       "      <td>19</td>\n",
       "      <td>2</td>\n",
       "      <td>0</td>\n",
       "    </tr>\n",
       "    <tr>\n",
       "      <th>561889</th>\n",
       "      <td>30</td>\n",
       "      <td>184</td>\n",
       "      <td>3010</td>\n",
       "      <td>3</td>\n",
       "      <td>55.741375</td>\n",
       "      <td>37.415627</td>\n",
       "      <td>12.613728</td>\n",
       "      <td>19</td>\n",
       "      <td>3</td>\n",
       "      <td>0</td>\n",
       "    </tr>\n",
       "  </tbody>\n",
       "</table>\n",
       "<p>561890 rows × 10 columns</p>\n",
       "</div>"
      ],
      "text/plain": [
       "        ticket_type_nm  entrance_id  station_id  line_id    geo_lat  \\\n",
       "0                   28          110        2006        2  55.818923   \n",
       "1                   30          184        3010        3  55.741375   \n",
       "2                   36          110        2006        2  55.818923   \n",
       "3                   28          107        2018        2  55.805564   \n",
       "4                   28          110        2006        2  55.818923   \n",
       "...                ...          ...         ...      ...        ...   \n",
       "561885              30          279        6007        6  55.656682   \n",
       "561886              30         2463       11020       11  55.728707   \n",
       "561887              30           64        1012        1  55.676549   \n",
       "561888              30          285        6009        6  55.631857   \n",
       "561889              30          184        3010        3  55.741375   \n",
       "\n",
       "          geo_lon   geo_dist  day  hours  isDayOff  \n",
       "0       37.497791  10.475917   12      5         0  \n",
       "1       37.415627  12.613728   12      5         0  \n",
       "2       37.497791  10.475917   12      5         0  \n",
       "3       37.515245   8.654266   12      5         0  \n",
       "4       37.497791  10.475917   12      5         0  \n",
       "...           ...        ...  ...    ...       ...  \n",
       "561885  37.540075  11.647466   19      1         0  \n",
       "561886  37.445985  10.968044   19      2         0  \n",
       "561887  37.504584  10.937618   19      2         0  \n",
       "561888  37.519156  14.708368   19      2         0  \n",
       "561889  37.415627  12.613728   19      3         0  \n",
       "\n",
       "[561890 rows x 10 columns]"
      ]
     },
     "execution_count": 120,
     "metadata": {},
     "output_type": "execute_result"
    }
   ],
   "source": [
    "X_val"
   ]
  },
  {
   "cell_type": "code",
   "execution_count": 121,
   "id": "12d7cd7d",
   "metadata": {},
   "outputs": [],
   "source": [
    "pred_class = model.predict(X_val)\n",
    "pred_reg = reg_cat.predict(X_val)"
   ]
  },
  {
   "cell_type": "code",
   "execution_count": 122,
   "id": "2a1b7ff2",
   "metadata": {},
   "outputs": [
    {
     "name": "stdout",
     "output_type": "stream",
     "text": [
      "25_11_2022 15_03\n",
      "561890\n",
      "561890\n",
      "561890\n"
     ]
    }
   ],
   "source": [
    "if is_save_result:\n",
    "      \n",
    "    indexes = df_test['id'].to_numpy()\n",
    "    submit_df = pd.DataFrame([[id_, time_to_under, label] for id_, time_to_under, label in zip(indexes,\n",
    "                                                                                               pred_reg,\n",
    "                                                                                               pred_class)],\n",
    "                             columns=['id','time_to_under', 'label'])\n",
    "    \n",
    "    now_time = datetime.now().strftime(\"%d_%m_%Y %H_%M\")\n",
    "    os.mkdir(now_time)\n",
    "    submit_df.to_csv(f\"{now_time}/submit_{now_time}.csv\", index=False)\n",
    "    with open(f'{now_time}/parametrs.txt', 'w') as file:\n",
    "        file.write('clf_params()')\n",
    "        file.write(json.dumps(model.get_params(), indent=4))\n",
    "        file.write('\\n'+'reg_params()')\n",
    "        file.write(json.dumps(reg_cat.get_params(), indent=4))\n",
    "\n",
    "    with open(f'{now_time}/results.txt', 'w') as file:\n",
    "        file.write(f'Score_recall (clf): {score_recall}')\n",
    "        file.write('\\n'+f'Score_r2 (reg): {score_r2}')\n",
    "        file.write('\\n'+f'Score: {score}')\n",
    "        \n",
    "    print(now_time)\n",
    "    print(len(indexes))\n",
    "    print(len(pred_reg))\n",
    "    print(len(pred_class))"
   ]
  },
  {
   "cell_type": "code",
   "execution_count": 123,
   "id": "2693b31c",
   "metadata": {},
   "outputs": [],
   "source": [
    "sol_df = pd.read_csv(f\"{now_time}/submit_{now_time}.csv\")\n",
    "sol_df['label'] = sol_df['label'].apply(lambda x: int(x.replace('[','').replace(']','')))\n",
    "sol_df.to_csv(f\"{now_time}/submit_{now_time}.csv\", index=False)"
   ]
  },
  {
   "cell_type": "code",
   "execution_count": null,
   "id": "adf6209f",
   "metadata": {},
   "outputs": [],
   "source": []
  }
 ],
 "metadata": {
  "kernelspec": {
   "display_name": "digital",
   "language": "python",
   "name": "digital"
  },
  "language_info": {
   "codemirror_mode": {
    "name": "ipython",
    "version": 3
   },
   "file_extension": ".py",
   "mimetype": "text/x-python",
   "name": "python",
   "nbconvert_exporter": "python",
   "pygments_lexer": "ipython3",
   "version": "3.10.0"
  }
 },
 "nbformat": 4,
 "nbformat_minor": 5
}
